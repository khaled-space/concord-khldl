{
 "cells": [
  {
   "cell_type": "markdown",
   "metadata": {},
   "source": [
    "This notebook is intended as a companion to the paper \"Robust inference of neutron-star parameters from thermonuclear burst observations\" by D. K. Galloway et al., and includes simple examples of using methods as part of the `concord` repository to demonstrate the inference of neutron star properties & burst fuel composition from observations and comparison with simulated data. \n",
    "\n",
    "The sections below largely follow the discussion in the paper, and include examples of data analysis from \n",
    "1. IGR J00291+5934\n",
    "1. XMMU J181227.8-181234 (= XTE J1812-182)\n",
    "1. SAX J1810.8-2609\n",
    "1. IGR J17591-2342\n",
    "\n",
    "The analysis approaches are broken into cases where you have 0, 1, 2 or more bursts; and for 2 or more, you can divide further into cases where you have no adjacent bursts, but can estimate an average recurrence time (e.g. in the case of XMMU J181227.8-181234; goodwin19b). See below for these examples\n",
    "\n",
    "### Future work\n",
    "\n",
    "* Add in a routine to do the distance estimate as for XMMU J181227.8-181234, where you compare the mdot implied by the burst recurrence time to the persistent flux\n",
    "\n",
    "### Modification history\n",
    "\n",
    "`hfrac` has been further updated to calculate the H-fraction even when the hydrogen is exhausted at the base\n",
    "\n",
    "The `hfrac` function and the results have been updated for the new $Q_{\\rm nuc}$ coefficients derived by Adelle on 25/6/18\n",
    "\n",
    "### Functions\n",
    "\n",
    "Here we define the routine(s) that do the heavy lifting; as of 2019 Aug these have been incorporated into `concord`\n",
    "\n",
    "```\n",
    "Q_nuc\n",
    "hfrac\n",
    "iso_dist\n",
    "dist\n",
    "mdot\n",
    "yign\n",
    "L_Edd\n",
    "```"
   ]
  },
  {
   "cell_type": "code",
   "execution_count": 1,
   "metadata": {
    "collapsed": false
   },
   "outputs": [],
   "source": [
    "import concord as cd\n",
    "import astropy.constants as const\n",
    "import matplotlib.pyplot as plt\n",
    "from scipy.stats import poisson\n",
    "\n",
    "from chainconsumer import ChainConsumer\n",
    "from numpy.random import normal, multivariate_normal\n",
    "\n",
    "%matplotlib inline\n",
    "\n",
    "flux_unit = u.erg/u.cm**2/u.s\n",
    "mdot_Edd = 8.8e4*u.g/u.cm**2/u.s"
   ]
  },
  {
   "cell_type": "markdown",
   "metadata": {},
   "source": [
    "## Zero bursts\n",
    "\n",
    "Here we compare the results from a study of the accretion-powered millisecond pulsar IGR J00291+5934, as published in gal06b; along with pointers to Adelle's version of settle. Can compare the earlier work with the subsequent detection of a burst from the source [kuin15](http://www.astronomerstelegram.org/?read=7849), with distance derivation"
   ]
  },
  {
   "cell_type": "code",
   "execution_count": 2,
   "metadata": {
    "collapsed": false
   },
   "outputs": [
    {
     "name": "stdout",
     "output_type": "stream",
     "text": [
      "1.0 0.25881904510252074\n",
      "0.9271838545667874 0.848048096156426\n",
      "Distance range including inclination constraints is 5.00_-0.48^0.66 kpc\n",
      "  incorporates model-predicted anisotropy averaging xi_b = 0.704\n",
      "0.5004\n"
     ]
    },
    {
     "data": {
      "text/plain": [
       "<matplotlib.lines.Line2D at 0x122dcebe0>"
      ]
     },
     "execution_count": 2,
     "metadata": {},
     "output_type": "execute_result"
    },
    {
     "data": {
      "image/png": "[encoded data removed]",
      "text/plain": [
       "<Figure size 432x288 with 1 Axes>"
      ]
     },
     "metadata": {
      "needs_background": "light"
     },
     "output_type": "display_data"
    }
   ],
   "source": [
    "src = 'IGR J00291+5934'\n",
    "F_pk, F_pk_err = 18, 4 # 1e-8 erg/cm^2/s; \n",
    "\n",
    "F_pk *= 1e-8*flux_unit\n",
    "F_pk_err *= 1e-8*flux_unit\n",
    "\n",
    "# Generate the distance distributions based on the peak flux, and the\n",
    "# empirical Eddington luminosity; two options here, the first with no\n",
    "# constraints on the inclination, the second imposing the inferred\n",
    "# inclination range of torres08, of 22-32 degrees\n",
    "\n",
    "dist_all = cd.dist(F_pk, F_pk_err, empirical=True, fulldist=True)\n",
    "dist = cd.dist(F_pk, F_pk_err, empirical=True, fulldist=True, imin=22, imax=32)#, plot=True)\n",
    "\n",
    "# Display the best estimate of the plausible range\n",
    "\n",
    "dper = np.percentile(dist['dist'],(50,16,84))\n",
    "print ('''Distance range including inclination constraints is {:.2f}_{:.2f}^{:.2f} kpc\n",
    "  incorporates model-predicted anisotropy averaging xi_b = {:.3f}'''.format(\n",
    "    dper[0],(dper[1]-dper[0]),dper[2]-dper[0],np.mean(dist['xi_b'])))\n",
    "print (len(np.where(dist['dist'] > 5.*u.kpc)[0])/len(dist['dist']))\n",
    "\n",
    "# Plot to compare the 2 distributions\n",
    "\n",
    "fig1 = plt.figure()\n",
    "plt.hist(dist_all['dist'].value,bins=np.arange(40)/5.,density=True)\n",
    "plt.hist(dist['dist'].value,bins=np.arange(40)/5.,alpha=0.7,density=True)\n",
    "plt.xlim(2.5,8)\n",
    "plt.xlabel('Distance (kpc)')\n",
    "plt.text(7.7, .67, src, horizontalalignment='right')\n",
    "\n",
    "plt.axvline(dper[0],color='g')\n",
    "plt.axvline(dper[1],color='g',ls='--')\n",
    "plt.axvline(dper[2],color='g',ls='--')\n",
    "\n",
    "# fig1.savefig(\"fig1.pdf\", bbox_inches='tight')"
   ]
  },
  {
   "cell_type": "markdown",
   "metadata": {},
   "source": [
    "## 1 burst\n",
    "\n",
    "Here I follow through the analysis of the (single) burst from IGR J17591-2342, from Table 3 of Kuiper et al. 2020 (https://arxiv.org/abs/2002.12154)"
   ]
  },
  {
   "cell_type": "code",
   "execution_count": 3,
   "metadata": {
    "collapsed": true
   },
   "outputs": [],
   "source": [
    "src = 'IGR J17591-2342'\n",
    "t0 = 58380.96358 # MJD\n",
    "instr = 'IJ1'\n",
    "\n",
    "F_pk, F_pk_err = 7.6, 1.4 # 1e-8 erg/cm^2/s\n",
    "F_pers, F_pers_err = 1.2, 0.2 # 1e-9 erg/cm^2/s\n",
    "E_b, E_b_err = 1.1, 0.1 # 1e-6 erg/cm^2\n",
    "\n",
    "# Apply the units\n",
    "\n",
    "F_pk *= 1e-8*flux_unit\n",
    "F_pk_err *= 1e-8*flux_unit\n",
    "F_pers *= 1e-9*flux_unit\n",
    "F_pers_err *= 1e-9*flux_unit\n",
    "E_b *= 1e-6*u.erg/u.cm**2\n",
    "E_b_err *= 1e-6*u.erg/u.cm**2"
   ]
  },
  {
   "cell_type": "code",
   "execution_count": 4,
   "metadata": {
    "collapsed": false
   },
   "outputs": [
    {
     "name": "stdout",
     "output_type": "stream",
     "text": [
      "0.9135454576426009 0.8660254037844387\n",
      "Distance limits including inclination constraint 7.70_-0.62^+0.83 kpc (100000 samples);\n",
      "  with burst anisotropy factor averaging xi_b = 0.70\n",
      "\n",
      "Accretion rate implied from persistent flux, including xi_p = 0.47 is 1926.60_-419.63^+559.11 g / (cm2 s)\n",
      "  or 0.022_-0.005^+0.006 cm2 s / g in units of the Eddington accretion rate\n"
     ]
    },
    {
     "data": {
      "image/png": "[encoded data removed]",
      "text/plain": [
       "<Figure size 432x288 with 1 Axes>"
      ]
     },
     "metadata": {
      "needs_background": "light"
     },
     "output_type": "display_data"
    }
   ],
   "source": [
    "# There is a rough limit of 28-30 degrees for the inclination\n",
    "# We can use that to constrain the various system parameters we've derived\n",
    "# Use 100000 samples to make the figure for publication, with slightly smoother\n",
    "# distributions\n",
    "\n",
    "dist2 = cd.dist(F_pk, F_pk_err, empirical=True, fulldist=True, imin=24, imax=30)#, nsamp=100000)\n",
    "\n",
    "plt.hist(dist2['dist'].value,density=True,bins=20)\n",
    "dper = np.percentile(dist2['dist'],(50,16,84))\n",
    "plt.axvline(dper[0],color='g')\n",
    "plt.axvline(dper[1],color='g',ls='--')\n",
    "plt.axvline(dper[2],color='g',ls='--')\n",
    "# xiper = np.percentile(dist2['xi_b'][g],(50,16,84))\n",
    "\n",
    "# These values for the paper\n",
    "\n",
    "print ('''Distance limits including inclination constraint {:.2f}_{:.2f}^{:+.2f} kpc ({} samples);\n",
    "  with burst anisotropy factor averaging xi_b = {:.2f}'''.format(\n",
    "    dper[0], dper[1]-dper[0], dper[2]-dper[0], len(dist2['dist']),\n",
    "    np.mean(dist2['xi_b'])))\n",
    "\n",
    "# Estimate the accretion rate\n",
    "\n",
    "m2 = cd.mdot(F_pers,F_pers_err,dist2['dist'],inclination=dist2['i'],fulldist=True)\n",
    "\n",
    "mdot = np.percentile(m2['mdot'],(50,16,84))\n",
    "print ('''\n",
    "Accretion rate implied from persistent flux, including xi_p = {:.2f} is {:.2f}_{:.2f}^{:+.2f} {}\n",
    "  or {:.3f}_{:.3f}^{:+.3f} in units of the Eddington accretion rate'''.format(\n",
    "    np.mean(m2['xi_p']),mdot[0],mdot[1]-mdot[0],mdot[2]-mdot[0],m2['mdot'].unit,\n",
    "          (mdot[0]/mdot_Edd).value,((mdot[1]-mdot[0])/mdot_Edd).value,(mdot[2]-mdot[0])/mdot_Edd))"
   ]
  },
  {
   "cell_type": "code",
   "execution_count": 5,
   "metadata": {
    "collapsed": false
   },
   "outputs": [
    {
     "name": "stdout",
     "output_type": "stream",
     "text": [
      "\n",
      "Improved value including inclination constraints; 1928_424^557 g / (cm2 s)\n"
     ]
    },
    {
     "data": {
      "text/plain": [
       "<matplotlib.lines.Line2D at 0x123f63d68>"
      ]
     },
     "execution_count": 5,
     "metadata": {},
     "output_type": "execute_result"
    },
    {
     "data": {
      "image/png": "[encoded data removed]",
      "text/plain": [
       "<Figure size 432x288 with 1 Axes>"
      ]
     },
     "metadata": {
      "needs_background": "light"
     },
     "output_type": "display_data"
    }
   ],
   "source": [
    "# More realistic calculation, propagating through the distance estimates, which include\n",
    "# dependence on the inclination; now with the narrower range\n",
    "\n",
    "m2 = cd.mdot(F_pers,F_pers_err,dist2['dist'],inclination=dist2['i'],fulldist=True)\n",
    "\n",
    "m2_plot = plt.hist(m2['mdot'].value,bins=40,density=True)\n",
    "plt.xlabel('$\\dot{M}$ (g/cm^2)')\n",
    "m, m16, m84 = np.percentile(m2['mdot'],[50,16,84])\n",
    "print ('''\n",
    "Improved value including inclination constraints; {:.0f}_{:.0f}^{:.0f} g / (cm2 s)'''.format(\n",
    "        m,m-m16,m84-m))\n",
    "plt.axvline(np.percentile(m2['mdot'],50),color='g')\n",
    "plt.axvline(np.percentile(m2['mdot'],16),color='g',ls='--')\n",
    "plt.axvline(np.percentile(m2['mdot'],84),color='g',ls='--')"
   ]
  },
  {
   "cell_type": "code",
   "execution_count": 7,
   "metadata": {
    "collapsed": false
   },
   "outputs": [
    {
     "name": "stdout",
     "output_type": "stream",
     "text": [
      "\n",
      "Ignition column is 2.16_-0.80^+1.36 e8 g / cm2\n",
      "\n",
      "Inferred recurrence time is 1.78 +/- 0.72 d\n"
     ]
    },
    {
     "data": {
      "image/png": "[encoded data removed]",
      "text/plain": [
       "<Figure size 432x432 with 16 Axes>"
      ]
     },
     "metadata": {
      "needs_background": "light"
     },
     "output_type": "display_data"
    }
   ],
   "source": [
    "# This calculation determines the ignition column; in the absence of a value for Xbar, \n",
    "# a random distribution of values is used\n",
    "# A uniform distribution of Xbar is not realistic, but it's hard to do better\n",
    "# also, large values of Xbar are suppressed by the limit on X_0, down the track\n",
    "\n",
    "nsamp = len(dist2['dist'])\n",
    "Xbar = np.random.random(nsamp)*0.7\n",
    "\n",
    "# Calculate the ignition column\n",
    "\n",
    "y2 = cd.yign(E_b, E_b_err, dist2['dist'], inclination=dist2['i'], Xbar=Xbar, fulldist=True)\n",
    "\n",
    "# Now the recurrence time\n",
    "\n",
    "dt1 = y2['yign']/m2['mdot']*1.259\n",
    "\n",
    "# The combination of Xbar and recurrence time constrain X_0 and Z_CNO. \n",
    "# For each pair, we calculate the values here\n",
    "\n",
    "Z_CNO = np.random.random(nsamp)*0.02\n",
    "\n",
    "x_0 = np.zeros(nsamp)\n",
    "for i in range(nsamp):\n",
    "    x_0[i] = cd.X_0(Xbar[i],Z_CNO[i],dt1[i].to('hr'))\n",
    "\n",
    "# We restrict to physical values i.e. x_0 < 0.75\n",
    "\n",
    "g = np.where(x_0 < 0.75)[0]\n",
    "\n",
    "yign = np.percentile(y2['yign'][g]/1e8,(50,16,84))\n",
    "print('''\n",
    "Ignition column is {:.2f}_{:.2f}^{:+.2f} e8 {}'''.format(\n",
    "    yign[0],yign[1]-yign[0],yign[2]-yign[0],y2['yign'].unit))\n",
    "\n",
    "print('''\n",
    "Inferred recurrence time is {:.2f} +/- {:.2f}'''.format(\n",
    "    np.mean(dt1[g]).to('d').value,np.std(dt1).to('d')))\n",
    "\n",
    "# using instead chainconsumer to plot; see \n",
    "# https://samreay.github.io/ChainConsumer/examples/customisations/plot_one_chain.html\n",
    "\n",
    "data = np.vstack((Xbar[g], x_0[g], Z_CNO[g], dt1[g].to('day'))).T\n",
    "\n",
    "# If you pass in parameter labels and only one chain, you can also get parameter bounds\n",
    "fig = ChainConsumer().add_chain(data, \n",
    "                                parameters=[\"$\\overline{X}$\", \"$X_0$\", \"$Z_\\mathrm{CNO}$\", \"$\\Delta t$\"]).plotter.plot(\n",
    "# uncomment the following line to save the plot\n",
    "#                                filename='igrJ17591-2342.pdf'\n",
    "                                )\n"
   ]
  },
  {
   "cell_type": "markdown",
   "metadata": {},
   "source": [
    "## Older analysis below\n",
    "\n",
    "done up to this point following along with the paper, 2020 May"
   ]
  },
  {
   "cell_type": "code",
   "execution_count": 5,
   "metadata": {
    "collapsed": false
   },
   "outputs": [
    {
     "name": "stdout",
     "output_type": "stream",
     "text": [
      "Paper distance estimate for empirical Eddington flux, pure He;\n",
      "  6.5 \\pm 0.3 kpc, compared to my calculation 6.46 \\pm 0.61 kpc\n",
      "  (not sure why error seems to be a factor of 2 too small)\n",
      "1.0 0.25881904510252074\n",
      "Taking into account anisotropy (for all possible inclinations), 6.80_1.00^1.10 kpc\n",
      "1.0 0.25881904510252074\n"
     ]
    },
    {
     "data": {
      "text/plain": [
       "<matplotlib.lines.Line2D at 0x116e78208>"
      ]
     },
     "execution_count": 5,
     "metadata": {},
     "output_type": "execute_result"
    },
    {
     "data": {
      "image/png": "[encoded data removed]",
      "text/plain": [
       "<Figure size 432x288 with 1 Axes>"
      ]
     },
     "metadata": {
      "needs_background": "light"
     },
     "output_type": "display_data"
    }
   ],
   "source": [
    "# This is the older analysis which replicate's Maurizio's original analysis\n",
    "\n",
    "# Determine the distance; Maurizio gets 6.5 \\pm 0.3 kpc (pure He)\n",
    "# Compare what's in the curent paper draft\n",
    "\n",
    "dhe0, dhe0_err = cd.dist(F_pk, F_pk_err, empirical=True, isotropic=True)\n",
    "print ('''Paper distance estimate for empirical Eddington flux, pure He;\n",
    "  6.5 \\pm 0.3 kpc, compared to my calculation {:.2f} \\pm {:.2f}\n",
    "  (not sure why error seems to be a factor of 2 too small)'''.format( dhe0.value, dhe0_err ))\n",
    "\n",
    "# A \"better\" estimate is as follows\n",
    "\n",
    "dhe, dhe_err = cd.dist(F_pk, F_pk_err, empirical=True)\n",
    "print ('Taking into account anisotropy (for all possible inclinations), {:.2f}_{:.2f}^{:.2f}'.format(\n",
    "    dhe.value, -dhe_err[0].value, dhe_err[1]))\n",
    "\n",
    "# And we now have a constraint on the inclination, 28-30 degrees, from Sanna et al;\n",
    "# see the block below for those calculations\n",
    "\n",
    "# ... and can get the full distribution like so\n",
    "\n",
    "dist2 = cd.dist(F_pk, F_pk_err, empirical=True, fulldist=True, plot=True)\n",
    "#print (len(dist2['dist']))\n",
    "plt.axvline(dhe0.value,color='r')\n",
    "plt.axvline((dhe0-dhe0_err).value,color='r',ls='--')\n",
    "plt.axvline((dhe0+dhe0_err).value,color='r',ls='--')\n",
    "\n",
    "# dist2['dist']\n",
    "\n",
    "# Check the prefactor in the paper\n",
    "\n",
    "# dist(3e-8*u.erg/u.cm**2/u.s, 0.0)"
   ]
  },
  {
   "cell_type": "code",
   "execution_count": 2,
   "metadata": {
    "collapsed": false
   },
   "outputs": [
    {
     "name": "stdout",
     "output_type": "stream",
     "text": [
      "1.0 0.25881904510252074\n"
     ]
    },
    {
     "data": {
      "text/plain": [
       "[<matplotlib.lines.Line2D at 0x1167a8550>]"
      ]
     },
     "execution_count": 2,
     "metadata": {},
     "output_type": "execute_result"
    },
    {
     "data": {
      "image/png": "[encoded data removed]",
      "text/plain": [
       "<Figure size 432x288 with 1 Axes>"
      ]
     },
     "metadata": {
      "needs_background": "light"
     },
     "output_type": "display_data"
    }
   ],
   "source": [
    "# Testing the idist function here\n",
    "\n",
    "x = cd.iso_dist(nsamp=100000)\n",
    "x.unit\n",
    "plt.hist(x.value,bins=20,density=True)\n",
    "plt.plot(x.value,np.sin(x.value/180.*np.pi)/43,'.')"
   ]
  },
  {
   "cell_type": "code",
   "execution_count": 3,
   "metadata": {
    "collapsed": false
   },
   "outputs": [
    {
     "name": "stdout",
     "output_type": "stream",
     "text": [
      "0.17364817766693041 6.123233995736766e-17\n",
      "Trying to replicate Hauke's latest analysis for the Eddington luminosity for 4U 0513-40\n",
      "  Isotropic L_Edd = (2.82 \\pm 0.32)e38 erg/s\n",
      "  Including inclination constraints L_Edd = (4.96_-0.64^0.69)e38 erg/s\n"
     ]
    },
    {
     "data": {
      "image/png": "[encoded data removed]",
      "text/plain": [
       "<Figure size 432x288 with 1 Axes>"
      ]
     },
     "metadata": {
      "needs_background": "light"
     },
     "output_type": "display_data"
    }
   ],
   "source": [
    "# Testing the L_Edd function with inclination limits\n",
    "\n",
    "src ='4U 0513-40'\n",
    "flux_unit = 1e-9*u.erg/u.cm**2/u.s\n",
    "L_Edd1, L_Edd1_err = cd.L_Edd(22.2*flux_unit, 2.4*flux_unit, 10.3*u.kpc, 0.2*u.kpc, isotropic=True)\n",
    "L_Edd2 = cd.L_Edd(22.2*flux_unit, 2.4*flux_unit, 10.3*u.kpc, 0.2*u.kpc, imin=80, imax=90, fulldist=True)\n",
    "\n",
    "res = np.percentile(L_Edd2['L_Edd'],(50,16,84))/1e38\n",
    "ledd_plot = plt.hist(L_Edd2['L_Edd'].value,bins=40,density=True)\n",
    "plt.axvline(res[0]*1e38,color='g')\n",
    "plt.axvline(res[1]*1e38,color='g',ls='--')\n",
    "plt.axvline(res[2]*1e38,color='g',ls='--')\n",
    "plt.axvline(L_Edd1.value,color='r')\n",
    "plt.axvline((L_Edd1+L_Edd1_err).value,color='r',ls='--')\n",
    "plt.axvline((L_Edd1-L_Edd1_err).value,color='r',ls='--')\n",
    "\n",
    "print('''Trying to replicate Hauke's latest analysis for the Eddington luminosity for {}\n",
    "  Isotropic L_Edd = ({:.2f} \\pm {:.2f})e38 erg/s\n",
    "  Including inclination constraints L_Edd = ({:.2f}_{:.2f}^{:.2f})e38 erg/s'''.format(src, \n",
    "                                            L_Edd1.value/1e38, L_Edd1_err.value/1e38,\n",
    "                                            res[0],(res[1]-res[0]),res[2]-res[0]))"
   ]
  },
  {
   "cell_type": "code",
   "execution_count": 16,
   "metadata": {
    "collapsed": false
   },
   "outputs": [
    {
     "data": {
      "text/plain": [
       "<matplotlib.lines.Line2D at 0x1180f4b70>"
      ]
     },
     "execution_count": 16,
     "metadata": {},
     "output_type": "execute_result"
    },
    {
     "data": {
      "image/png": "[encoded data removed]",
      "text/plain": [
       "<Figure size 432x288 with 1 Axes>"
      ]
     },
     "metadata": {
      "needs_background": "light"
     },
     "output_type": "display_data"
    }
   ],
   "source": [
    "# Show here the relation between the inclination angle and the distance\n",
    "\n",
    "plt.plot(dist2['i'],dist2['dist'],'.')\n",
    "plt.xlabel('Inclination (deg)')\n",
    "plt.ylabel('Distance (kpc)')\n",
    "plt.axvline(28,color='g')\n",
    "plt.axvline(30,color='g')"
   ]
  },
  {
   "cell_type": "code",
   "execution_count": 18,
   "metadata": {
    "collapsed": false
   },
   "outputs": [
    {
     "name": "stdout",
     "output_type": "stream",
     "text": [
      "Paper ignition column estimate for d=6.5 kpc, He burning (Q_nuc = 1.60 MeV/nucleon):\n",
      "  3.7E8 g/cm^2, compared to my (isotropic) calculation 3.70e+08 \\pm 3.36e+07 g / cm2;\n",
      "  or for H-burning, with Xbar set so that Q_nuc = 4.40 MeV/nucleon; \n",
      "  0.5E8 g/cm^2, compared to 1.34e+08 \\pm 1.22e+07 g / cm2\n"
     ]
    },
    {
     "data": {
      "text/plain": [
       "<matplotlib.lines.Line2D at 0x118498550>"
      ]
     },
     "execution_count": 18,
     "metadata": {},
     "output_type": "execute_result"
    },
    {
     "data": {
      "image/png": "[encoded data removed]",
      "text/plain": [
       "<Figure size 432x288 with 1 Axes>"
      ]
     },
     "metadata": {
      "needs_background": "light"
     },
     "output_type": "display_data"
    }
   ],
   "source": [
    "# Ignition column\n",
    "# to get the same calculation as in the paper, we need to fudge the Xbar value to get\n",
    "# Q_nuc = 4.4\n",
    "\n",
    "Xbar = 0.5191\n",
    "# print (\"{} =? 4.4\".format(1.31+6.95*Xbar-1.92*Xbar**2))\n",
    "Xbar2 = 0.04222\n",
    "# print (\"{} =? 1.6\".format(1.31+6.95*Xbar2-1.92*Xbar2**2))\n",
    "       \n",
    "yhe, yhe_err = cd.yign(E_b, E_b_err, 6.5*u.kpc, Xbar=Xbar2, isotropic=True)\n",
    "yh, yh_err = cd.yign(E_b, E_b_err, 6.5*u.kpc, Xbar=Xbar, isotropic=True)\n",
    "print ('''Paper ignition column estimate for d={} kpc, He burning (Q_nuc = {:.2f} MeV/nucleon):\n",
    "  3.7E8 g/cm^2, compared to my (isotropic) calculation {:.2e} \\pm {:.2e};\n",
    "  or for H-burning, with Xbar set so that Q_nuc = {:.2f} MeV/nucleon; \n",
    "  0.5E8 g/cm^2, compared to {:.2e} \\pm {:.2e}'''.format( \n",
    "    6.5, 1.31+6.95*Xbar2-1.92*Xbar2**2, yhe.value, yhe_err, 1.31+6.95*Xbar-1.92*Xbar**2, yh.value, yh_err ))\n",
    "\n",
    "# For comparison, we here determine an updated version\n",
    "\n",
    "y2 = cd.yign(E_b, E_b_err, dist2['dist'], inclination=dist2['i'], fulldist=True)\n",
    "# print (\"{:.3e}\".format(y1))\n",
    "\n",
    "y2_plot = plt.hist(y2['yign'].value,bins=40)\n",
    "plt.axvline(np.percentile(y2['yign'],50),color='g')\n",
    "plt.axvline(np.percentile(y2['yign'],16),color='g',ls='--')\n",
    "plt.axvline(np.percentile(y2['yign'],84),color='g',ls='--')\n",
    "\n",
    "plt.axvline(yh.value,color='r')\n",
    "plt.axvline((yh-yh_err).value,color='r',ls='--')\n",
    "plt.axvline((yh+yh_err).value,color='r',ls='--')"
   ]
  },
  {
   "cell_type": "code",
   "execution_count": 19,
   "metadata": {
    "collapsed": false
   },
   "outputs": [
    {
     "name": "stdout",
     "output_type": "stream",
     "text": [
      "Recurrence times are 1.92 d and 0.70 d, respectively\n"
     ]
    },
    {
     "data": {
      "text/plain": [
       "<matplotlib.lines.Line2D at 0x1185f29e8>"
      ]
     },
     "execution_count": 19,
     "metadata": {},
     "output_type": "execute_result"
    },
    {
     "data": {
      "image/png": "[encoded data removed]",
      "text/plain": [
       "<Figure size 432x288 with 1 Axes>"
      ]
     },
     "metadata": {
      "needs_background": "light"
     },
     "output_type": "display_data"
    }
   ],
   "source": [
    "# Then can estimate recurrence time; first option follows the \"naive\" calculation\n",
    "\n",
    "dt0_hi, dt0_lo = (yhe/m1*1.31).to('d'), (yh/m1*1.31).to('d')\n",
    "print (\"Recurrence times are {:.2f} and {:.2f}, respectively\".format(\n",
    "    dt0_hi, dt0_lo ))\n",
    "\n",
    "# Now do a more robust one\n",
    "\n",
    "dt1 = y2['yign']/m2['mdot']*1.31\n",
    "\n",
    "plt.hist(dt1.to('d').value,bins=40,density=True)\n",
    "plt.xlabel('Recurrence time (d)')\n",
    "plt.axvline(np.percentile(dt1.to('d'),50),color='g')\n",
    "plt.axvline(np.percentile(dt1.to('d'),16),color='g',ls='--')\n",
    "plt.axvline(np.percentile(dt1.to('d'),84),color='g',ls='--')\n",
    "\n",
    "plt.axvline(dt0_hi.value,color='r')#,ls='--')\n",
    "plt.axvline(dt0_lo.value,color='r')#,ls='--')\n",
    "\n"
   ]
  },
  {
   "cell_type": "code",
   "execution_count": 92,
   "metadata": {
    "collapsed": false
   },
   "outputs": [
    {
     "name": "stdout",
     "output_type": "stream",
     "text": [
      "[0.16500086 0.73060055]\n",
      "[0.00049733 0.01677256]\n"
     ]
    },
    {
     "data": {
      "image/png": "[encoded data removed]",
      "text/plain": [
       "<Figure size 432x288 with 1 Axes>"
      ]
     },
     "metadata": {
      "needs_background": "light"
     },
     "output_type": "display_data"
    }
   ],
   "source": [
    "# plt.plot(x_0,Xbar,'.')\n",
    "plt.hist(Xbar)\n",
    "plt.hist(Xbar[g])\n",
    "\n",
    "x95 = np.percentile(x_0[g],[5,95])\n",
    "print (x95)\n",
    "z95 = np.percentile(Z_CNO[g],[5,95])\n",
    "print (z95)"
   ]
  },
  {
   "cell_type": "markdown",
   "metadata": {},
   "source": [
    "## 2 (or more) bursts\n",
    "\n",
    "See the example for XMMU J181227.8-181234 below. Here 6 bursts were observed over an exposure time of 0.3446 d, with many gaps in between. So we compute a distribution of mean recurrence times consistent with the measurements, and propagate this distribution through to the rest of the calculation"
   ]
  },
  {
   "cell_type": "code",
   "execution_count": 11,
   "metadata": {
    "collapsed": false
   },
   "outputs": [
    {
     "name": "stdout",
     "output_type": "stream",
     "text": [
      "Assumed M_NS = 1.4 solMass, R_NS = 11.2000 km, 1+z = 1.2590, Z_CNO = 0.02\n",
      "6.6739999999999995 4.446 9.470320000000001\n",
      "Synthetic distribution of tdel has 1.378_-0.505^0.482 h\n",
      "alpha = 574.85 (68% range 354.58-987.74)\n"
     ]
    },
    {
     "data": {
      "image/png": "[encoded data removed]",
      "text/plain": [
       "<Figure size 432x288 with 1 Axes>"
      ]
     },
     "metadata": {
      "needs_background": "light"
     },
     "output_type": "display_data"
    }
   ],
   "source": [
    "# Observations\n",
    "\n",
    "exp = (0.3446*u.d).to('hr') # total exposure\n",
    "nburst = 6 # total number of bursts observed (excluding SWT bursts)\n",
    "\n",
    "fluen, fluene = 24.1, 7.3 # 1e-9 erg/cm^2\n",
    "# fluen *= 2. # for testing\n",
    "# fluene *=2.\n",
    "# tdel, tdel_err = 1.38*u.hr, 0.56*u.hr\n",
    "pflux, pfluxe = 1.19, 0.16 # 1e-9 erg/cm^2/s\n",
    "bc = 2.522\n",
    "f_unit = 1e-9*u.erg/u.cm**2\n",
    "\n",
    "# Assumptions here\n",
    "\n",
    "opz_def = cd.opz(1.4*const.M_sun,11.2*u.km)\n",
    "\n",
    "xmax = 0.77\n",
    "zcno_def = 0.02\n",
    "# zcno_def = 0.05 # acceptance fraction up to 13%\n",
    "nbin=10000\n",
    "\n",
    "# some tests here\n",
    "\n",
    "# opz_def*=1.1\n",
    "\n",
    "z_def = opz_def-1.\n",
    "print (\"Assumed M_NS = {}, R_NS = {:.4f}, 1+z = {:.4f}, Z_CNO = {}\".format(\n",
    "#    M_NS,R_NS,1.+z_def,zcno_def))\n",
    "    1.4*u.M_sun,11.2*u.km,1.+z_def,zcno_def))\n",
    "\n",
    "# Estimate tdel and error based on Poisson stats\n",
    "\n",
    "# Generate random iterates matching the cumulative distribution function\n",
    "\n",
    "mu = np.arange(15000)/500. # [0-30]\n",
    "\n",
    "prob = 1-poisson.cdf(nburst,mu)\n",
    "\n",
    "x = np.random.random(nbin)\n",
    "y = [mu[np.argmin(abs(prob-_x))] for _x in x]\n",
    "\n",
    "# plt.hist(y)\n",
    "tdel = exp/nburst\n",
    "\n",
    "lim = np.percentile(y,(16,50,84))\n",
    "print (lim[1],lim[0],lim[2])\n",
    "print ('Synthetic distribution of tdel has {:.3f}_{:.3f}^{:.3f}'.format(\n",
    "    tdel.value,(exp/lim[2]-tdel).value,exp/lim[0]-tdel))\n",
    "\n",
    "# Draw nbin samples from the fluence and pflux distributions, consistent with the \n",
    "# estimated uncertainties\n",
    "\n",
    "fluen = np.random.normal(loc=fluen, scale=fluene, size=nbin)\n",
    "pflux = np.random.normal(loc=pflux, scale=pfluxe, size=nbin)\n",
    "# tdel = exp/3.620\n",
    "tdel = exp/y\n",
    "\n",
    "# plt.hist(pflux,bins=20)\n",
    "\n",
    "# Calculate alpha and plot the histogram\n",
    "\n",
    "alpha = pflux*f_unit/u.s*bc*tdel.to('s')/(fluen*f_unit)\n",
    "# print (np.isscalar(alpha))\n",
    "\n",
    "plt.hist(alpha,bins=6000,density=True)\n",
    "plt.xlabel('alpha')\n",
    "plt.xlim(100,2000)\n",
    "# print (len(alpha))\n",
    "# print (np.isscalar(alpha[3]))\n",
    "\n",
    "# Also show the statistics\n",
    "\n",
    "print (\"alpha = {:.2f} (68% range {:.2f}-{:.2f})\".format(np.percentile(alpha,50),\n",
    "                                                       np.percentile(alpha,16),\n",
    "                                                       np.percentile(alpha,84)))"
   ]
  },
  {
   "cell_type": "code",
   "execution_count": 12,
   "metadata": {
    "collapsed": false
   },
   "outputs": [
    {
     "name": "stdout",
     "output_type": "stream",
     "text": [
      "1.0 0.25881904510252074\n"
     ]
    }
   ],
   "source": [
    "# print (len(alpha))\n",
    "\n",
    "xbar, _x_0, i = cd.hfrac(alpha,tdel,1+z_def,zcno=zcno_def,isotropic=False)#,debug=True)"
   ]
  },
  {
   "cell_type": "code",
   "execution_count": 13,
   "metadata": {
    "collapsed": false
   },
   "outputs": [
    {
     "name": "stdout",
     "output_type": "stream",
     "text": [
      "Accepting 2.09% of samples\n",
      "For assumed 1+z = 1.2590, Z_CNO = 0.020, X_0 = 0.0556_0.0249^0.1044 (< 0.1565 @ 95%)\n",
      "i = 27.2_12.2^41.7\n",
      "10000 10000 10000 10000 10000 10000 10000\n"
     ]
    },
    {
     "data": {
      "image/png": "[encoded data removed]",
      "text/plain": [
       "<Figure size 432x288 with 1 Axes>"
      ]
     },
     "metadata": {
      "needs_background": "light"
     },
     "output_type": "display_data"
    }
   ],
   "source": [
    "plt.hist(_x_0)\n",
    "plt.xlim(-0.1,0.8)\n",
    "plt.ylim(0,200)\n",
    "plt.xlabel('inferred X_0')\n",
    "plt.axvline(x=xmax,linestyle='--',color='k')\n",
    "plt.axvline(x=0,linestyle='--',color='k')\n",
    "\n",
    "good=np.logical_and(_x_0 <= xmax,_x_0 > 0)\n",
    "\n",
    "# Stats on the accepted samples\n",
    "\n",
    "print (\"Accepting {}% of samples\".format(\n",
    "    100.*len(np.where(good)[0])/len(alpha)))\n",
    "\n",
    "# Display results\n",
    "\n",
    "print (\"For assumed 1+z = {:.4f}, Z_CNO = {:.3f}, X_0 = {:.4f}_{:.4f}^{:.4f} (< {:.4f} @ 95%)\".format(\n",
    "    1+z_def,zcno_def,np.percentile(_x_0[good],50),\n",
    "        np.percentile(_x_0[good],16),\n",
    "        np.percentile(_x_0[good],84),\n",
    "        np.percentile(_x_0[good],95)))\n",
    "print (\"i = {:.1f}_{:.1f}^{:.1f}\".format(\n",
    "    np.percentile(i[good],50),np.percentile(i[good],16),\n",
    "       np.percentile(i[good],84)))\n",
    "\n",
    "\n",
    "\n",
    "plt.plot(_x_0,i,'.')\n",
    "plt.plot(_x_0[good],i[good],'.')\n",
    "\n",
    "# Here we write out all the results\n",
    "\n",
    "import pandas as pd\n",
    "\n",
    "print (len(fluen),len(pflux),len(tdel),len(alpha),len(_x_0),len(i),len(xbar))\n",
    "xi_p, xi_b = cd.diskmodel.anisotropy(i)\n",
    "\n",
    "d = {'fluen': fluen, 'pflux': pflux, 'tdel': tdel, 'alpha': alpha,\n",
    "     'xbar': xbar, 'x_0': _x_0, 'theta': i, 'xi_p': xi_p, 'xi_b': xi_b}\n",
    "\n",
    "results = pd.DataFrame(data = d)\n",
    "# plt.hist(results['alpha'],bins=100)\n",
    "results.to_csv('1812-182_sim_results.csv')"
   ]
  },
  {
   "cell_type": "markdown",
   "metadata": {},
   "source": [
    "## 2 or more bursts, individual measurements\n",
    "\n",
    "Here's another example to get the column for bursts from XTE J1814-338. In this case we have multiple measurements of the recurrence time, alpha, and fluence, from MINBAR\n",
    "\n",
    "Distance is unknown but the most energetic burst seen by _RXTE_ has spectral variations suggesting radius expansion; stroh03a used this to estimate the distance.\n",
    "\n",
    "wang17a constrained the inclination to between 35-78 degrees"
   ]
  },
  {
   "cell_type": "code",
   "execution_count": 78,
   "metadata": {
    "collapsed": false
   },
   "outputs": [
    {
     "data": {
      "text/html": [
       "<div>\n",
       "<style scoped>\n",
       "    .dataframe tbody tr th:only-of-type {\n",
       "        vertical-align: middle;\n",
       "    }\n",
       "\n",
       "    .dataframe tbody tr th {\n",
       "        vertical-align: top;\n",
       "    }\n",
       "\n",
       "    .dataframe thead th {\n",
       "        text-align: right;\n",
       "    }\n",
       "</style>\n",
       "<table border=\"1\" class=\"dataframe\">\n",
       "  <thead>\n",
       "    <tr style=\"text-align: right;\">\n",
       "      <th></th>\n",
       "      <th>trec</th>\n",
       "      <th>tdel</th>\n",
       "      <th>alpha</th>\n",
       "      <th>alpha_err</th>\n",
       "      <th>bfluen</th>\n",
       "      <th>bfluene</th>\n",
       "    </tr>\n",
       "  </thead>\n",
       "  <tbody>\n",
       "    <tr>\n",
       "      <th>3095.0</th>\n",
       "      <td>6.728</td>\n",
       "      <td>6.728</td>\n",
       "      <td>89.274</td>\n",
       "      <td>2.088</td>\n",
       "      <td>0.248</td>\n",
       "      <td>0.003</td>\n",
       "    </tr>\n",
       "    <tr>\n",
       "      <th>3103.0</th>\n",
       "      <td>6.878</td>\n",
       "      <td>6.879</td>\n",
       "      <td>81.148</td>\n",
       "      <td>3.884</td>\n",
       "      <td>0.276</td>\n",
       "      <td>0.006</td>\n",
       "    </tr>\n",
       "    <tr>\n",
       "      <th>3107.0</th>\n",
       "      <td>6.961</td>\n",
       "      <td>13.921</td>\n",
       "      <td>90.715</td>\n",
       "      <td>5.015</td>\n",
       "      <td>0.252</td>\n",
       "      <td>0.004</td>\n",
       "    </tr>\n",
       "    <tr>\n",
       "      <th>3109.0</th>\n",
       "      <td>4.553</td>\n",
       "      <td>4.554</td>\n",
       "      <td>52.849</td>\n",
       "      <td>1.454</td>\n",
       "      <td>0.270</td>\n",
       "      <td>0.005</td>\n",
       "    </tr>\n",
       "  </tbody>\n",
       "</table>\n",
       "</div>"
      ],
      "text/plain": [
       "         trec    tdel   alpha  alpha_err  bfluen  bfluene\n",
       "3095.0  6.728   6.728  89.274      2.088   0.248    0.003\n",
       "3103.0  6.878   6.879  81.148      3.884   0.276    0.006\n",
       "3107.0  6.961  13.921  90.715      5.015   0.252    0.004\n",
       "3109.0  4.553   4.554  52.849      1.454   0.270    0.005"
      ]
     },
     "execution_count": 78,
     "metadata": {},
     "output_type": "execute_result"
    }
   ],
   "source": [
    "src = 'XTE J1814-338'\n",
    "\n",
    "# MINBAR data:\n",
    "# 3092 & 3099 are candidate short-recurrence time bursts, substantially weaker than the others\n",
    "# so omit these from the analysis for now\n",
    "data = np.array([# [3092, 2.325, 2.326,56.732, 1.541, 0.129, 0.002], \n",
    "                 [3095, 6.728, 6.728,89.274, 2.088, 0.248, 0.003],\n",
    "                 # [3099, 1.692, 1.692,78.620, 7.198, 0.072, 0.006],\n",
    "                 [3103, 6.878, 6.879,81.148, 3.884, 0.276, 0.006],\n",
    "                 [3107, 6.961,13.921,90.715, 5.015, 0.252, 0.004],\n",
    "                 [3109, 4.553, 4.554,52.849, 1.454, 0.270, 0.005]])\n",
    "\n",
    "minbar = pd.DataFrame(data[0:,1:], index=data[0:,0], \n",
    "                      columns=['trec','tdel','alpha','alpha_err','bfluen','bfluene'])\n",
    "minbar\n"
   ]
  },
  {
   "cell_type": "code",
   "execution_count": 79,
   "metadata": {
    "collapsed": false
   },
   "outputs": [],
   "source": [
    "fluen, fluene = np.mean(minbar['bfluen']), np.std(minbar['bfluen']) # 1e-6 erg/cm^2\n",
    "pflux_pre, pflux_pre_e = 23.09, 1.38 # 1e-9 erg/cm^2/s\n",
    "f_unit = 1e-9*u.erg/u.cm**2/u.s\n"
   ]
  },
  {
   "cell_type": "code",
   "execution_count": 80,
   "metadata": {
    "collapsed": false
   },
   "outputs": [
    {
     "name": "stdout",
     "output_type": "stream",
     "text": [
      "1.0 0.25881904510252074\n",
      "[-0.01877318  0.26101496  0.43776537  0.11973681] [-1.          0.45615283  0.83266495  0.24874162] [74.434091   55.74161885 27.14538996 74.51927755] deg\n",
      "0.8191520442889918 0.20791169081775945\n"
     ]
    }
   ],
   "source": [
    "xbar, _x_0, i = cd.hfrac(minbar['alpha'].values,minbar['tdel'].values*u.hr,isotropic=False)\n",
    "print (xbar, _x_0, i)\n",
    "\n",
    "# Calculate the distance; replicating stroh03a\n",
    "\n",
    "d, d_err = cd.dist(pflux_pre*f_unit, pflux_pre_e*f_unit, empirical=False, X=0.7, isotropic=True)\n",
    "\n",
    "# Perhaps more realistic\n",
    "\n",
    "d = cd.dist(pflux_pre*f_unit, pflux_pre_e*f_unit, empirical=True, imin=35, imax=78, fulldist=True)\n",
    "# print (d,d_err)"
   ]
  },
  {
   "cell_type": "code",
   "execution_count": 81,
   "metadata": {
    "collapsed": false
   },
   "outputs": [
    {
     "name": "stdout",
     "output_type": "stream",
     "text": [
      "14.148_-0.996^+1.093 \\times 10^7 g/cm^2\n"
     ]
    }
   ],
   "source": [
    "yh, yh_err = cd.yign(fluen*1e-6*u.erg/u.cm**2, fluene*1e-6*u.erg/u.cm**2, \n",
    "                     d['dist'], inclination=d['i'], Xbar=0.3)\n",
    "print (\"{:.3f}_{:+.3f}^{:+.3f} \\\\times 10^7 g/cm^2\".format(yh.value/1e7, yh_err[0].value/1e7, yh_err[1].value/1e7))"
   ]
  },
  {
   "cell_type": "code",
   "execution_count": 46,
   "metadata": {
    "collapsed": true
   },
   "outputs": [],
   "source": []
  },
  {
   "cell_type": "markdown",
   "metadata": {},
   "source": [
    "# Xbar runs\n",
    "Zac incorporated Adelle's runs with measured Xbar into his grids (roughly), and the code below (copied from the \"Burst matching\" notebook) sets the paths and reads in an example file.\n",
    "\n",
    "With these files we can create simulated bursts and then check the inferred Xbar with that measured from the Kepler results"
   ]
  },
  {
   "cell_type": "code",
   "execution_count": 3,
   "metadata": {
    "collapsed": false
   },
   "outputs": [
    {
     "name": "stdout",
     "output_type": "stream",
     "text": [
      "<TableColumns names=('batch','qb','x','accrate','mass','num','run','xbar','xbar_std','xign','y','z','tshift','xi','qb_delay','lburn','qnuc')>\n",
      "Mass values:  {1.4}\n"
     ]
    },
    {
     "ename": "NameError",
     "evalue": "name 'plt' is not defined",
     "output_type": "error",
     "traceback": [
      "\u001b[0;31m---------------------------------------------------------------------------\u001b[0m",
      "\u001b[0;31mNameError\u001b[0m                                 Traceback (most recent call last)",
      "\u001b[0;32m<ipython-input-3-4b58e62ffeb4>\u001b[0m in \u001b[0;36m<module>\u001b[0;34m()\u001b[0m\n\u001b[1;32m     26\u001b[0m \u001b[0;31m# Show a different cut through the grid\u001b[0m\u001b[0;34m\u001b[0m\u001b[0;34m\u001b[0m\u001b[0m\n\u001b[1;32m     27\u001b[0m \u001b[0;34m\u001b[0m\u001b[0m\n\u001b[0;32m---> 28\u001b[0;31m \u001b[0mplt\u001b[0m\u001b[0;34m.\u001b[0m\u001b[0mplot\u001b[0m\u001b[0;34m(\u001b[0m\u001b[0mparam\u001b[0m\u001b[0;34m[\u001b[0m\u001b[0;34m'mass'\u001b[0m\u001b[0;34m]\u001b[0m\u001b[0;34m,\u001b[0m\u001b[0mparam\u001b[0m\u001b[0;34m[\u001b[0m\u001b[0;34m'accrate'\u001b[0m\u001b[0;34m]\u001b[0m\u001b[0;34m,\u001b[0m\u001b[0;34m'.'\u001b[0m\u001b[0;34m)\u001b[0m\u001b[0;34m\u001b[0m\u001b[0m\n\u001b[0m\u001b[1;32m     29\u001b[0m \u001b[0;31m# Show histogram of mass values\u001b[0m\u001b[0;34m\u001b[0m\u001b[0;34m\u001b[0m\u001b[0m\n\u001b[1;32m     30\u001b[0m \u001b[0;31m# print (\"Accretion rate values: \",set(param['accrate']*param['xi']))\u001b[0m\u001b[0;34m\u001b[0m\u001b[0;34m\u001b[0m\u001b[0m\n",
      "\u001b[0;31mNameError\u001b[0m: name 'plt' is not defined"
     ]
    }
   ],
   "source": [
    "from astropy.io import ascii\n",
    "\n",
    "# Tried to import the modules, but there were too many unmet dependencies\n",
    "# and other Zac-specific settings\n",
    "\n",
    "# from pygrids.grid_analyser import grid_analyser\n",
    "\n",
    "# Instead just read the summary and parameter files and read directly\n",
    "\n",
    "# path='kepler_grids/sources/gs1826'\n",
    "path = '/Users/Shared/data/kepler_grids/sources/adelle'\n",
    "# data = ascii.read(path+'/summ_gs1826.txt')\n",
    "data = ascii.read(path+'/summ/summ_adelle.txt')\n",
    "# type(data)\n",
    "# print (data.columns)\n",
    "\n",
    "# Show cut through grid\n",
    "\n",
    "# plt.plot(data['h'],data['z'],'.')\n",
    "\n",
    "# param = ascii.read(path+'/params_gs1826.txt')\n",
    "param = ascii.read(path+'/params/params_adelle.txt')\n",
    "print (param.columns)\n",
    "print (\"Mass values: \",set(param['mass']))\n",
    "\n",
    "# Show a different cut through the grid\n",
    "\n",
    "plt.plot(param['mass'],param['accrate'],'.')\n",
    "# Show histogram of mass values\n",
    "# print (\"Accretion rate values: \",set(param['accrate']*param['xi']))\n",
    "print (\"Q_b values: \",set(param['qb']))\n",
    "\n",
    "# plt.hist(param['mass'],bins=[1.35,1.45,1.55,1.65,1.75,1.85,1.95,2.05])\n",
    "# plt.ylim(0,10)"
   ]
  },
  {
   "cell_type": "code",
   "execution_count": 40,
   "metadata": {
    "collapsed": false
   },
   "outputs": [
    {
     "name": "stdout",
     "output_type": "stream",
     "text": [
      "/Users/Shared/data/kepler_grids/sources/adelle mean_lightcurves/adelle_1/adelle_1_run5_mean.data\n",
      "[4]\n",
      "batch run     tDel      uTDel   lAcc  z    h \n",
      "----- --- ----------- --------- ---- ---- ---\n",
      "    1   5 3500.726085 88.085026  0.3 0.02 0.6\n",
      "batch run accrate   xbar   mass  z  \n",
      "----- --- ------- -------- ---- ----\n",
      "    1   5     0.3 0.562868  1.4 0.02\n",
      "** WARNING ** insufficient parameters defined to convert to observed frame\n",
      "1.305717832582133\n"
     ]
    },
    {
     "ename": "AttributeError",
     "evalue": "'KeplerBurst' object has no attribute 'print'",
     "output_type": "error",
     "traceback": [
      "\u001b[0;31m---------------------------------------------------------------------------\u001b[0m",
      "\u001b[0;31mAttributeError\u001b[0m                            Traceback (most recent call last)",
      "\u001b[0;32m<ipython-input-40-cc8072f6ca11>\u001b[0m in \u001b[0;36m<module>\u001b[0;34m()\u001b[0m\n\u001b[1;32m     37\u001b[0m \u001b[0mprint\u001b[0m \u001b[0;34m(\u001b[0m\u001b[0mopz\u001b[0m\u001b[0;34m)\u001b[0m\u001b[0;34m\u001b[0m\u001b[0m\n\u001b[1;32m     38\u001b[0m \u001b[0mxbar5\u001b[0m\u001b[0;34m.\u001b[0m\u001b[0mplot\u001b[0m\u001b[0;34m(\u001b[0m\u001b[0;34m)\u001b[0m\u001b[0;34m\u001b[0m\u001b[0m\n\u001b[0;32m---> 39\u001b[0;31m \u001b[0mxbar5\u001b[0m\u001b[0;34m.\u001b[0m\u001b[0mprint\u001b[0m\u001b[0;34m(\u001b[0m\u001b[0;34m)\u001b[0m\u001b[0;34m\u001b[0m\u001b[0m\n\u001b[0m\u001b[1;32m     40\u001b[0m \u001b[0;31m# plt.plot(lc['time'],lc['luminosity'])\u001b[0m\u001b[0;34m\u001b[0m\u001b[0;34m\u001b[0m\u001b[0m\n",
      "\u001b[0;31mAttributeError\u001b[0m: 'KeplerBurst' object has no attribute 'print'"
     ]
    },
    {
     "data": {
      "image/png": "[encoded data removed]",
      "text/plain": [
       "<matplotlib.figure.Figure at 0x116d7be48>"
      ]
     },
     "metadata": {},
     "output_type": "display_data"
    }
   ],
   "source": [
    "# Specify the model run by the batch and run number\n",
    "\n",
    "batch=1\n",
    "run=5\n",
    "\n",
    "# slightly different filename convention here\n",
    "\n",
    "filename='mean_lightcurves/adelle_{}/adelle_{}_run{}_mean.data'.format(\n",
    "    batch,batch,run)\n",
    "# filename='/mean_lightcurves/adelle_{}/'.format(batch)+filename\n",
    "print (path,filename)\n",
    "\n",
    "# lc = ascii.read(path+'/mean_lightcurves/adelle_{}/'.format(batch)+filename)\n",
    "# print (lc.columns)\n",
    "\n",
    "# Extract the corresponding model values from the table\n",
    "\n",
    "# row=np.where(data['batch'] == 2 & data['run'] == 9)[0]\n",
    "row=np.where(np.logical_and(data['batch'] == batch,data['run'] == run))[0]\n",
    "prow=np.where(np.logical_and(param['batch'] == batch,param['run'] == run))[0]\n",
    "\n",
    "# data[rows]\n",
    "# print (data.columns, param.columns)\n",
    "print (row)\n",
    "print (data[row][['batch','run','tDel','uTDel','lAcc','z','h']])\n",
    "print (param[prow][['batch','run','accrate','xbar','mass','z']])\n",
    "# row=np.flatnonzero(data['batch'] == 2 & data['run'] == 9)[0]\n",
    "# row\n",
    "# data[row]\n",
    "\n",
    "g = cd.g(param[prow]['mass']*const.M_sun,10*u.km)\n",
    "opz = cd.opz(param[prow]['mass']*const.M_sun,10*u.km)\n",
    "xbar5 = cd.KeplerBurst(filename,path=path,lAcc=data[row]['lAcc'],\n",
    "                    Z=data[row]['z'],H=data[row]['h'],\n",
    "                    tdel=data[row]['tDel']/opz,tdel_err=data[row]['uTDel']/opz,\n",
    "                    g=g, opz=opz)\n",
    "print (opz)\n",
    "xbar5.plot()\n",
    "xbar5.print()\n",
    "# plt.plot(lc['time'],lc['luminosity'])"
   ]
  },
  {
   "cell_type": "markdown",
   "metadata": {},
   "source": [
    "# Inferring Xbar\n",
    "As a preliminary test, we use the set of \"xbar\" runs as for the paper, which have a measured Xbar (mean H-fraction at ignition).\n",
    "\n",
    "These data can be found in the local directory concord/kepler\n",
    "\n",
    "Lightcurve files seem to be some binary format, I don't know how to read them. Asked Adelle (8/10/18)"
   ]
  },
  {
   "cell_type": "code",
   "execution_count": 42,
   "metadata": {
    "collapsed": false
   },
   "outputs": [
    {
     "name": "stdout",
     "output_type": "stream",
     "text": [
      "Got 60 runs listed in summary file\n",
      "kepler/xbar-runs/run14/run14.lc\n"
     ]
    }
   ],
   "source": [
    "xbar_path = 'kepler/xbar-runs/'\n",
    "xbar_table = ascii.read(xbar_path+'allruns_attribs.txt')\n",
    "\n",
    "print (\"Got {} runs listed in summary file\".format(len(xbar_table)))\n",
    "\n",
    "xbar_table\n",
    "\n",
    "# Pick a random one and try to read in the file\n",
    "\n",
    "dir='run{}'.format(floor(xbar_table['runid'][13]))\n",
    "lc = xbar_path+dir+'/'+dir+'.lc'\n",
    "print (lc)"
   ]
  },
  {
   "cell_type": "markdown",
   "metadata": {},
   "source": [
    "## Simulated data\n",
    "The simulated data have been created with the \"Burst Matching\" notebook; first we read in the tables corresponding to the observed properties, as well as the \"secret\" table (including the input simulation parameters)\n",
    "\n",
    "Key columns are below:\n",
    "* (tdel, tdel_err) = data['col3'], data['col4']\n",
    "* (fper, fper_err) = data['col5'], data['col6']\n",
    "* bc = data['col7']\n",
    "* Z_CNO = data_secret['col5']\n",
    "* X_0 = data_secret['col7']\n",
    "* i = data_secret['col16']\n",
    "* 1+z = data_secret['col17']"
   ]
  },
  {
   "cell_type": "code",
   "execution_count": 26,
   "metadata": {
    "collapsed": false
   },
   "outputs": [
    {
     "data": {
      "text/html": [
       "<i>Table length=30</i>\n",
       "<table id=\"table4624968168\" class=\"table-striped table-bordered table-condensed\">\n",
       "<thead><tr><th>col1</th><th>col2</th><th>col3</th><th>col4</th><th>col5</th><th>col6</th><th>col7</th></tr></thead>\n",
       "<thead><tr><th>int64</th><th>int64</th><th>float64</th><th>float64</th><th>float64</th><th>float64</th><th>float64</th></tr></thead>\n",
       "<tr><td>0</td><td>0</td><td>2.4473</td><td>0.0504</td><td>1.2633e-09</td><td>6e-12</td><td>1.806</td></tr>\n",
       "<tr><td>0</td><td>1</td><td>2.7985</td><td>0.0591</td><td>1.0983e-09</td><td>6e-12</td><td>1.806</td></tr>\n",
       "<tr><td>0</td><td>2</td><td>3.7056</td><td>0.0729</td><td>8.1417e-10</td><td>6e-12</td><td>1.806</td></tr>\n",
       "<tr><td>1</td><td>0</td><td>2.7538</td><td>0.0831</td><td>3.8215e-10</td><td>6e-12</td><td>1.806</td></tr>\n",
       "<tr><td>1</td><td>1</td><td>3.1466</td><td>0.0841</td><td>3.3222e-10</td><td>6e-12</td><td>1.806</td></tr>\n",
       "<tr><td>1</td><td>2</td><td>4.3953</td><td>0.1557</td><td>2.4629e-10</td><td>6e-12</td><td>1.806</td></tr>\n",
       "<tr><td>2</td><td>0</td><td>2.3926</td><td>0.0383</td><td>5.1541e-09</td><td>6e-12</td><td>1.806</td></tr>\n",
       "<tr><td>2</td><td>1</td><td>2.7309</td><td>0.0504</td><td>4.4807e-09</td><td>6e-12</td><td>1.806</td></tr>\n",
       "<tr><td>2</td><td>2</td><td>3.6777</td><td>0.0857</td><td>3.3217e-09</td><td>6e-12</td><td>1.806</td></tr>\n",
       "<tr><td>3</td><td>0</td><td>2.7775</td><td>0.0696</td><td>1.3822e-09</td><td>6e-12</td><td>1.806</td></tr>\n",
       "<tr><td>...</td><td>...</td><td>...</td><td>...</td><td>...</td><td>...</td><td>...</td></tr>\n",
       "<tr><td>6</td><td>2</td><td>6.6047</td><td>0.1956</td><td>1.4625e-09</td><td>6e-12</td><td>1.806</td></tr>\n",
       "<tr><td>7</td><td>0</td><td>5.6692</td><td>0.2364</td><td>8.5794e-09</td><td>6e-12</td><td>1.806</td></tr>\n",
       "<tr><td>7</td><td>1</td><td>6.8199</td><td>0.2553</td><td>7.4584e-09</td><td>6e-12</td><td>1.806</td></tr>\n",
       "<tr><td>7</td><td>2</td><td>9.5548</td><td>0.4438</td><td>5.5292e-09</td><td>6e-12</td><td>1.806</td></tr>\n",
       "<tr><td>8</td><td>0</td><td>3.0893</td><td>0.0716</td><td>9.7694e-10</td><td>6e-12</td><td>1.806</td></tr>\n",
       "<tr><td>8</td><td>1</td><td>3.5271</td><td>0.1105</td><td>8.493e-10</td><td>6e-12</td><td>1.806</td></tr>\n",
       "<tr><td>8</td><td>2</td><td>4.777</td><td>0.1684</td><td>6.2961e-10</td><td>6e-12</td><td>1.806</td></tr>\n",
       "<tr><td>9</td><td>0</td><td>2.664</td><td>0.0923</td><td>3.5003e-09</td><td>6e-12</td><td>1.806</td></tr>\n",
       "<tr><td>9</td><td>1</td><td>3.0299</td><td>0.1403</td><td>3.043e-09</td><td>6e-12</td><td>1.806</td></tr>\n",
       "<tr><td>9</td><td>2</td><td>4.2092</td><td>0.1913</td><td>2.2558e-09</td><td>6e-12</td><td>1.806</td></tr>\n",
       "</table>"
      ],
      "text/plain": [
       "<Table length=30>\n",
       " col1  col2   col3    col4     col5      col6    col7 \n",
       "int64 int64 float64 float64  float64   float64 float64\n",
       "----- ----- ------- ------- ---------- ------- -------\n",
       "    0     0  2.4473  0.0504 1.2633e-09   6e-12   1.806\n",
       "    0     1  2.7985  0.0591 1.0983e-09   6e-12   1.806\n",
       "    0     2  3.7056  0.0729 8.1417e-10   6e-12   1.806\n",
       "    1     0  2.7538  0.0831 3.8215e-10   6e-12   1.806\n",
       "    1     1  3.1466  0.0841 3.3222e-10   6e-12   1.806\n",
       "    1     2  4.3953  0.1557 2.4629e-10   6e-12   1.806\n",
       "    2     0  2.3926  0.0383 5.1541e-09   6e-12   1.806\n",
       "    2     1  2.7309  0.0504 4.4807e-09   6e-12   1.806\n",
       "    2     2  3.6777  0.0857 3.3217e-09   6e-12   1.806\n",
       "    3     0  2.7775  0.0696 1.3822e-09   6e-12   1.806\n",
       "  ...   ...     ...     ...        ...     ...     ...\n",
       "    6     2  6.6047  0.1956 1.4625e-09   6e-12   1.806\n",
       "    7     0  5.6692  0.2364 8.5794e-09   6e-12   1.806\n",
       "    7     1  6.8199  0.2553 7.4584e-09   6e-12   1.806\n",
       "    7     2  9.5548  0.4438 5.5292e-09   6e-12   1.806\n",
       "    8     0  3.0893  0.0716 9.7694e-10   6e-12   1.806\n",
       "    8     1  3.5271  0.1105  8.493e-10   6e-12   1.806\n",
       "    8     2   4.777  0.1684 6.2961e-10   6e-12   1.806\n",
       "    9     0   2.664  0.0923 3.5003e-09   6e-12   1.806\n",
       "    9     1  3.0299  0.1403  3.043e-09   6e-12   1.806\n",
       "    9     2  4.2092  0.1913 2.2558e-09   6e-12   1.806"
      ]
     },
     "execution_count": 26,
     "metadata": {},
     "output_type": "execute_result"
    }
   ],
   "source": [
    "path='sim10'\n",
    "data = ascii.read(path+'/sim_info.csv')\n",
    "data_secret = ascii.read(path+'_secret.csv')\n",
    "\n",
    "# data_secret\n",
    "data"
   ]
  },
  {
   "cell_type": "markdown",
   "metadata": {},
   "source": [
    "Here's a test of the new routine, for one row"
   ]
  },
  {
   "cell_type": "code",
   "execution_count": 14,
   "metadata": {
    "collapsed": false
   },
   "outputs": [
    {
     "name": "stdout",
     "output_type": "stream",
     "text": [
      "Assumed M_NS = 1.4 solMass, R_NS = 11.2000 km, 1+z = 1.2590, Z_CNO = 0.02\n"
     ]
    }
   ],
   "source": [
    "# Assumptions here\n",
    "\n",
    "opz_def = cd.opz(1.4*const.M_sun,11.2*u.km)\n",
    "z_def = opz_def-1.\n",
    "zcno_def = 0.02\n",
    "\n",
    "print (\"Assumed M_NS = {}, R_NS = {:.4f}, 1+z = {:.4f}, Z_CNO = {}\".format(\n",
    "#    M_NS,R_NS,1.+z_def,zcno_def))\n",
    "    1.4*u.M_sun,11.2*u.km,1.+z_def,zcno_def))"
   ]
  },
  {
   "cell_type": "code",
   "execution_count": 3,
   "metadata": {
    "collapsed": false
   },
   "outputs": [
    {
     "name": "stdout",
     "output_type": "stream",
     "text": [
      "<linfit.linfit.<locals>.Bunch object at 0x11393cf28>\n",
      "** WARNING ** extrapolated fluence > stat_error, replacing\n",
      "Fluence: 1.302e-06 erg / cm2, tdel: 2.77750 h, alpha: 19.1646, c_bol: 1.8060\n",
      "Assumed M_NS = 1.4 solMass, R_NS = 11.2000 km, 1+z = 1.2590, Z_CNO = 0.02\n",
      "Inferred x_0: 1.7770, actual: 0.6800\n",
      "1000\n",
      "Actual M_NS = 1.4 solMass, R_NS = 25.4474 km, 1+z = 1.0927, Z_CNO = 0.0075\n",
      "Check x_0: 0.5900\n"
     ]
    },
    {
     "data": {
      "image/png": "[encoded data removed]",
      "text/plain": [
       "<Figure size 432x288 with 1 Axes>"
      ]
     },
     "metadata": {},
     "output_type": "display_data"
    }
   ],
   "source": [
    "i=9\n",
    "\n",
    "data['col1'][i]\n",
    "b1 = ObservedBurst('sim{}_{}.csv'.format(data['col1'][i],data['col2'][i]),path=path)\n",
    "\n",
    "# Extract all the observeables\n",
    "\n",
    "fluen, fluene = b1.fluence(plot=True)\n",
    "tdel = data['col3'][i]*u.hr\n",
    "tdel_err = data['col4'][i]*u.hr\n",
    "fper = data['col5'][i]*u.erg/u.cm**2/u.s\n",
    "fper_err = data['col6'][i]*fper.unit\n",
    "# Some question about whether the bolometric correction was correctly applied for the \n",
    "# persistent flux below\n",
    "# Now resolved\n",
    "c_bol = data['col7'][i]\n",
    "# c_bol = 1.0\n",
    "# Calculate derived quantities\n",
    "\n",
    "alpha = tdel.to('s')*fper*c_bol/fluen\n",
    "alpha_err = alpha*sqrt((tdel_err/tdel)**2+(fper_err/fper)**2\n",
    "                       +(fluene/fluen)**2)\n",
    "\n",
    "print (\"Fluence: {:.4g}, tdel: {:.5f}, alpha: {:.4f}, c_bol: {:.4f}\".format(\n",
    "    fluen,tdel,alpha,c_bol))\n",
    "\n",
    "# Need to calculate actual NS parameters from redshift (col17), mass\n",
    "# (col13) and inclination (col16)\n",
    "\n",
    "M_NS = data_secret['col13'][i]*u.M_sun\n",
    "z_actual = data_secret['col17'][i]-1.\n",
    "R_NS = (2*const.G*M_NS/const.c**2/(1.-1/(1.+z_actual)**2)).to('km')\n",
    "# print (1.+z_actual,\" =? \",opz(M_NS,R_NS))\n",
    "zcno_actual = data_secret['col5'][i]\n",
    "inclination_actual = data_secret['col16'][i]*u.deg\n",
    "# print (xi_b,xi_p,inclination_actual)\n",
    "\n",
    "# Calculate the inferred value given the assumed redshift, and neglecting \n",
    "# anisotropy\n",
    "\n",
    "xbar, x_0, i_True = hfrac(alpha,tdel,1+z_def,isotropic=True)\n",
    "\n",
    "print (\"Inferred x_0: {:.4f}, actual: {:.4f}\".format(x_0,data_secret['col7'][i]))\n",
    "\n",
    "# Try the statistical version\n",
    "\n",
    "xbar, x_0, i_False = hfrac(alpha,tdel,1+z_def,isotropic=False)\n",
    "print (len(xbar))\n",
    "# plt.hist(x_0,bins=20)\n",
    "\n",
    "# Calculate the actual value taking into account all the effects\n",
    "\n",
    "print (\"Actual M_NS = {}, R_NS = {:.4f}, 1+z = {:.4f}, Z_CNO = {}\".format(\n",
    "    M_NS,R_NS,1.+z_actual,zcno_actual))\n",
    "\n",
    "# xbar_check = min([0.77,z_actual*alpha_0/alpha*(xi_b/xi_p)-0.96/6.6])\n",
    "# print (xbar_check,xi_b,xi_p)\n",
    "# x_0_check = min([0.77,xbar_check+0.35*(tdel/((1.+z_actual)*9.8*u.hr))*(zcno_actual/0.02)])\n",
    "xbar_check, x_0_check, dummy = hfrac(alpha,tdel,opz=1+z_actual,zcno=zcno_actual,inclination=inclination_actual)\n",
    "print (\"Check x_0: {:.4f}\".format(x_0_check))"
   ]
  },
  {
   "cell_type": "markdown",
   "metadata": {},
   "source": [
    "Now loop over all the available simulated bursts and determine the h-fraction for each"
   ]
  },
  {
   "cell_type": "code",
   "execution_count": 4,
   "metadata": {
    "collapsed": false
   },
   "outputs": [
    {
     "name": "stdout",
     "output_type": "stream",
     "text": [
      "<linfit.linfit.<locals>.Bunch object at 0x11393cf98>\n",
      "** WARNING ** extrapolated fluence > stat_error, replacing\n",
      "hfrac: adopting 1000 samples to match size of alpha array\n",
      "** WARNING ** assuming inclination in degrees\n",
      "<linfit.linfit.<locals>.Bunch object at 0x113acbeb8>\n",
      "** WARNING ** extrapolated fluence > stat_error, replacing\n",
      "hfrac: adopting 1000 samples to match size of alpha array\n",
      "** WARNING ** assuming inclination in degrees\n",
      "<linfit.linfit.<locals>.Bunch object at 0x113abf3c8>\n",
      "** WARNING ** extrapolated fluence > stat_error, replacing\n",
      "hfrac: adopting 1000 samples to match size of alpha array\n",
      "** WARNING ** assuming inclination in degrees\n",
      "<linfit.linfit.<locals>.Bunch object at 0x1140509e8>\n",
      "** WARNING ** extrapolated fluence > stat_error, replacing\n",
      "hfrac: adopting 1000 samples to match size of alpha array\n",
      "** WARNING ** assuming inclination in degrees\n",
      "<linfit.linfit.<locals>.Bunch object at 0x113a14358>\n",
      "** WARNING ** extrapolated fluence > stat_error, replacing\n",
      "hfrac: adopting 1000 samples to match size of alpha array\n",
      "** WARNING ** assuming inclination in degrees\n",
      "<linfit.linfit.<locals>.Bunch object at 0x1140509b0>\n",
      "hfrac: adopting 1000 samples to match size of alpha array\n",
      "** WARNING ** assuming inclination in degrees\n",
      "<linfit.linfit.<locals>.Bunch object at 0x114050cc0>\n",
      "** WARNING ** extrapolated fluence > stat_error, replacing\n",
      "hfrac: adopting 1000 samples to match size of alpha array\n",
      "** WARNING ** assuming inclination in degrees\n",
      "<linfit.linfit.<locals>.Bunch object at 0x113a12d30>\n",
      "** WARNING ** extrapolated fluence > stat_error, replacing\n",
      "hfrac: adopting 1000 samples to match size of alpha array\n",
      "** WARNING ** assuming inclination in degrees\n",
      "<linfit.linfit.<locals>.Bunch object at 0x113abf828>\n",
      "** WARNING ** extrapolated fluence > stat_error, replacing\n",
      "hfrac: adopting 1000 samples to match size of alpha array\n",
      "** WARNING ** assuming inclination in degrees\n",
      "<linfit.linfit.<locals>.Bunch object at 0x113914940>\n",
      "** WARNING ** extrapolated fluence > stat_error, replacing\n",
      "hfrac: adopting 1000 samples to match size of alpha array\n",
      "** WARNING ** assuming inclination in degrees\n",
      "<linfit.linfit.<locals>.Bunch object at 0x11404fcf8>\n",
      "** WARNING ** extrapolated fluence > stat_error, replacing\n",
      "hfrac: adopting 1000 samples to match size of alpha array\n",
      "** WARNING ** assuming inclination in degrees\n",
      "<linfit.linfit.<locals>.Bunch object at 0x113a14358>\n",
      "hfrac: adopting 1000 samples to match size of alpha array\n",
      "** WARNING ** assuming inclination in degrees\n",
      "<linfit.linfit.<locals>.Bunch object at 0x113a12198>\n",
      "** WARNING ** extrapolated fluence > stat_error, replacing\n",
      "hfrac: adopting 1000 samples to match size of alpha array\n",
      "** WARNING ** assuming inclination in degrees\n",
      "<linfit.linfit.<locals>.Bunch object at 0x113acbf28>\n",
      "** WARNING ** extrapolated fluence > stat_error, replacing\n",
      "hfrac: adopting 1000 samples to match size of alpha array\n",
      "** WARNING ** assuming inclination in degrees\n",
      "<linfit.linfit.<locals>.Bunch object at 0x114050080>\n",
      "** WARNING ** extrapolated fluence > stat_error, replacing\n",
      "hfrac: adopting 1000 samples to match size of alpha array\n",
      "** WARNING ** assuming inclination in degrees\n",
      "<linfit.linfit.<locals>.Bunch object at 0x11407dbe0>\n",
      "** WARNING ** extrapolated fluence > stat_error, replacing\n",
      "hfrac: adopting 1000 samples to match size of alpha array\n",
      "** WARNING ** assuming inclination in degrees\n",
      "<linfit.linfit.<locals>.Bunch object at 0x1140a9390>\n",
      "** WARNING ** extrapolated fluence > stat_error, replacing\n",
      "hfrac: adopting 1000 samples to match size of alpha array\n",
      "** WARNING ** assuming inclination in degrees\n",
      "<linfit.linfit.<locals>.Bunch object at 0x11407dba8>\n",
      "** WARNING ** extrapolated fluence > stat_error, replacing\n",
      "hfrac: adopting 1000 samples to match size of alpha array\n",
      "** WARNING ** assuming inclination in degrees\n",
      "<linfit.linfit.<locals>.Bunch object at 0x113a12a58>\n",
      "** WARNING ** extrapolated fluence > stat_error, replacing\n",
      "hfrac: adopting 1000 samples to match size of alpha array\n",
      "** WARNING ** assuming inclination in degrees\n",
      "<linfit.linfit.<locals>.Bunch object at 0x113a14358>\n",
      "** WARNING ** extrapolated fluence > stat_error, replacing\n",
      "hfrac: adopting 1000 samples to match size of alpha array\n",
      "** WARNING ** assuming inclination in degrees\n",
      "<linfit.linfit.<locals>.Bunch object at 0x114050048>\n",
      "** WARNING ** extrapolated fluence > stat_error, replacing\n",
      "hfrac: adopting 1000 samples to match size of alpha array\n",
      "** WARNING ** assuming inclination in degrees\n",
      "<linfit.linfit.<locals>.Bunch object at 0x1140a94a8>\n",
      "** WARNING ** extrapolated fluence > stat_error, replacing\n",
      "hfrac: adopting 1000 samples to match size of alpha array\n",
      "** WARNING ** assuming inclination in degrees\n",
      "<linfit.linfit.<locals>.Bunch object at 0x113914940>\n",
      "** WARNING ** extrapolated fluence > stat_error, replacing\n",
      "hfrac: adopting 1000 samples to match size of alpha array\n",
      "** WARNING ** assuming inclination in degrees\n",
      "<linfit.linfit.<locals>.Bunch object at 0x114050f60>\n",
      "** WARNING ** extrapolated fluence > stat_error, replacing\n",
      "hfrac: adopting 1000 samples to match size of alpha array\n",
      "** WARNING ** assuming inclination in degrees\n",
      "<linfit.linfit.<locals>.Bunch object at 0x1140eb550>\n",
      "** WARNING ** extrapolated fluence > stat_error, replacing\n",
      "hfrac: adopting 1000 samples to match size of alpha array\n",
      "** WARNING ** assuming inclination in degrees\n",
      "<linfit.linfit.<locals>.Bunch object at 0x11404f710>\n",
      "** WARNING ** extrapolated fluence > stat_error, replacing\n",
      "hfrac: adopting 1000 samples to match size of alpha array\n",
      "** WARNING ** assuming inclination in degrees\n",
      "<linfit.linfit.<locals>.Bunch object at 0x113914940>\n",
      "hfrac: adopting 1000 samples to match size of alpha array\n",
      "** WARNING ** assuming inclination in degrees\n",
      "<linfit.linfit.<locals>.Bunch object at 0x11407df98>\n",
      "** WARNING ** extrapolated fluence > stat_error, replacing\n",
      "hfrac: adopting 1000 samples to match size of alpha array\n",
      "** WARNING ** assuming inclination in degrees\n",
      "<linfit.linfit.<locals>.Bunch object at 0x113a12c50>\n",
      "** WARNING ** extrapolated fluence > stat_error, replacing\n",
      "hfrac: adopting 1000 samples to match size of alpha array\n",
      "** WARNING ** assuming inclination in degrees\n",
      "<linfit.linfit.<locals>.Bunch object at 0x11404fba8>\n",
      "** WARNING ** extrapolated fluence > stat_error, replacing\n",
      "hfrac: adopting 1000 samples to match size of alpha array\n",
      "** WARNING ** assuming inclination in degrees\n"
     ]
    }
   ],
   "source": [
    "xmax = 0.77\n",
    "\n",
    "# specify how we want to treat the alpha values\n",
    "\n",
    "alpha_dist = True\n",
    "nsamp = 1000\n",
    "\n",
    "# Set up the output lists\n",
    "\n",
    "x_0_isotropic = []\n",
    "x_0_best = []\n",
    "x_0_actual = []\n",
    "x_0 = []\n",
    "x_0_err = []\n",
    "\n",
    "# Now run the loop\n",
    "\n",
    "for i in range(len(data)):\n",
    "\n",
    "    data['col1'][i]\n",
    "    b1 = ObservedBurst('sim{}_{}.csv'.format(data['col1'][i],data['col2'][i]),path=path)\n",
    "\n",
    "# Extract all the observeables\n",
    "\n",
    "    c_bol = data['col7'][i]\n",
    "    fluen, fluene = b1.fluence()\n",
    "    tdel = data['col3'][i]*u.hr\n",
    "    tdel_err = data['col4'][i]*u.hr\n",
    "    fper = data['col5'][i]*u.erg/u.cm**2/u.s\n",
    "    fper_err = data['col6'][i]*fper.unit\n",
    "\n",
    "# Calculate derived quantities\n",
    "\n",
    "    if alpha_dist:\n",
    "        alpha = ( np.random.normal(loc=tdel.to('s').value, scale=tdel_err.to('s').value, size=nsamp)\n",
    "                  * np.random.normal(loc=fper.value, scale=fper_err.value, size=nsamp) * c_bol \n",
    "                  / np.random.normal(loc=fluen.value, scale=fluene.value, size=nsamp) )\n",
    "    else:\n",
    "        alpha = tdel.to('s')*fper*c_bol/fluen\n",
    "        alpha_err = alpha*sqrt((tdel_err/tdel)**2+(fper_err/fper)**2\n",
    "                       +(fluene/fluen)**2)\n",
    "\n",
    "        print (\"row {}: fluence: {:.4g}, tdel: {:.5f}, alpha: {:.4f}, c_bol: {:.4f}\".format(\n",
    "            i,fluen,tdel,alpha,c_bol))\n",
    "\n",
    "# Generate values typical from earlier efforts to do this\n",
    "\n",
    "    xbar, _x_0, dummy = hfrac(alpha,tdel,1+z_def,isotropic=True,old_relation=True)\n",
    "\n",
    "    if alpha_dist:\n",
    "        x_0_isotropic.append(min([xmax,np.percentile(_x_0,50)]))\n",
    "    else:\n",
    "        x_0_isotropic.append(min([xmax,_x_0]))\n",
    "    x_0_actual.append(data_secret['col7'][i])\n",
    "\n",
    "# Generate the best possible estimate\n",
    "\n",
    "    xbar, _x_0, dummy = hfrac(alpha,tdel,data_secret['col17'][i],\n",
    "                              zcno=data_secret['col5'][i],\n",
    "                              isotropic=False,inclination=data_secret['col16'][i],\n",
    "                              debug=True)\n",
    "#    x_0_best.append(min([xmax,_x_0]))\n",
    "    \n",
    "    if alpha_dist:\n",
    "        x_0_best.append(np.percentile(_x_0,50))\n",
    "    else:\n",
    "        x_0_best.append(_x_0)\n",
    "\n",
    "# Generate more up-to-date (and hopefully more precise) estimates\n",
    "\n",
    "    xbar, _x_0, dummy = hfrac(alpha,tdel,1+z_def,isotropic=False)\n",
    "    good = np.where(_x_0 <= xmax)[0]\n",
    "    if len(good) > 0:\n",
    "        x_0.append(np.mean(_x_0[good]))\n",
    "        x_0_err.append(0.5*(np.percentile(_x_0[good],84)\n",
    "                            -np.percentile(_x_0[good],16)))\n",
    "    else:\n",
    "        x_0.append(xmax)\n",
    "        x_0_err.append(0.0)"
   ]
  },
  {
   "cell_type": "markdown",
   "metadata": {},
   "source": [
    "What we find here typically is that the \"best\" value (using input 1+z, Z_CNO) overestimates the true value, while the isotropic value underestimates it.\n",
    "\n",
    "The version incorporating a distribution of inclinations comes somewhere in the middle"
   ]
  },
  {
   "cell_type": "code",
   "execution_count": 5,
   "metadata": {
    "collapsed": false
   },
   "outputs": [
    {
     "data": {
      "text/plain": [
       "<matplotlib.legend.Legend at 0x114245eb8>"
      ]
     },
     "execution_count": 5,
     "metadata": {},
     "output_type": "execute_result"
    },
    {
     "data": {
      "image/png": "[encoded data removed]",
      "text/plain": [
       "<Figure size 432x288 with 1 Axes>"
      ]
     },
     "metadata": {},
     "output_type": "display_data"
    }
   ],
   "source": [
    "# poster size\n",
    "\n",
    "# plt.figure(figsize=(10,8))\n",
    "\n",
    "plt.plot(np.array(x_0_actual)-0.001,x_0_isotropic,\"o\",label='isotropic')\n",
    "plt.plot(np.array(x_0_actual)-0.002,x_0_best,\"o\",label='best')\n",
    "plt.errorbar(np.array(x_0_actual)+0.001,x_0,x_0_err,fmt=\"o\",label='he16')\n",
    "\n",
    "plt.plot([0.6,0.77],[0.6,0.77],'--')\n",
    "plt.xlabel(\"$X_0$\")\n",
    "plt.ylabel(\"$X_0$ inferred\")\n",
    "plt.legend()\n",
    "\n",
    "# plt.savefig('sim10_comparison.pdf')"
   ]
  },
  {
   "cell_type": "code",
   "execution_count": 143,
   "metadata": {
    "collapsed": false
   },
   "outputs": [
    {
     "data": {
      "text/plain": [
       "[<matplotlib.lines.Line2D at 0x118592e80>]"
      ]
     },
     "execution_count": 143,
     "metadata": {},
     "output_type": "execute_result"
    },
    {
     "data": {
      "image/png": "[encoded data removed]",
      "text/plain": [
       "<Figure size 432x288 with 1 Axes>"
      ]
     },
     "metadata": {},
     "output_type": "display_data"
    }
   ],
   "source": [
    "# Trying here to understand what gives the error we observe\n",
    "\n",
    "# plt.hist(x_0_best-np.array(x_0_actual))\n",
    "# plt.plot(data['col3']/data_secret['col17'],x_0_best-np.array(x_0_actual),'.')\n",
    "plt.plot(data_secret['col7']/data_secret['col5'],x_0_best-np.array(x_0_actual),'.')"
   ]
  },
  {
   "cell_type": "markdown",
   "metadata": {},
   "source": [
    "# XMMU J181227.8-181234 (= XTE J1812-182)\n",
    "\n",
    "Here are some analysis results provided by Adelle on 14.6.18, approximate only; these were subsequently adopted in the submitted version of the paper (checked 22.2.19)"
   ]
  },
  {
   "cell_type": "code",
   "execution_count": 85,
   "metadata": {
    "collapsed": false
   },
   "outputs": [
    {
     "name": "stdout",
     "output_type": "stream",
     "text": [
      "Best estimate of recurrence time is 1.38_-0.52^0.91 h\n"
     ]
    }
   ],
   "source": [
    "import astropy.stats as s\n",
    "\n",
    "# Estimate tdel and error based on Poisson stats\n",
    "\n",
    "exp = (0.3446*u.d).to('hr') # total exposure\n",
    "nburst = 6 # total number of bursts observed (excluding SWT bursts)\n",
    "\n",
    "# Use the function in astropy.stats\n",
    "\n",
    "lim2 = s.poisson_conf_interval(nburst,interval='frequentist-confidence').T\n",
    "\n",
    "print ('Best estimate of recurrence time is {:.2f}_{:.2f}^{:.2f}'.format(\n",
    "    tdel.value,(exp/lim2[1]-tdel).value,exp/lim2[0]-tdel))"
   ]
  },
  {
   "cell_type": "markdown",
   "metadata": {},
   "source": [
    "We run into a problem when we try to generate a synthetic distribution of recurrence times consistent with these limits, because the quoted limits given by both Gehrels et al. and the astropy.stats function poisson_conf_interval give the `n-1` value for the _lower_ limit (not sure why). I illustrate this below"
   ]
  },
  {
   "cell_type": "code",
   "execution_count": 101,
   "metadata": {
    "collapsed": false
   },
   "outputs": [
    {
     "name": "stdout",
     "output_type": "stream",
     "text": [
      "0.9999998824909364\n"
     ]
    },
    {
     "data": {
      "image/png": "[encoded data removed]",
      "text/plain": [
       "<Figure size 432x288 with 1 Axes>"
      ]
     },
     "metadata": {
      "needs_background": "light"
     },
     "output_type": "display_data"
    }
   ],
   "source": [
    "# See https://docs.scipy.org/doc/scipy/reference/generated/scipy.stats.poisson.html\n",
    "\n",
    "mean = np.arange(15000)/500. # [0-30]\n",
    "\n",
    "# This is the cumulative PDF for the mean rate, given the detection of nburst events\n",
    "\n",
    "c = 1-poisson.cdf(nburst,mean)\n",
    "\n",
    "# Now plot, for illustrative purposes\n",
    "\n",
    "plt.plot(mean,c)\n",
    "print (max(c))"
   ]
  },
  {
   "cell_type": "code",
   "execution_count": 102,
   "metadata": {
    "collapsed": false
   },
   "outputs": [
    {
     "name": "stdout",
     "output_type": "stream",
     "text": [
      "Adopting 1-sided confidence value of 0.8413\n",
      "2209 4792 0.15869999999999995 0.8413 4.418 9.584\n",
      "Compare with range in gehrels86 of (3.620,9.584)\n"
     ]
    }
   ],
   "source": [
    "# Now finding the 1-sigma confidence levels\n",
    "\n",
    "conf = 0.8413*2.-1. # 1-sigma = 0.6826\n",
    "# \"double-sided intervals... can be obtained by substituting (1+cl)/2 for cl...\" (gehrels86)\n",
    "conf = (1+conf)/2.\n",
    "print ('Adopting 1-sided confidence value of {:.4f}'.format(conf))\n",
    "\n",
    "iup = np.argmin(abs(c-(1-conf)))\n",
    "ilo = np.argmin(abs(c-conf))\n",
    "\n",
    "print (iup,ilo,(1-conf),conf,mean[iup],mean[ilo])\n",
    "print ('Compare with range in gehrels86 of (3.620,9.584)')"
   ]
  },
  {
   "cell_type": "markdown",
   "metadata": {},
   "source": [
    "So the cumulative distribution limits don't match what's returned by the `poisson_conf_interval` function (nor what's in Gehrels et al. 1986). We can go ahead anyway and generate a distribution matching our function, and then propagate it through to our xbar calculation"
   ]
  },
  {
   "cell_type": "markdown",
   "metadata": {},
   "source": [
    "# SAX J1810.8-2609\n",
    "\n",
    "Here we use some analysis of three bursts observed by RXTE, and calculate the inferred X_0"
   ]
  },
  {
   "cell_type": "code",
   "execution_count": 8,
   "metadata": {
    "collapsed": false
   },
   "outputs": [
    {
     "name": "stdout",
     "output_type": "stream",
     "text": [
      "For assumed 1+z = 1.2590, X_0 = 0.5527_0.3580^0.7017\n",
      "i = 53.7_41.4^66.4\n"
     ]
    },
    {
     "data": {
      "image/png": "[encoded data removed]",
      "text/plain": [
       "<Figure size 432x288 with 1 Axes>"
      ]
     },
     "metadata": {},
     "output_type": "display_data"
    }
   ],
   "source": [
    "xbar, _x_0, i = hfrac(63.5,6.375*u.hr,1+z_def,isotropic=False)\n",
    "\n",
    "plt.hist(_x_0)\n",
    "plt.axvline(x=xmax,linestyle='--',color='k')\n",
    "\n",
    "good=np.where(_x_0 <= xmax)[0]\n",
    "print (\"For assumed 1+z = {:.4f}, X_0 = {:.4f}_{:.4f}^{:.4f}\".format(\n",
    "    1+z_def,np.percentile(_x_0[good],50),np.percentile(_x_0[good],16),\n",
    "       np.percentile(_x_0[good],84)))\n",
    "print (\"i = {:.1f}_{:.1f}^{:.1f}\".format(\n",
    "    np.percentile(i[good],50),np.percentile(i[good],16),\n",
    "       np.percentile(i[good],84)))\n",
    "\n"
   ]
  },
  {
   "cell_type": "code",
   "execution_count": null,
   "metadata": {
    "collapsed": true
   },
   "outputs": [],
   "source": []
  },
  {
   "cell_type": "code",
   "execution_count": null,
   "metadata": {
    "collapsed": true
   },
   "outputs": [],
   "source": []
  }
 ],
 "metadata": {
  "kernelspec": {
   "display_name": "Python 3",
   "language": "python",
   "name": "python3"
  },
  "language_info": {
   "codemirror_mode": {
    "name": "ipython",
    "version": 3
   },
   "file_extension": ".py",
   "mimetype": "text/x-python",
   "name": "python",
   "nbconvert_exporter": "python",
   "pygments_lexer": "ipython3",
   "version": "3.6.7"
  }
 },
 "nbformat": 4,
 "nbformat_minor": 2
}
