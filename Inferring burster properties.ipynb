{
 "cells": [
  {
   "cell_type": "markdown",
   "metadata": {},
   "source": [
    "This notebook is intended as a companion to the paper \"Robust inference of neutron-star parameters from thermonuclear burst observations\" by D. K. Galloway et al., and includes simple examples of using methods as part of the `concord` repository to demonstrate the inference of neutron star properties & burst fuel composition from observations and comparison with simulated data. \n",
    "\n",
    "The sections below largely follow the discussion in the paper, and include examples of data analysis from \n",
    "1. IGR J00291+5934\n",
    "1. XMMU J181227.8-181234 (= XTE J1812-182)\n",
    "1. SAX J1810.8-2609\n",
    "1. IGR J17591-2342\n",
    "\n",
    "The analysis approaches are broken into cases where you have 0, 1, 2 or more bursts; and for 2 or more, you can divide further into cases where you have no adjacent bursts, but can estimate an average recurrence time (e.g. in the case of XMMU J181227.8-181234; goodwin19b). See below for these examples\n",
    "\n",
    "The notebook has been tested with the following packages:\n",
    "* `matplotlib` 3.4.3\n",
    "* `astropy` 4.3.1\n",
    "\n",
    "### Future work\n",
    "\n",
    "To do before making this available to users:\n",
    "* Expand the references to proper links, and in-line citations\n",
    "* Clean up the code and comments, and remove extraneous stuff\n",
    "* Add in a routine to do the distance estimate as for XMMU J181227.8-181234, where you compare the mdot implied by the burst recurrence time to the persistent flux\n",
    "\n",
    "### Modification history\n",
    "\n",
    "`hfrac` has been further updated to calculate the H-fraction even when the hydrogen is exhausted at the base\n",
    "\n",
    "The `hfrac` function and the results have been updated for the new $Q_{\\rm nuc}$ coefficients derived by Adelle on 25/6/18\n",
    "\n",
    "### Functions\n",
    "\n",
    "Here we define the routine(s) that do the heavy lifting; as of 2019 Aug these have been incorporated into `concord`\n",
    "\n",
    "```\n",
    "Q_nuc\n",
    "hfrac\n",
    "iso_dist\n",
    "dist\n",
    "mdot\n",
    "yign\n",
    "L_Edd\n",
    "```"
   ]
  },
  {
   "cell_type": "code",
   "execution_count": 1,
   "metadata": {
    "collapsed": false
   },
   "outputs": [
    {
     "name": "stdout",
     "output_type": "stream",
     "text": [
      "matplotlib: 3.4.3\n"
     ]
    }
   ],
   "source": [
    "import concord as cd\n",
    "import astropy.constants as const\n",
    "import matplotlib.pyplot as plt\n",
    "from astropy.visualization import quantity_support \n",
    "from scipy.stats import poisson\n",
    "\n",
    "from chainconsumer import ChainConsumer\n",
    "from numpy.random import normal, multivariate_normal\n",
    "\n",
    "%matplotlib inline\n",
    "\n",
    "flux_unit = u.erg/u.cm**2/u.s\n",
    "mdot_Edd = 8.8e4*u.g/u.cm**2/u.s\n",
    "\n",
    "# Just checking\n",
    "\n",
    "import matplotlib\n",
    "print('matplotlib: {}'.format(matplotlib.__version__))"
   ]
  },
  {
   "cell_type": "markdown",
   "metadata": {},
   "source": [
    "## Zero bursts\n",
    "\n",
    "Here we compare the results from a study of the accretion-powered millisecond pulsar IGR J00291+5934, as published in gal06b; along with pointers to Adelle's version of settle. Can compare the earlier work with the subsequent detection of a burst from the source [kuin15](http://www.astronomerstelegram.org/?read=7849), with distance derivation (via the `dist` method).\n",
    "\n",
    "Note also the additional clause when plotting the distribution objects, to provide the unit support; see https://docs.astropy.org/en/stable/uncertainty"
   ]
  },
  {
   "cell_type": "code",
   "execution_count": 2,
   "metadata": {
    "collapsed": false
   },
   "outputs": [
    {
     "name": "stdout",
     "output_type": "stream",
     "text": [
      "Distance range including inclination constraints is 4.98 kpc_-0.50 kpc^0.69 kpc kpc\n",
      "  incorporates model-predicted anisotropy averaging xi_b = 0.705\n",
      "0.486\n"
     ]
    }
   ],
   "source": [
    "src = 'IGR J00291+5934'\n",
    "F_pk, F_pk_err = 18, 4 # 1e-8 erg/cm^2/s; \n",
    "\n",
    "gal06b = (3.9, 5.2) # llim, ulim (@ 3-sigma), for X=0.7\n",
    "          \n",
    "# F_pk *= 1e-8*flux_unit\n",
    "# F_pk_err *= 1e-8*flux_unit\n",
    "\n",
    "# Generate the distance distributions based on the peak flux, and the\n",
    "# empirical Eddington luminosity; two options here, the first with no\n",
    "# constraints on the inclination, the second imposing the inferred\n",
    "# inclination range of torres08, of 22-32 degrees\n",
    "\n",
    "dist_all = cd.dist((F_pk*1e-8, F_pk_err*1e-8)*flux_unit, empirical=True, fulldist=True)\n",
    "dist = cd.dist((F_pk*1e-8, F_pk_err*1e-8)*flux_unit, empirical=True, fulldist=True, imin=22, imax=32)#, plot=True)\n",
    "\n",
    "# Display the best estimate of the plausible range\n",
    "\n",
    "dper = np.percentile(dist['dist'].distribution,(50,16,84))\n",
    "print ('''Distance range including inclination constraints is {:.2f}_{:.2f}^{:.2f} kpc\n",
    "  incorporates model-predicted anisotropy averaging xi_b = {:.3f}'''.format(\n",
    "    dper[0],(dper[1]-dper[0]),dper[2]-dper[0],np.mean(dist['xi_b'].distribution)))\n",
    "\n",
    "# Show the fraction of samples beyond 5 kpc (why?)\n",
    "print (len(np.where(dist['dist'].distribution > 5.*u.kpc)[0])/len(dist['dist'].distribution))"
   ]
  },
  {
   "cell_type": "code",
   "execution_count": 3,
   "metadata": {
    "collapsed": false
   },
   "outputs": [
    {
     "data": {
      "text/plain": [
       "<matplotlib.legend.Legend at 0x118b74f40>"
      ]
     },
     "execution_count": 3,
     "metadata": {},
     "output_type": "execute_result"
    },
    {
     "data": {
      "image/png": "[encoded data removed]",
      "text/plain": [
       "<Figure size 576x432 with 1 Axes>"
      ]
     },
     "metadata": {
      "needs_background": "light"
     },
     "output_type": "display_data"
    }
   ],
   "source": [
    "# Plot to compare the 2 distributions\n",
    "\n",
    "fig1 = plt.figure()\n",
    "fig1.set_size_inches(8,6)\n",
    "with quantity_support():\n",
    "    plt.hist(dist_all['dist'].distribution,bins=np.arange(40)/5.,density=True, \n",
    "         label='$i<{:.0f}$'.format(cd.IMAX_NDIP))\n",
    "\n",
    "    plt.hist(dist['dist'].distribution,bins=np.arange(40)/5.,alpha=0.7,density=True,\n",
    "        label='${:.0f}<i<{:.0f}$'.format(22,32))\n",
    "plt.xlim(2.5,8)\n",
    "plt.xlabel('Distance (kpc)')\n",
    "# plt.text(7.7, .67, src, horizontalalignment='right')\n",
    "\n",
    "plt.axvline(dper[0],color='g')\n",
    "plt.axvline(dper[1],color='g',ls='--')\n",
    "plt.axvline(dper[2],color='g',ls='--')\n",
    "\n",
    "plt.axvline(gal06b[0],color='r',ls='--',label='Galloway (2006)')\n",
    "plt.axvline(gal06b[1],color='r',ls='--')\n",
    "\n",
    "plt.legend(title=src)\n",
    "\n",
    "# fig1.savefig(\"fig1.pdf\", bbox_inches='tight')"
   ]
  },
  {
   "cell_type": "markdown",
   "metadata": {},
   "source": [
    "## 1 burst\n",
    "\n",
    "Here I follow through the analysis of the (single) burst from IGR J17591-2342, from Table 3 of Kuiper et al. 2020 (https://arxiv.org/abs/2002.12154)"
   ]
  },
  {
   "cell_type": "code",
   "execution_count": 4,
   "metadata": {
    "collapsed": true
   },
   "outputs": [],
   "source": [
    "src = 'IGR J17591-2342'\n",
    "t0 = 58380.96358 # MJD\n",
    "instr = 'IJ1'\n",
    "\n",
    "F_pk, F_pk_err = 7.6, 1.4 # 1e-8 erg/cm^2/s\n",
    "F_pers, F_pers_err = 1.2, 0.2 # 1e-9 erg/cm^2/s\n",
    "E_b, E_b_err = 1.1, 0.1 # 1e-6 erg/cm^2\n",
    "\n",
    "# Apply the units\n",
    "\n",
    "F_pk *= 1e-8\n",
    "F_pk_err *= 1e-8\n",
    "F_pers *= 1e-9\n",
    "F_pers_err *= 1e-9\n",
    "E_b *= 1e-6\n",
    "E_b_err *= 1e-6"
   ]
  },
  {
   "cell_type": "code",
   "execution_count": 5,
   "metadata": {
    "collapsed": false
   },
   "outputs": [
    {
     "name": "stdout",
     "output_type": "stream",
     "text": [
      "Distance limits including inclination constraint 7.70 kpc_-0.64 kpc^+0.83 kpc kpc (100000 samples);\n",
      "  with burst anisotropy factor averaging xi_b = 0.70\n"
     ]
    },
    {
     "data": {
      "text/plain": [
       "<matplotlib.legend.Legend at 0x118c293a0>"
      ]
     },
     "execution_count": 5,
     "metadata": {},
     "output_type": "execute_result"
    },
    {
     "data": {
      "image/png": "[encoded data removed]",
      "text/plain": [
       "<Figure size 576x432 with 1 Axes>"
      ]
     },
     "metadata": {
      "needs_background": "light"
     },
     "output_type": "display_data"
    }
   ],
   "source": [
    "# There is a rough limit of 28-30 degrees for the inclination\n",
    "# We can use that to constrain the various system parameters we've derived\n",
    "# Use 100000 samples to make the figure for publication, with slightly smoother\n",
    "# distributions\n",
    "\n",
    "fig2 = plt.figure()\n",
    "fig2.set_size_inches(8,6)\n",
    "\n",
    "dist2 = cd.dist((F_pk, F_pk_err)*flux_unit, empirical=True, fulldist=True, imin=24, imax=30, nsamp=100000)\n",
    "dist_theo = cd.dist((F_pk, F_pk_err)*flux_unit, empirical=False, fulldist=True, imin=24, imax=30, nsamp=100000)\n",
    "\n",
    "with quantity_support():\n",
    "    plt.hist(dist2['dist'].distribution,density=True,bins=20,label=\"Empirical $L_\\mathrm{Edd}$ (Kuulkers et al. 2003)\")\n",
    "    plt.hist(dist_theo['dist'].distribution,density=True,bins=20,alpha=0.7,\n",
    "            label='Theoretical ($M=1.4 M_\\odot$, $1+z=1.259$)')\n",
    "    \n",
    "dper = np.percentile(dist2['dist'].distribution,(50,16,84))\n",
    "plt.axvline(dper[0],color='g', label='Kuiper et al. (2020)')\n",
    "plt.axvline(dper[1],color='g',ls='--')\n",
    "plt.axvline(dper[2],color='g',ls='--')\n",
    "# xiper = np.percentile(dist2['xi_b'][g],(50,16,84))\n",
    "\n",
    "# These values for the paper\n",
    "\n",
    "print ('''Distance limits including inclination constraint {:.2f}_{:.2f}^{:+.2f} kpc ({} samples);\n",
    "  with burst anisotropy factor averaging xi_b = {:.2f}'''.format(\n",
    "    dper[0], dper[1]-dper[0], dper[2]-dper[0], len(dist2['dist'].distribution),\n",
    "    np.mean(dist2['xi_b'].distribution)))\n",
    "\n",
    "plt.legend(title=src)\n",
    "\n",
    "# fig2.savefig(\"fig2.pdf\", bbox_inches='tight')"
   ]
  },
  {
   "cell_type": "code",
   "execution_count": 6,
   "metadata": {
    "collapsed": false
   },
   "outputs": [
    {
     "name": "stderr",
     "output_type": "stream",
     "text": [
      "WARNING:concord.utils:passed nsamp overridden by size of one or more parameter distribution\n"
     ]
    },
    {
     "name": "stdout",
     "output_type": "stream",
     "text": [
      "1.2e-09\n",
      "100000\n",
      "** WARNING ** this quantity is already a distribution\n",
      "\n",
      "Accretion rate implied from persistent flux, with xi_p = 0.47 (average) is 1936_-430^+560 g / (cm2 s) \n",
      "  or 0.022_-0.005^+0.006 cm2 / cm2 in units of the Eddington accretion rate\n"
     ]
    },
    {
     "data": {
      "text/plain": [
       "100000"
      ]
     },
     "execution_count": 6,
     "metadata": {},
     "output_type": "execute_result"
    }
   ],
   "source": [
    "# Estimate the accretion rate\n",
    "\n",
    "print (F_pers)\n",
    "m2 = cd.mdot((F_pers,F_pers_err)*flux_unit,dist2['dist'],inclination=dist2['i'],fulldist=True,nsamp=2000)\n",
    "\n",
    "mdot = np.percentile(m2['mdot'].distribution,(50,16,84))\n",
    "print ('''\n",
    "Accretion rate implied from persistent flux, with xi_p = {:.2f} (average) is {:.0f}_{:.0f}^{:+.0f} \n",
    "  or {:.3f}_{:.3f}^{:+.3f} in units of the Eddington accretion rate'''.format(\n",
    "    np.mean(m2['xi_p'].distribution),\n",
    "    mdot[0].value,(mdot[1]-mdot[0]).value,mdot[2]-mdot[0], #m2['mdot'].unit,\n",
    "    (mdot[0]/mdot_Edd).value,((mdot[1]-mdot[0])/mdot_Edd).value,(mdot[2]-mdot[0])/mdot_Edd))\n",
    "\n",
    "len(m2['mdot'].distribution)"
   ]
  },
  {
   "cell_type": "code",
   "execution_count": 56,
   "metadata": {
    "collapsed": false
   },
   "outputs": [
    {
     "name": "stdout",
     "output_type": "stream",
     "text": [
      "** WARNING ** this quantity is already a distribution\n",
      "<class 'astropy.uncertainty.core.QuantityDistribution'> <class 'astropy.uncertainty.core.QuantityDistribution'> <class 'astropy.uncertainty.core.QuantityDistribution'> <class 'astropy.units.quantity.Quantity'> <class 'astropy.uncertainty.core.QuantityDistribution'>\n",
      "\n",
      "Ignition column is 1.38 g / cm2_-0.44 g / cm2^+1.03 g / cm2 e8 g / cm2\n",
      "\n",
      "Inferred recurrence time is 1.21 +/- 0.58 d\n"
     ]
    }
   ],
   "source": [
    "# This calculation determines the ignition column; in the absence of a value for Xbar, \n",
    "# a random distribution of values is used\n",
    "# A uniform distribution of Xbar is not realistic, but it's hard to do better\n",
    "# also, large values of Xbar are suppressed by the limit on X_0, down the track\n",
    "\n",
    "import astropy.uncertainty as unc\n",
    "\n",
    "# nsamp = len(dist2['dist'])\n",
    "nsamp = cd.len_dist(dist2['dist'])\n",
    "# Xbar = np.random.random(nsamp)*0.7*u.dimensionless_unscaled\n",
    "Xbar = unc.uniform(lower=0.0*u.dimensionless_unscaled, upper=0.7*u.dimensionless_unscaled,\n",
    "                  n_samples=nsamp)\n",
    "# print (len(Xbar), nsamp)\n",
    "\n",
    "# Calculate the ignition column\n",
    "\n",
    "y2 = cd.yign((E_b, E_b_err)*u.erg/u.cm**2, dist2['dist'], inclination=dist2['i'], \n",
    "             Xbar=Xbar, fulldist=True)\n",
    "\n",
    "yign = np.percentile(y2['yign'].distribution[g]/1e8,(50,16,84))\n",
    "print('''\n",
    "Ignition column is {:.2f}_{:.2f}^{:+.2f} e8 {}'''.format(\n",
    "    yign[0],yign[1]-yign[0],yign[2]-yign[0],y2['yign'].unit))\n",
    "\n",
    "\n",
    "# Now the recurrence time\n",
    "\n",
    "dt1 = y2['yign']/m2['mdot']*1.259\n",
    "# print (type(dt1))\n",
    "\n",
    "print('''\n",
    "Inferred recurrence time is {:.2f} +/- {:.2f}'''.format(\n",
    "    np.mean(dt1.distribution[g]).to('d').value,np.std(dt1.distribution).to('d')))"
   ]
  },
  {
   "cell_type": "code",
   "execution_count": 54,
   "metadata": {
    "collapsed": false
   },
   "outputs": [
    {
     "data": {
      "image/png": "[encoded data removed]",
      "text/plain": [
       "<Figure size 432x288 with 4 Axes>"
      ]
     },
     "metadata": {
      "needs_background": "light"
     },
     "output_type": "display_data"
    }
   ],
   "source": [
    "fig3, axs3 = plt.subplots(2, 2)\n",
    "with quantity_support():\n",
    "    axs3[0, 0].hist(m2['mdot'].distribution, density=True)\n",
    "    axs3[0, 0].set_title('$\\dot{m}$')\n",
    "    \n",
    "    axs3[0, 1].hist(y2['yign'].distribution, density=True)\n",
    "    axs3[0, 1].set_title('$y_\\mathrm{ign}$')\n",
    "    \n",
    "    axs3[1, 0].hist(dt1.distribution.to('hr'), density=True)\n",
    "    axs3[1, 0].set_title('$\\Delta t$')"
   ]
  },
  {
   "cell_type": "code",
   "execution_count": 60,
   "metadata": {
    "collapsed": true
   },
   "outputs": [],
   "source": [
    "# The combination of Xbar and recurrence time constrain X_0 and Z_CNO. \n",
    "# For each pair, we calculate the values here\n",
    "\n",
    "Z_CNO = np.random.random(nsamp)*0.02\n",
    "\n",
    "x_0 = np.zeros(nsamp)\n",
    "for i in range(nsamp):\n",
    "    # print (i,Xbar.distribution[i],Z_CNO[i],dt1.distribution[i].to('hr'))\n",
    "    x_0[i] = cd.X_0(Xbar.distribution[i],Z_CNO[i],dt1.distribution[i].to('hr'))\n",
    "\n",
    "# We restrict to physical values i.e. x_0 < 0.75\n",
    "\n",
    "g = np.where(x_0 < 0.75)[0]"
   ]
  },
  {
   "cell_type": "code",
   "execution_count": 75,
   "metadata": {
    "collapsed": false
   },
   "outputs": [
    {
     "data": {
      "text/latex": [
       "$[0.67078975,~1.0277755,~2.5216312,~\\dots,~1.411352,~0.87241314,~1.9601116] \\; \\mathrm{d}$"
      ],
      "text/plain": [
       "<Quantity [0.67078975, 1.02777553, 2.52163125, 1.57633003, 0.90826803,\n",
       "           1.16990205, 0.78535889, 2.13151562, 1.58415638, 0.76705453,\n",
       "           3.0286474 , 1.45981141, 0.621488  , 0.79371585, 1.5189482 ,\n",
       "           0.84212883, 1.5324532 , 2.43323443, 1.70146595, 2.83555091,\n",
       "           1.3095703 , 2.31012976, 0.93058377, 1.10398053, 2.33183107,\n",
       "           0.70036937, 1.17143402, 1.72543118, 1.61463522, 1.59226841,\n",
       "           1.0426062 , 0.88629302, 1.7821434 , 0.79688793, 0.93241765,\n",
       "           1.84104865, 0.93502218, 1.86449377, 1.53743003, 0.80039612,\n",
       "           1.36570418, 1.17279332, 0.63101086, 0.88678704, 1.476346  ,\n",
       "           0.97322182, 1.73826937, 0.85368877, 2.04978864, 2.2469861 ,\n",
       "           0.91393677, 2.12782697, 0.93983943, 3.71815174, 0.84338669,\n",
       "           1.69429094, 1.09340715, 0.67258386, 2.06190483, 1.79456805,\n",
       "           0.88447644, 0.99016153, 1.27385774, 1.17549681, 1.14803133,\n",
       "           1.73658758, 0.87882085, 0.6284659 , 0.99922348, 1.87148542,\n",
       "           1.0420496 , 0.98034547, 0.98139805, 2.59917796, 3.34748296,\n",
       "           1.28711364, 0.9515306 , 0.96167852, 0.85451271, 1.03934712,\n",
       "           1.13716767, 0.59417693, 0.80448677, 1.36211043, 1.21310619,\n",
       "           1.7829562 , 1.73791248, 2.0381026 , 1.40942442, 2.06997551,\n",
       "           0.75844346, 1.15925136, 1.33788132, 1.81146145, 0.8211576 ,\n",
       "           0.77931191, 2.3550658 , 0.59757661, 1.88688545, 0.72284147,\n",
       "           1.51205567, 0.7819611 , 2.62553321, 4.21400883, 0.87677004,\n",
       "           1.17049632, 1.47309154, 1.65535074, 1.42915834, 1.02921605,\n",
       "           1.40639421, 1.53346813, 2.07591316, 1.37904774, 0.81983163,\n",
       "           0.73268225, 0.58573068, 0.88550027, 1.25948757, 1.26248252,\n",
       "           1.75286221, 0.6413653 , 1.7571201 , 2.13553484, 1.53058877,\n",
       "           3.26297519, 1.95581114, 1.00487664, 1.41498656, 1.65610756,\n",
       "           0.77128001, 1.23189885, 0.98493647, 1.94978671, 0.96845968,\n",
       "           0.8645213 , 1.98474937, 2.91856046, 2.33232371, 1.0851651 ,\n",
       "           1.03876186, 1.23938232, 1.27687376, 1.26820068, 2.16400421,\n",
       "           0.64808129, 1.26447649, 1.607436  , 0.69440168, 0.6392543 ,\n",
       "           0.91840568, 1.90602857, 1.53512067, 0.99502854, 0.5478662 ,\n",
       "           2.75048787, 0.77933103, 0.64730271, 1.70722108, 1.03662281,\n",
       "           1.06567119, 0.97953585, 0.81154497, 1.66523847, 0.92122769,\n",
       "           0.91153824, 2.5495059 , 0.58979432, 1.27020026, 2.36623446,\n",
       "           0.72105885, 0.98486493, 1.43509767, 1.28986198, 2.59111039,\n",
       "           0.779702  , 1.48108586, 1.08952158, 1.03402229, 1.21636293,\n",
       "           1.30297756, 0.72830164, 1.74265655, 2.60226429, 1.87436807,\n",
       "           2.15456975, 1.38782026, 0.80276573, 0.86234607, 1.05147238,\n",
       "           1.22781394, 1.10925066, 1.63801653, 1.83391694, 2.24760407,\n",
       "           0.93782241, 0.56838464, 0.8553978 , 1.09042488, 0.99692324,\n",
       "           1.56566917, 1.20301265, 0.95541867, 1.47493176, 1.01970468,\n",
       "           2.67930892, 0.85097605, 1.64951363, 1.62142962, 1.81825908,\n",
       "           0.7371931 , 0.95825187, 0.93630749, 0.83981319, 0.97008775,\n",
       "           1.81972119, 1.26966465, 1.35199961, 2.56498653, 1.88963732,\n",
       "           0.89239612, 1.83371377, 1.40631153, 0.93115911, 2.35927869,\n",
       "           0.65889461, 1.69134175, 2.09382696, 0.72165366, 0.86563281,\n",
       "           2.04137143, 1.95525172, 1.42859213, 2.14926333, 1.04266249,\n",
       "           0.8019046 , 1.75248154, 0.95476779, 2.0798281 , 1.20052092,\n",
       "           0.8584648 , 1.01560509, 0.673513  , 1.96461279, 1.03380717,\n",
       "           1.0933626 , 0.74130347, 3.73431486, 1.97011455, 1.42879468,\n",
       "           1.84241023, 1.66111718, 1.02656658, 0.98012088, 1.30414339,\n",
       "           2.62167326, 0.80201252, 2.01918125, 0.58428646, 1.13498497,\n",
       "           0.57644388, 0.87208144, 1.07659574, 0.60862715, 0.95843773,\n",
       "           2.88556747, 1.03726067, 1.85589359, 1.47360317, 1.64960075,\n",
       "           0.55296335, 1.1018046 , 1.54285892, 0.71642448, 0.99878838,\n",
       "           1.56364775, 0.85835865, 1.72413295, 1.87645982, 2.63769486,\n",
       "           1.01216645, 1.59646553, 1.09352342, 1.09834028, 2.30340016,\n",
       "           1.96851508, 1.00647797, 1.99969177, 1.59630616, 0.85982256,\n",
       "           0.65611021, 0.93786751, 1.54121233, 1.12379648, 1.29609574,\n",
       "           1.80020997, 0.76216003, 0.7787749 , 0.95953849, 2.22136824,\n",
       "           2.19121107, 2.25133503, 0.99015235, 1.35339548, 1.23159408,\n",
       "           1.37680531, 1.18219496, 2.32705427, 0.92224892, 1.21610489,\n",
       "           0.84016681, 2.43059975, 2.22470516, 1.77967881, 1.03782623,\n",
       "           0.73824876, 3.24545355, 3.02669839, 0.8100452 , 2.35109853,\n",
       "           2.6053946 , 1.56335815, 1.84320871, 1.01924432, 1.2127185 ,\n",
       "           0.9696386 , 0.75259165, 2.93416812, 0.80005638, 1.10978308,\n",
       "           1.73885461, 0.63479662, 2.22273139, 0.91703566, 2.59719548,\n",
       "           0.8218166 , 2.34748911, 1.10860288, 0.89749328, 1.18198072,\n",
       "           0.92573778, 1.06307603, 1.39389083, 0.99871159, 2.79081465,\n",
       "           0.70566365, 2.76461597, 1.34524091, 0.77165634, 1.31722296,\n",
       "           0.82272189, 0.99824809, 1.0912204 , 0.86652532, 1.14895833,\n",
       "           0.77455995, 3.16584372, 1.87849622, 1.35172458, 1.53692459,\n",
       "           0.5907566 , 0.95759334, 0.91765402, 0.81163692, 0.73224921,\n",
       "           1.80882037, 0.81311269, 4.17835867, 0.61458211, 0.84282531,\n",
       "           1.75241331, 1.59732274, 1.24090239, 1.98959416, 0.81089471,\n",
       "           0.78176937, 0.64286601, 1.494175  , 1.3526885 , 2.17726782,\n",
       "           1.09336365, 1.21517731, 2.02966334, 0.55909052, 0.63582643,\n",
       "           1.31121402, 1.77510662, 0.94756864, 2.38736706, 0.76259047,\n",
       "           0.82750657, 1.91401676, 1.10021236, 1.19057012, 1.21809132,\n",
       "           0.61516329, 0.84003936, 1.80883605, 1.33389095, 0.80299925,\n",
       "           1.10962536, 0.71704221, 1.05112736, 0.78560817, 1.49426537,\n",
       "           0.87425745, 2.71512637, 0.90359513, 0.73391165, 3.20251013,\n",
       "           0.85760012, 1.46932981, 0.78179442, 1.77493172, 2.47774185,\n",
       "           1.77247983, 0.79833833, 0.80206267, 1.22221775, 0.976997  ,\n",
       "           0.66477453, 0.79634599, 1.77712001, 0.78643125, 1.28514569,\n",
       "           0.83267037, 0.56703493, 1.62552725, 1.62376579, 1.65133231,\n",
       "           0.80582807, 1.80591732, 0.8808727 , 0.95729471, 1.82136572,\n",
       "           1.36338764, 1.13668395, 1.46203076, 1.07406024, 0.85364716,\n",
       "           1.94770463, 1.75014647, 0.79427766, 2.58470285, 2.26012419,\n",
       "           0.69604834, 1.22653493, 2.29468163, 0.93911724, 1.08032312,\n",
       "           0.91752093, 1.34960814, 0.70896954, 1.73436774, 1.210317  ,\n",
       "           1.2483547 , 2.8219486 , 1.0106215 , 1.95060768, 1.83692716,\n",
       "           2.5725485 , 0.85825905, 0.88414149, 1.72917928, 1.5006595 ,\n",
       "           1.43156282, 0.67959494, 0.91875459, 1.04157606, 2.44814213,\n",
       "           0.97853032, 1.18462649, 1.44082969, 1.12907693, 0.75386781,\n",
       "           1.61163363, 2.40511803, 1.25617944, 1.4769157 , 0.61832616,\n",
       "           1.31835394, 0.93836476, 0.69550262, 2.63692833, 0.80053411,\n",
       "           0.91293279, 0.9602566 , 1.92943623, 1.14817176, 0.98157796,\n",
       "           0.80107883, 0.88234302, 1.57746223, 0.69230966, 0.63616339,\n",
       "           1.28754399, 1.10577158, 0.79500408, 0.74062777, 1.93905113,\n",
       "           2.17773768, 1.89830017, 0.82701631, 2.50519693, 2.27650173,\n",
       "           1.29969775, 2.21689311, 1.36040724, 1.67434022, 1.59619344,\n",
       "           2.26398561, 0.95661007, 1.8552725 , 1.35643722, 0.8979529 ,\n",
       "           1.93492855, 1.1243317 , 0.64162197, 1.52411086, 1.226672  ,\n",
       "           1.38220473, 0.74117273, 0.76946273, 1.19875288, 1.2695689 ,\n",
       "           1.26746018, 1.39134803, 2.84503206, 1.31608028, 3.30432696,\n",
       "           0.95107012, 2.46384041, 1.60408693, 0.92161244, 0.38873324,\n",
       "           0.78180632, 0.75695302, 0.89934204, 1.23968073, 1.60658005,\n",
       "           1.19150044, 1.03293527, 2.38786117, 1.18411189, 0.86913587,\n",
       "           1.32580766, 1.03624368, 1.0703697 , 1.46633441, 2.30614947,\n",
       "           0.86068147, 1.76498976, 1.74789181, 1.39245983, 0.79056478,\n",
       "           2.5864841 , 1.40264218, 2.18389465, 2.31080623, 1.43491166,\n",
       "           0.50847953, 2.22653483, 1.62519326, 0.87151371, 0.95607335,\n",
       "           1.09328787, 2.11974194, 1.19914215, 0.96090718, 1.31070917,\n",
       "           1.45832951, 1.31441267, 2.33721928, 1.78051836, 0.65799469,\n",
       "           1.49966221, 0.93998911, 1.84824308, 0.75218861, 1.79737904,\n",
       "           2.73977469, 0.66241238, 0.67272349, 2.17225108, 0.62385441,\n",
       "           1.70617462, 0.92447636, 1.411352  , 0.87241314, 1.96011164] d>"
      ]
     },
     "execution_count": 75,
     "metadata": {},
     "output_type": "execute_result"
    }
   ],
   "source": [
    "dt1.distribution[g].to('day')"
   ]
  },
  {
   "cell_type": "code",
   "execution_count": 83,
   "metadata": {
    "collapsed": false
   },
   "outputs": [],
   "source": [
    "# using instead chainconsumer to plot; see \n",
    "# https://samreay.github.io/ChainConsumer/examples/customisations/plot_one_chain.html\n",
    "\n",
    "data = np.vstack((Xbar.distribution[g], x_0[g], Z_CNO[g], dt1.distribution[g].to('h').value)).T"
   ]
  },
  {
   "cell_type": "code",
   "execution_count": 84,
   "metadata": {
    "collapsed": false
   },
   "outputs": [
    {
     "name": "stderr",
     "output_type": "stream",
     "text": [
      "WARNING:chainconsumer:Parameter $\\overline{X}$ in chain Chain 0 is not constrained\n",
      "WARNING:chainconsumer:Parameter $X_0$ in chain Chain 0 is not constrained\n"
     ]
    },
    {
     "ename": "TypeError",
     "evalue": "type Quantity doesn't define __round__ method",
     "output_type": "error",
     "traceback": [
      "\u001b[0;31m---------------------------------------------------------------------------\u001b[0m",
      "\u001b[0;31mTypeError\u001b[0m                                 Traceback (most recent call last)",
      "\u001b[0;32m<ipython-input-84-df8357e10c7b>\u001b[0m in \u001b[0;36m<module>\u001b[0;34m\u001b[0m\n\u001b[1;32m      1\u001b[0m \u001b[0;31m# If you pass in parameter labels and only one chain, you can also get parameter bounds\u001b[0m\u001b[0;34m\u001b[0m\u001b[0;34m\u001b[0m\u001b[0;34m\u001b[0m\u001b[0m\n\u001b[0;32m----> 2\u001b[0;31m fig = ChainConsumer().add_chain(data, \n\u001b[0m\u001b[1;32m      3\u001b[0m                                 \u001b[0mparameters\u001b[0m\u001b[0;34m=\u001b[0m\u001b[0;34m[\u001b[0m\u001b[0;34m\"$\\overline{X}$\"\u001b[0m\u001b[0;34m,\u001b[0m \u001b[0;34m\"$X_0$\"\u001b[0m\u001b[0;34m,\u001b[0m \u001b[0;34m\"$Z_\\mathrm{CNO}$\"\u001b[0m\u001b[0;34m,\u001b[0m \u001b[0;34m\"$\\Delta t$\"\u001b[0m\u001b[0;34m]\u001b[0m\u001b[0;34m)\u001b[0m\u001b[0;34m.\u001b[0m\u001b[0mplotter\u001b[0m\u001b[0;34m.\u001b[0m\u001b[0mplot\u001b[0m\u001b[0;34m(\u001b[0m\u001b[0;34m\u001b[0m\u001b[0;34m\u001b[0m\u001b[0m\n\u001b[1;32m      4\u001b[0m \u001b[0;31m# uncomment the following line to save the plot\u001b[0m\u001b[0;34m\u001b[0m\u001b[0;34m\u001b[0m\u001b[0;34m\u001b[0m\u001b[0m\n\u001b[1;32m      5\u001b[0m \u001b[0;31m#                                filename='igrJ17591-2342.pdf'\u001b[0m\u001b[0;34m\u001b[0m\u001b[0;34m\u001b[0m\u001b[0;34m\u001b[0m\u001b[0m\n",
      "\u001b[0;32m/Library/Frameworks/Python.framework/Versions/3.8/lib/python3.8/site-packages/chainconsumer/plotter.py\u001b[0m in \u001b[0;36mplot\u001b[0;34m(self, figsize, parameters, chains, extents, filename, display, truth, legend, blind, watermark, log_scales)\u001b[0m\n\u001b[1;32m    178\u001b[0m \u001b[0;34m\u001b[0m\u001b[0m\n\u001b[1;32m    179\u001b[0m                         \u001b[0mparam_summary\u001b[0m \u001b[0;34m=\u001b[0m \u001b[0msummary\u001b[0m \u001b[0;32mand\u001b[0m \u001b[0mp1\u001b[0m \u001b[0;32mnot\u001b[0m \u001b[0;32min\u001b[0m \u001b[0mblind\u001b[0m\u001b[0;34m\u001b[0m\u001b[0;34m\u001b[0m\u001b[0m\n\u001b[0;32m--> 180\u001b[0;31m                         \u001b[0mm\u001b[0m \u001b[0;34m=\u001b[0m \u001b[0mself\u001b[0m\u001b[0;34m.\u001b[0m\u001b[0m_plot_bars\u001b[0m\u001b[0;34m(\u001b[0m\u001b[0max\u001b[0m\u001b[0;34m,\u001b[0m \u001b[0mp1\u001b[0m\u001b[0;34m,\u001b[0m \u001b[0mchain\u001b[0m\u001b[0;34m,\u001b[0m \u001b[0mflip\u001b[0m\u001b[0;34m=\u001b[0m\u001b[0mdo_flip\u001b[0m\u001b[0;34m,\u001b[0m \u001b[0msummary\u001b[0m\u001b[0;34m=\u001b[0m\u001b[0mparam_summary\u001b[0m\u001b[0;34m)\u001b[0m\u001b[0;34m\u001b[0m\u001b[0;34m\u001b[0m\u001b[0m\n\u001b[0m\u001b[1;32m    181\u001b[0m \u001b[0;34m\u001b[0m\u001b[0m\n\u001b[1;32m    182\u001b[0m                         \u001b[0;32mif\u001b[0m \u001b[0mmax_val\u001b[0m \u001b[0;32mis\u001b[0m \u001b[0;32mNone\u001b[0m \u001b[0;32mor\u001b[0m \u001b[0mm\u001b[0m \u001b[0;34m>\u001b[0m \u001b[0mmax_val\u001b[0m\u001b[0;34m:\u001b[0m\u001b[0;34m\u001b[0m\u001b[0;34m\u001b[0m\u001b[0m\n",
      "\u001b[0;32m/Library/Frameworks/Python.framework/Versions/3.8/lib/python3.8/site-packages/chainconsumer/plotter.py\u001b[0m in \u001b[0;36m_plot_bars\u001b[0;34m(self, ax, parameter, chain, flip, summary)\u001b[0m\n\u001b[1;32m   1259\u001b[0m                         \u001b[0max\u001b[0m\u001b[0;34m.\u001b[0m\u001b[0mfill_between\u001b[0m\u001b[0;34m(\u001b[0m\u001b[0mx\u001b[0m\u001b[0;34m,\u001b[0m \u001b[0mnp\u001b[0m\u001b[0;34m.\u001b[0m\u001b[0mzeros\u001b[0m\u001b[0;34m(\u001b[0m\u001b[0mx\u001b[0m\u001b[0;34m.\u001b[0m\u001b[0mshape\u001b[0m\u001b[0;34m)\u001b[0m\u001b[0;34m,\u001b[0m \u001b[0minterpolator\u001b[0m\u001b[0;34m(\u001b[0m\u001b[0mx\u001b[0m\u001b[0;34m)\u001b[0m\u001b[0;34m,\u001b[0m \u001b[0mcolor\u001b[0m\u001b[0;34m=\u001b[0m\u001b[0mcolour\u001b[0m\u001b[0;34m,\u001b[0m \u001b[0malpha\u001b[0m\u001b[0;34m=\u001b[0m\u001b[0;36m0.2\u001b[0m\u001b[0;34m,\u001b[0m \u001b[0mzorder\u001b[0m\u001b[0;34m=\u001b[0m\u001b[0mzorder\u001b[0m\u001b[0;34m)\u001b[0m\u001b[0;34m\u001b[0m\u001b[0;34m\u001b[0m\u001b[0m\n\u001b[1;32m   1260\u001b[0m                     \u001b[0;32mif\u001b[0m \u001b[0msummary\u001b[0m\u001b[0;34m:\u001b[0m\u001b[0;34m\u001b[0m\u001b[0;34m\u001b[0m\u001b[0m\n\u001b[0;32m-> 1261\u001b[0;31m                         \u001b[0mt\u001b[0m \u001b[0;34m=\u001b[0m \u001b[0mself\u001b[0m\u001b[0;34m.\u001b[0m\u001b[0mparent\u001b[0m\u001b[0;34m.\u001b[0m\u001b[0manalysis\u001b[0m\u001b[0;34m.\u001b[0m\u001b[0mget_parameter_text\u001b[0m\u001b[0;34m(\u001b[0m\u001b[0;34m*\u001b[0m\u001b[0mfit_values\u001b[0m\u001b[0;34m)\u001b[0m\u001b[0;34m\u001b[0m\u001b[0;34m\u001b[0m\u001b[0m\n\u001b[0m\u001b[1;32m   1262\u001b[0m                         \u001b[0;32mif\u001b[0m \u001b[0misinstance\u001b[0m\u001b[0;34m(\u001b[0m\u001b[0mparameter\u001b[0m\u001b[0;34m,\u001b[0m \u001b[0mstr\u001b[0m\u001b[0;34m)\u001b[0m\u001b[0;34m:\u001b[0m\u001b[0;34m\u001b[0m\u001b[0;34m\u001b[0m\u001b[0m\n\u001b[1;32m   1263\u001b[0m                             \u001b[0max\u001b[0m\u001b[0;34m.\u001b[0m\u001b[0mset_title\u001b[0m\u001b[0;34m(\u001b[0m\u001b[0;34mr\"$%s = %s$\"\u001b[0m \u001b[0;34m%\u001b[0m \u001b[0;34m(\u001b[0m\u001b[0mparameter\u001b[0m\u001b[0;34m.\u001b[0m\u001b[0mstrip\u001b[0m\u001b[0;34m(\u001b[0m\u001b[0;34m\"$\"\u001b[0m\u001b[0;34m)\u001b[0m\u001b[0;34m,\u001b[0m \u001b[0mt\u001b[0m\u001b[0;34m)\u001b[0m\u001b[0;34m,\u001b[0m \u001b[0mfontsize\u001b[0m\u001b[0;34m=\u001b[0m\u001b[0mtitle_size\u001b[0m\u001b[0;34m)\u001b[0m\u001b[0;34m\u001b[0m\u001b[0;34m\u001b[0m\u001b[0m\n",
      "\u001b[0;32m/Library/Frameworks/Python.framework/Versions/3.8/lib/python3.8/site-packages/chainconsumer/analysis.py\u001b[0m in \u001b[0;36mget_parameter_text\u001b[0;34m(self, lower, maximum, upper, wrap)\u001b[0m\n\u001b[1;32m    414\u001b[0m         \u001b[0mlower_error\u001b[0m \u001b[0;34m*=\u001b[0m \u001b[0;36m10\u001b[0m \u001b[0;34m**\u001b[0m \u001b[0mfactor\u001b[0m\u001b[0;34m\u001b[0m\u001b[0;34m\u001b[0m\u001b[0m\n\u001b[1;32m    415\u001b[0m         \u001b[0mmaximum\u001b[0m \u001b[0;34m*=\u001b[0m \u001b[0;36m10\u001b[0m \u001b[0;34m**\u001b[0m \u001b[0mfactor\u001b[0m\u001b[0;34m\u001b[0m\u001b[0;34m\u001b[0m\u001b[0m\n\u001b[0;32m--> 416\u001b[0;31m         \u001b[0mupper_error\u001b[0m \u001b[0;34m=\u001b[0m \u001b[0mround\u001b[0m\u001b[0;34m(\u001b[0m\u001b[0mupper_error\u001b[0m\u001b[0;34m,\u001b[0m \u001b[0mr\u001b[0m\u001b[0;34m)\u001b[0m\u001b[0;34m\u001b[0m\u001b[0;34m\u001b[0m\u001b[0m\n\u001b[0m\u001b[1;32m    417\u001b[0m         \u001b[0mlower_error\u001b[0m \u001b[0;34m=\u001b[0m \u001b[0mround\u001b[0m\u001b[0;34m(\u001b[0m\u001b[0mlower_error\u001b[0m\u001b[0;34m,\u001b[0m \u001b[0mr\u001b[0m\u001b[0;34m)\u001b[0m\u001b[0;34m\u001b[0m\u001b[0;34m\u001b[0m\u001b[0m\n\u001b[1;32m    418\u001b[0m         \u001b[0mmaximum\u001b[0m \u001b[0;34m=\u001b[0m \u001b[0mround\u001b[0m\u001b[0;34m(\u001b[0m\u001b[0mmaximum\u001b[0m\u001b[0;34m,\u001b[0m \u001b[0mr\u001b[0m\u001b[0;34m)\u001b[0m\u001b[0;34m\u001b[0m\u001b[0;34m\u001b[0m\u001b[0m\n",
      "\u001b[0;31mTypeError\u001b[0m: type Quantity doesn't define __round__ method"
     ]
    },
    {
     "data": {
      "image/png": "[encoded data removed]",
      "text/plain": [
       "<Figure size 432x432 with 16 Axes>"
      ]
     },
     "metadata": {
      "needs_background": "light"
     },
     "output_type": "display_data"
    }
   ],
   "source": [
    "# If you pass in parameter labels and only one chain, you can also get parameter bounds\n",
    "fig = ChainConsumer().add_chain(data, \n",
    "                                parameters=[\"$\\overline{X}$\", \"$X_0$\", \"$Z_\\mathrm{CNO}$\", \"$\\Delta t$\"]).plotter.plot(\n",
    "# uncomment the following line to save the plot\n",
    "#                                filename='igrJ17591-2342.pdf'\n",
    "                                )"
   ]
  },
  {
   "cell_type": "markdown",
   "metadata": {},
   "source": [
    "## Reference burst application\n",
    "\n",
    "For the three sources in the reference burst sample, we have moderately good constraints on the composition; so test how well the current analyses reproduce those values here\n",
    "\n",
    "First read in the data from the reference burst sample; this is done as part of `concord`, where we define an arbitrary burst for the sake of accessing the table (this could be achieved more simply)"
   ]
  },
  {
   "cell_type": "code",
   "execution_count": 5,
   "metadata": {
    "collapsed": false
   },
   "outputs": [
    {
     "data": {
      "text/html": [
       "<i>Row index=6</i>\n",
       "<table id=\"table4701352904\">\n",
       "<thead><tr><th>Epoch</th><th>$N_{\\rm burst}$ ($N_{\\rm av}$)</th><th>burst IDs$^a$</th><th>$\\Delta t$ (hr)</th><th>$F_{\\rm per}^b$ ($10^{-9}\\ \\epcs$)</th><th>$c_{\\rm bol}$</th><th>$\\dot{m}$ ($\\dot{m}_{\\rm Edd}$)</th><th>$E_b$ ($10^{-6}\\ \\epc$)</th><th>$F_{\\rm pk}$ ($10^{-9}\\ \\epcs$)</th><th>$\\alpha$</th><th>file</th></tr></thead>\n",
       "<thead><tr><th>str11</th><th>str5</th><th>str6</th><th>str28</th><th>str15</th><th>str16</th><th>str10</th><th>str15</th><th>str17</th><th>str13</th><th>str26</th></tr></thead>\n",
       "<tr><td>1997 May 4</td><td>3(1)</td><td>1</td><td>$2.681\\pm0.007$</td><td>$3.72\\pm0.18$</td><td>$1.45\\pm0.09$</td><td>0.144</td><td>$0.381\\pm0.003$</td><td>$61\\pm2$</td><td>$138.5\\pm1.4$</td><td>4u1820-303_2.681h.dat</td></tr>\n",
       "</table>"
      ],
      "text/plain": [
       "<Row index=6>\n",
       "  Epoch    $N_{\\rm burst}$ ($N_{\\rm av}$) burst IDs$^a$ $\\Delta t$ (hr) $F_{\\rm per}^b$ ($10^{-9}\\ \\epcs$) $c_{\\rm bol}$ $\\dot{m}$ ($\\dot{m}_{\\rm Edd}$) $E_b$ ($10^{-6}\\ \\epc$) $F_{\\rm pk}$ ($10^{-9}\\ \\epcs$)    $\\alpha$            file        \n",
       "  str11                 str5                   str6          str28                    str15                    str16                  str10                       str15                       str17                  str13             str26        \n",
       "---------- ------------------------------ ------------- --------------- ---------------------------------- ------------- ------------------------------- ----------------------- ------------------------------- ------------- ---------------------\n",
       "1997 May 4                           3(1)             1 $2.681\\pm0.007$                      $3.72\\pm0.18$ $1.45\\pm0.09$                           0.144         $0.381\\pm0.003$                        $61\\pm2$ $138.5\\pm1.4$ 4u1820-303_2.681h.dat"
      ]
     },
     "execution_count": 5,
     "metadata": {},
     "output_type": "execute_result"
    }
   ],
   "source": [
    "import concord as cd\n",
    "\n",
    "obs = cd.ObservedBurst.ref('GS 1826-24', 3.5)\n",
    "\n",
    "i = 6 # select the first epoch burst from 1820\n",
    "obs.table[i]"
   ]
  },
  {
   "cell_type": "code",
   "execution_count": 6,
   "metadata": {
    "collapsed": true
   },
   "outputs": [],
   "source": [
    "# This routine is redundant; see instead cd.decode_LaTeX\n",
    "\n",
    "import re\n",
    "\n",
    "def tex2val(tex_str):\n",
    "    \"\"\"\n",
    "    For string LaTeX values of the form $2.681\\\\pm0.007$, will return the value and error\n",
    "    \"\"\"\n",
    "    \n",
    "    m = re.findall('[.\\d]+', tex_str)\n",
    "\n",
    "    if len(m) == 1:\n",
    "        print ('** WARNING ** only single numeric element')\n",
    "        return float(m[0])\n",
    "    \n",
    "    return float(m[0]), float(m[1])"
   ]
  },
  {
   "cell_type": "code",
   "execution_count": 6,
   "metadata": {
    "collapsed": false
   },
   "outputs": [
    {
     "name": "stdout",
     "output_type": "stream",
     "text": [
      "$2.681\\pm0.007$ $3.72\\pm0.18$ $1.45\\pm0.09$ $0.381\\pm0.003$\n",
      "(2.681, 0.007) (0.381, 0.003) (3.72, 0.18) (1.45, 0.09)\n"
     ]
    }
   ],
   "source": [
    "f_unit = u.erg/u.cm**2/u.s\n",
    "nsamp = 1000\n",
    "\n",
    "# Extract the data from this row and plot the alpha values\n",
    "\n",
    "print (obs.table[i][3], obs.table[i][4], obs.table[i][5], obs.table[i][7])\n",
    "\n",
    "# Convert table strings to quantities (and errors, where available)\n",
    "tdel = cd.decode_LaTeX(obs.table[i][3])\n",
    "fper, e_fper = cd.decode_LaTeX(obs.table[i][4])\n",
    "fluen, fluene  = cd.decode_LaTeX(obs.table[i][7])\n",
    "bc = cd.decode_LaTeX(obs.table[i][5])\n",
    "# Could calculate alpha via the other parameters, should really incorporate this into hfrac\n",
    "# alpha = tex2val(obs.table[i][9])\n",
    "# alpha =  np.random.normal(0., 1., size=nsamp) * alpha[1] + alpha[0]\n",
    "\n",
    "# Here's the (new) built-in calculation in concord, for comparison\n",
    "\n",
    "# if tdel[1] is None:\n",
    "#     tdel = tdel[0]\n",
    "# if bc[1] is None:\n",
    "#     bc = bc[0]\n",
    "print (tdel, (fluen, fluene), (fper, e_fper), bc)"
   ]
  },
  {
   "cell_type": "code",
   "execution_count": 7,
   "metadata": {
    "collapsed": false
   },
   "outputs": [
    {
     "data": {
      "text/plain": [
       "<matplotlib.legend.Legend at 0x1183ac438>"
      ]
     },
     "execution_count": 7,
     "metadata": {},
     "output_type": "execute_result"
    },
    {
     "data": {
      "image/png": "[encoded data removed]",
      "text/plain": [
       "<Figure size 432x288 with 1 Axes>"
      ]
     },
     "metadata": {
      "needs_background": "light"
     },
     "output_type": "display_data"
    }
   ],
   "source": [
    "alpha2 = cd.alpha(tdel, (fluen, fluene), (fper, e_fper), bc)\n",
    "\n",
    "# Original (manual) calculation below\n",
    "\n",
    "fluen = np.random.normal(loc=fluen, scale=fluene, size=nsamp)\n",
    "pflux = np.random.normal(loc=fper, scale=e_fper, size=nsamp)\n",
    "if np.shape(bc) != ():\n",
    "    bc = np.random.normal(loc=bc[0], scale=bc[1], size=nsamp)\n",
    "# Calculate alpha and plot the histogram\n",
    "\n",
    "if np.shape(tdel) != ():\n",
    "    tdel =  (np.random.normal(0., 1., size=nsamp) * tdel[1] + tdel[0])*u.hr\n",
    "else:\n",
    "    tdel *= u.hr\n",
    "alpha = pflux*f_unit/u.s*bc*tdel.to('s')/(fluen*1000*f_unit)\n",
    "\n",
    "# compare with the concord version\n",
    "\n",
    "plt.hist(alpha, bins=20, density=True, label='manual')\n",
    "#print (np.shape(tdel), np.shape())\n",
    "plt.hist(alpha2.distribution, bins=20, density=True, alpha=.50, label='concord')\n",
    "plt.xlabel('$\\\\alpha$')\n",
    "plt.legend()"
   ]
  },
  {
   "cell_type": "code",
   "execution_count": 8,
   "metadata": {
    "collapsed": false
   },
   "outputs": [
    {
     "name": "stdout",
     "output_type": "stream",
     "text": [
      "$2.681\\pm0.007$ $3.72\\pm0.18$ $1.45\\pm0.09$ $0.381\\pm0.003$\n",
      "** WARNING ** this quantity is already a distribution\n",
      "95-percent upper limit on X_0 = 0.278 (577 samples)\n",
      "$1.892^e$ $5.70\\pm0.04$ 1.4981 $0.371\\pm0.010$\n",
      "** WARNING ** this quantity is already a distribution\n",
      "95-percent upper limit on X_0 = 0.185 (525 samples)\n"
     ]
    },
    {
     "data": {
      "text/plain": [
       "<matplotlib.lines.Line2D at 0x1187d8d68>"
      ]
     },
     "execution_count": 8,
     "metadata": {},
     "output_type": "execute_result"
    },
    {
     "data": {
      "image/png": "[encoded data removed]",
      "text/plain": [
       "<Figure size 432x288 with 1 Axes>"
      ]
     },
     "metadata": {
      "needs_background": "light"
     },
     "output_type": "display_data"
    }
   ],
   "source": [
    "for i in np.arange(2)+6:\n",
    "    print (obs.table[i][3], obs.table[i][4], obs.table[i][5], obs.table[i][7])\n",
    "\n",
    "    tdel = cd.decode_LaTeX(obs.table[i][3])\n",
    "    fper, e_fper = cd.decode_LaTeX(obs.table[i][4])\n",
    "    fluen, fluene  = cd.decode_LaTeX(obs.table[i][7])\n",
    "    c_bol = cd.decode_LaTeX(obs.table[i][5])\n",
    "\n",
    "    xbar, X_0, incl = cd.hfrac(tdel, fluen=(fluen, fluene), fper=(fper, e_fper), c_bol=c_bol, imin=34, imax=81) # inclination limits from Hauke's paper\n",
    "    plt.hist(X_0.distribution, bins=40, alpha=0.5, density=True, label=obs.table[i][0])\n",
    "# determine 95% limit on X_0\n",
    "\n",
    "    g = np.where(X_0.distribution >= 0)[0]\n",
    "    xlim = np.percentile(X_0.distribution[g],(18,50,84,95))\n",
    "\n",
    "    print ('95-percent upper limit on X_0 = {:.3f} ({} samples)'.format(xlim[3], \n",
    "          len(g)))\n",
    "\n",
    "plt.legend()\n",
    "plt.xlim(-0.1,0.5)\n",
    "plt.ylim(0,4)\n",
    "# plt.axvline(0.,linestyle='--',color='r')\n",
    "\n",
    "plt.axvline(xlim[0],linestyle='--',color='g')\n",
    "plt.axvline(xlim[1],linestyle='-',color='g')\n",
    "plt.axvline(xlim[2],linestyle='--',color='g')"
   ]
  },
  {
   "cell_type": "markdown",
   "metadata": {},
   "source": [
    "For GS 1826-24, Meisel et al. (2018) suggested an inclination of 65 or 80 deg; Johnston et al. (2020) found $i = 69^{+2}_{-3}$ degrees. Lack of dipping would suggest its $\\lesssim75$"
   ]
  },
  {
   "cell_type": "code",
   "execution_count": 9,
   "metadata": {
    "collapsed": false
   },
   "outputs": [
    {
     "data": {
      "text/html": [
       "<i>Row index=0</i>\n",
       "<table id=\"table4701352904\">\n",
       "<thead><tr><th>Epoch</th><th>$N_{\\rm burst}$ ($N_{\\rm av}$)</th><th>burst IDs$^a$</th><th>$\\Delta t$ (hr)</th><th>$F_{\\rm per}^b$ ($10^{-9}\\ \\epcs$)</th><th>$c_{\\rm bol}$</th><th>$\\dot{m}$ ($\\dot{m}_{\\rm Edd}$)</th><th>$E_b$ ($10^{-6}\\ \\epc$)</th><th>$F_{\\rm pk}$ ($10^{-9}\\ \\epcs$)</th><th>$\\alpha$</th><th>file</th></tr></thead>\n",
       "<thead><tr><th>str11</th><th>str5</th><th>str6</th><th>str28</th><th>str15</th><th>str16</th><th>str10</th><th>str15</th><th>str17</th><th>str13</th><th>str26</th></tr></thead>\n",
       "<tr><td>1998 Jun</td><td>6(1)</td><td>7</td><td>$5.14\\pm0.07$</td><td>$1.167\\pm0.006$</td><td>$1.806\\pm0.009$</td><td>0.0513</td><td>$1.102\\pm0.011$</td><td>$30.9\\pm1.0$</td><td>$34.2\\pm0.5$</td><td>gs1826-24_5.14h.dat</td></tr>\n",
       "</table>"
      ],
      "text/plain": [
       "<Row index=0>\n",
       " Epoch   $N_{\\rm burst}$ ($N_{\\rm av}$) burst IDs$^a$ $\\Delta t$ (hr) $F_{\\rm per}^b$ ($10^{-9}\\ \\epcs$)  $c_{\\rm bol}$  $\\dot{m}$ ($\\dot{m}_{\\rm Edd}$) $E_b$ ($10^{-6}\\ \\epc$) $F_{\\rm pk}$ ($10^{-9}\\ \\epcs$)   $\\alpha$           file       \n",
       " str11                str5                   str6          str28                    str15                     str16                   str10                       str15                       str17                 str13            str26       \n",
       "-------- ------------------------------ ------------- --------------- ---------------------------------- --------------- ------------------------------- ----------------------- ------------------------------- ------------ -------------------\n",
       "1998 Jun                           6(1)             7   $5.14\\pm0.07$                    $1.167\\pm0.006$ $1.806\\pm0.009$                          0.0513         $1.102\\pm0.011$                    $30.9\\pm1.0$ $34.2\\pm0.5$ gs1826-24_5.14h.dat"
      ]
     },
     "execution_count": 9,
     "metadata": {},
     "output_type": "execute_result"
    }
   ],
   "source": [
    "# Now try one of the epochs for 1826-24\n",
    "\n",
    "i = 0 # select the first epoch burst from 1826\n",
    "obs.table[i]"
   ]
  },
  {
   "cell_type": "code",
   "execution_count": 10,
   "metadata": {
    "collapsed": false
   },
   "outputs": [
    {
     "name": "stdout",
     "output_type": "stream",
     "text": [
      "$5.14\\pm0.07$ $1.167\\pm0.006$ $1.806\\pm0.009$ $1.102\\pm0.011$\n",
      "(5.14, 0.07) 1.102 1.167 (1.806, 0.009)\n",
      "** WARNING ** this quantity is already a distribution\n",
      "(4.177, 0.01) 1.126 1.593 (1.787, 0.003)\n",
      "** WARNING ** this quantity is already a distribution\n",
      "(3.53, 0.004) 1.18 1.87 (1.751, 0.003)\n",
      "** WARNING ** this quantity is already a distribution\n"
     ]
    },
    {
     "data": {
      "text/plain": [
       "<matplotlib.legend.Legend at 0x1188350b8>"
      ]
     },
     "execution_count": 10,
     "metadata": {},
     "output_type": "execute_result"
    },
    {
     "data": {
      "image/png": "[encoded data removed]",
      "text/plain": [
       "<Figure size 432x288 with 1 Axes>"
      ]
     },
     "metadata": {
      "needs_background": "light"
     },
     "output_type": "display_data"
    }
   ],
   "source": [
    "print (obs.table[i][3], obs.table[i][4], obs.table[i][5], obs.table[i][7])\n",
    "\n",
    "# Loop over the three epochs and determine the X_0 distribution for each one, comparing with\n",
    "# Johnston et al. 20\n",
    "\n",
    "for i in range(3):\n",
    "    tdel = cd.decode_LaTeX(obs.table[i][3])\n",
    "    fper, e_fper = cd.decode_LaTeX(obs.table[i][4])\n",
    "    fluen, fluene  = cd.decode_LaTeX(obs.table[i][7])\n",
    "    bc, bce = cd.decode_LaTeX(obs.table[i][5])\n",
    "# Could calculate alpha via the other parameters, should really incorporate this into hfrac\n",
    "# alpha = tex2val(obs.table[i][9])\n",
    "# alpha =  np.random.normal(0., 1., size=nsamp) * alpha[1] + alpha[0]\n",
    "\n",
    "# Here's the (new) built-in calculation in concord, for comparison\n",
    "\n",
    "    print (tdel, fluen, fper, (bc, bce))\n",
    "\n",
    "    alpha = cd.alpha(tdel, (fluen, fluene), (fper, e_fper), (bc, bce))\n",
    "    # plt.hist(alpha.distribution,alpha=0.5,label=obs.table[i][0],bins=np.arange(30)/2.+30.)\n",
    "    xbar, X_0, incl = cd.hfrac(tdel, alpha, imin=66, imax=71)#, imin=65, imax=80)\n",
    "    plt.hist(X_0.distribution,alpha=0.5,label=obs.table[i][0],bins=np.arange(30)/30.,density=True)\n",
    "\n",
    "plt.xlabel('$X_0$')\n",
    "plt.axvline(0.74,color='r',label='Johnston et al. (2020)') # central value from johnston20\n",
    "plt.axvline(0.74-0.03,color='r',linestyle='--')\n",
    "plt.axvline(0.74+0.02,color='r',linestyle='--')\n",
    "plt.xlim(0.4,0.8)\n",
    "plt.ylim(0,11)\n",
    "plt.legend()"
   ]
  },
  {
   "cell_type": "code",
   "execution_count": 11,
   "metadata": {
    "collapsed": false
   },
   "outputs": [
    {
     "name": "stdout",
     "output_type": "stream",
     "text": [
      "** WARNING ** this quantity is already a distribution\n"
     ]
    },
    {
     "data": {
      "text/plain": [
       "<matplotlib.lines.Line2D at 0x1189fd8d0>"
      ]
     },
     "execution_count": 11,
     "metadata": {},
     "output_type": "execute_result"
    },
    {
     "data": {
      "image/png": "[encoded data removed]",
      "text/plain": [
       "<Figure size 432x288 with 1 Axes>"
      ]
     },
     "metadata": {
      "needs_background": "light"
     },
     "output_type": "display_data"
    }
   ],
   "source": [
    "# This plot shows the dependence of the inferred composition on the inclination, for one\n",
    "# epoch\n",
    "\n",
    "xbar, X_0, incl = cd.hfrac(tdel, alpha, imin=65, imax=80)#, debug=True)\n",
    "plt.plot(incl.distribution,X_0.distribution,'.')\n",
    "plt.axvline(69,color='r')\n",
    "plt.axvline(69-3,color='r',linestyle='--')\n",
    "plt.axvline(69+2,color='r',linestyle='--')"
   ]
  },
  {
   "cell_type": "code",
   "execution_count": 12,
   "metadata": {
    "collapsed": false
   },
   "outputs": [
    {
     "data": {
      "text/html": [
       "<i>Row index=3</i>\n",
       "<table id=\"table4701352904\">\n",
       "<thead><tr><th>Epoch</th><th>$N_{\\rm burst}$ ($N_{\\rm av}$)</th><th>burst IDs$^a$</th><th>$\\Delta t$ (hr)</th><th>$F_{\\rm per}^b$ ($10^{-9}\\ \\epcs$)</th><th>$c_{\\rm bol}$</th><th>$\\dot{m}$ ($\\dot{m}_{\\rm Edd}$)</th><th>$E_b$ ($10^{-6}\\ \\epc$)</th><th>$F_{\\rm pk}$ ($10^{-9}\\ \\epcs$)</th><th>$\\alpha$</th><th>file</th></tr></thead>\n",
       "<thead><tr><th>str11</th><th>str5</th><th>str6</th><th>str28</th><th>str15</th><th>str16</th><th>str10</th><th>str15</th><th>str17</th><th>str13</th><th>str26</th></tr></thead>\n",
       "<tr><td>2002 Oct</td><td>1(1)</td><td>2</td><td>$16.55\\pm0.06^c$</td><td>2.541--2.298</td><td>$2.085\\pm 0.019$</td><td>0.0472$^d$</td><td>$2.649\\pm0.018$</td><td>$229\\pm4$</td><td>$114.4\\pm1.9$</td><td>saxj1808.4-3658_16.55h.dat</td></tr>\n",
       "</table>"
      ],
      "text/plain": [
       "<Row index=3>\n",
       " Epoch   $N_{\\rm burst}$ ($N_{\\rm av}$) burst IDs$^a$ $\\Delta t$ (hr)  $F_{\\rm per}^b$ ($10^{-9}\\ \\epcs$)  $c_{\\rm bol}$   $\\dot{m}$ ($\\dot{m}_{\\rm Edd}$) $E_b$ ($10^{-6}\\ \\epc$) $F_{\\rm pk}$ ($10^{-9}\\ \\epcs$)    $\\alpha$              file           \n",
       " str11                str5                   str6          str28                     str15                     str16                    str10                       str15                       str17                  str13               str26           \n",
       "-------- ------------------------------ ------------- ---------------- ---------------------------------- ---------------- ------------------------------- ----------------------- ------------------------------- ------------- --------------------------\n",
       "2002 Oct                           1(1)             2 $16.55\\pm0.06^c$                       2.541--2.298 $2.085\\pm 0.019$                      0.0472$^d$         $2.649\\pm0.018$                       $229\\pm4$ $114.4\\pm1.9$ saxj1808.4-3658_16.55h.dat"
      ]
     },
     "execution_count": 12,
     "metadata": {},
     "output_type": "execute_result"
    }
   ],
   "source": [
    "# Now try the 3 epochs for 1808-369\n",
    "\n",
    "i = 3 # select the first epoch burst from 1826\n",
    "obs.table[i]\n",
    "\n",
    "# fper, e_fper = tex2val(obs.table[i][4])\n",
    "# print (fper, e_fper)"
   ]
  },
  {
   "cell_type": "code",
   "execution_count": 13,
   "metadata": {
    "collapsed": false
   },
   "outputs": [
    {
     "name": "stdout",
     "output_type": "stream",
     "text": [
      "3 2.541 2.298\n",
      "(16.55, 0.06) 2.649 2.4195 (2.085, 0.019)\n",
      "** WARNING ** this quantity is already a distribution\n",
      "4 2.298 1.946\n",
      "(21.1, None) 2.99 2.122 (2.13, 0.04)\n",
      "** WARNING ** this quantity is already a distribution\n",
      "5 1.946 1.826\n",
      "(29.82, None) 3.46 1.8860000000000001 (2.157, 0.002)\n",
      "** WARNING ** this quantity is already a distribution\n"
     ]
    },
    {
     "data": {
      "text/plain": [
       "<matplotlib.legend.Legend at 0x118bb5eb8>"
      ]
     },
     "execution_count": 13,
     "metadata": {},
     "output_type": "execute_result"
    },
    {
     "data": {
      "image/png": "[encoded data removed]",
      "text/plain": [
       "<Figure size 432x288 with 1 Axes>"
      ]
     },
     "metadata": {
      "needs_background": "light"
     },
     "output_type": "display_data"
    }
   ],
   "source": [
    "# Loop over the three epochs and determine the X_0 distribution for each one, comparing with\n",
    "# Goodwin et al. 2019\n",
    "# Wang et al. (2013) had i=50^{+6}_{-5}, Cackett et al. (2009) had 55^{+8}_{-4}\n",
    "# Select a conservative range of inclinations covering both ranges\n",
    "\n",
    "for i in np.arange(3)+3:\n",
    "    tdel = cd.decode_LaTeX(obs.table[i][3])\n",
    "    # persistent flux is given as a range not value with error\n",
    "    # fper, e_fper = tex2val(obs.table[i][4])\n",
    "    fmin, fmax = cd.decode_LaTeX(obs.table[i][4])\n",
    "    # print (i, fmin, fmax)\n",
    "    fper, e_fper = 0.5*(fmin+fmax), 0.5*(fmax-fmin)\n",
    "    fluen, fluene  = cd.decode_LaTeX(obs.table[i][7])\n",
    "    bc, bce = cd.decode_LaTeX(obs.table[i][5])\n",
    "# Could calculate alpha via the other parameters, should really incorporate this into hfrac\n",
    "# alpha = tex2val(obs.table[i][9])\n",
    "# alpha =  np.random.normal(0., 1., size=nsamp) * alpha[1] + alpha[0]\n",
    "\n",
    "# Here's the (new) built-in calculation in concord, for comparison\n",
    "\n",
    "    print (tdel, fluen, fper, (bc, bce))\n",
    "\n",
    "    alpha = cd.alpha(tdel, (fluen, fluene), (fper, e_fper), (bc, bce))\n",
    "    # plt.hist(alpha.distribution,alpha=0.5,label=obs.table[i][0],bins=np.arange(30)/2.+30.)\n",
    "    xbar, X_0, incl = cd.hfrac(tdel, alpha, imin=45, imax=63)#, debug=True)\n",
    "    plt.hist(X_0.distribution,alpha=0.5,label=obs.table[3][0]+' ('+str(i-1)+')',bins=np.arange(30)/30.,density=True)\n",
    "\n",
    "plt.xlabel('$X_0$')\n",
    "plt.axvline(0.57,color='r',label='Goodwin et al. (2019)') # central value from johnston20\n",
    "plt.axvline(0.57-0.14,color='r',linestyle='--')\n",
    "plt.axvline(0.57+0.13,color='r',linestyle='--')\n",
    "# plt.xlim(0.4,0.8)\n",
    "# plt.ylim(0,11)\n",
    "plt.legend()"
   ]
  },
  {
   "cell_type": "markdown",
   "metadata": {},
   "source": [
    "## Older analysis below\n",
    "\n",
    "done up to this point following along with the paper, 2020 May"
   ]
  },
  {
   "cell_type": "code",
   "execution_count": 5,
   "metadata": {
    "collapsed": false
   },
   "outputs": [
    {
     "name": "stdout",
     "output_type": "stream",
     "text": [
      "Paper distance estimate for empirical Eddington flux, pure He;\n",
      "  6.5 \\pm 0.3 kpc, compared to my calculation 6.46 \\pm 0.61 kpc\n",
      "  (not sure why error seems to be a factor of 2 too small)\n",
      "1.0 0.25881904510252074\n",
      "Taking into account anisotropy (for all possible inclinations), 6.80_1.00^1.10 kpc\n",
      "1.0 0.25881904510252074\n"
     ]
    },
    {
     "data": {
      "text/plain": [
       "<matplotlib.lines.Line2D at 0x116e78208>"
      ]
     },
     "execution_count": 5,
     "metadata": {},
     "output_type": "execute_result"
    },
    {
     "data": {
      "image/png": "[encoded data removed]",
      "text/plain": [
       "<Figure size 432x288 with 1 Axes>"
      ]
     },
     "metadata": {
      "needs_background": "light"
     },
     "output_type": "display_data"
    }
   ],
   "source": [
    "# This is the older analysis which replicate's Maurizio's original analysis\n",
    "\n",
    "# Determine the distance; Maurizio gets 6.5 \\pm 0.3 kpc (pure He)\n",
    "# Compare what's in the curent paper draft\n",
    "\n",
    "dhe0, dhe0_err = cd.dist(F_pk, F_pk_err, empirical=True, isotropic=True)\n",
    "print ('''Paper distance estimate for empirical Eddington flux, pure He;\n",
    "  6.5 \\pm 0.3 kpc, compared to my calculation {:.2f} \\pm {:.2f}\n",
    "  (not sure why error seems to be a factor of 2 too small)'''.format( dhe0.value, dhe0_err ))\n",
    "\n",
    "# A \"better\" estimate is as follows\n",
    "\n",
    "dhe, dhe_err = cd.dist(F_pk, F_pk_err, empirical=True)\n",
    "print ('Taking into account anisotropy (for all possible inclinations), {:.2f}_{:.2f}^{:.2f}'.format(\n",
    "    dhe.value, -dhe_err[0].value, dhe_err[1]))\n",
    "\n",
    "# And we now have a constraint on the inclination, 28-30 degrees, from Sanna et al;\n",
    "# see the block below for those calculations\n",
    "\n",
    "# ... and can get the full distribution like so\n",
    "\n",
    "dist2 = cd.dist(F_pk, F_pk_err, empirical=True, fulldist=True, plot=True)\n",
    "#print (len(dist2['dist']))\n",
    "plt.axvline(dhe0.value,color='r')\n",
    "plt.axvline((dhe0-dhe0_err).value,color='r',ls='--')\n",
    "plt.axvline((dhe0+dhe0_err).value,color='r',ls='--')\n",
    "\n",
    "# dist2['dist']\n",
    "\n",
    "# Check the prefactor in the paper\n",
    "\n",
    "# dist(3e-8*u.erg/u.cm**2/u.s, 0.0)"
   ]
  },
  {
   "cell_type": "code",
   "execution_count": 2,
   "metadata": {
    "collapsed": false
   },
   "outputs": [
    {
     "name": "stdout",
     "output_type": "stream",
     "text": [
      "1.0 0.25881904510252074\n"
     ]
    },
    {
     "data": {
      "text/plain": [
       "[<matplotlib.lines.Line2D at 0x1167a8550>]"
      ]
     },
     "execution_count": 2,
     "metadata": {},
     "output_type": "execute_result"
    },
    {
     "data": {
      "image/png": "[encoded data removed]",
      "text/plain": [
       "<Figure size 432x288 with 1 Axes>"
      ]
     },
     "metadata": {
      "needs_background": "light"
     },
     "output_type": "display_data"
    }
   ],
   "source": [
    "# Testing the idist function here\n",
    "\n",
    "x = cd.iso_dist(nsamp=100000)\n",
    "x.unit\n",
    "plt.hist(x.value,bins=20,density=True)\n",
    "plt.plot(x.value,np.sin(x.value/180.*np.pi)/43,'.')"
   ]
  },
  {
   "cell_type": "code",
   "execution_count": 3,
   "metadata": {
    "collapsed": false
   },
   "outputs": [
    {
     "name": "stdout",
     "output_type": "stream",
     "text": [
      "0.17364817766693041 6.123233995736766e-17\n",
      "Trying to replicate Hauke's latest analysis for the Eddington luminosity for 4U 0513-40\n",
      "  Isotropic L_Edd = (2.82 \\pm 0.32)e38 erg/s\n",
      "  Including inclination constraints L_Edd = (4.96_-0.64^0.69)e38 erg/s\n"
     ]
    },
    {
     "data": {
      "image/png": "[encoded data removed]",
      "text/plain": [
       "<Figure size 432x288 with 1 Axes>"
      ]
     },
     "metadata": {
      "needs_background": "light"
     },
     "output_type": "display_data"
    }
   ],
   "source": [
    "# Testing the L_Edd function with inclination limits\n",
    "\n",
    "src ='4U 0513-40'\n",
    "flux_unit = 1e-9*u.erg/u.cm**2/u.s\n",
    "L_Edd1, L_Edd1_err = cd.L_Edd(22.2*flux_unit, 2.4*flux_unit, 10.3*u.kpc, 0.2*u.kpc, isotropic=True)\n",
    "L_Edd2 = cd.L_Edd(22.2*flux_unit, 2.4*flux_unit, 10.3*u.kpc, 0.2*u.kpc, imin=80, imax=90, fulldist=True)\n",
    "\n",
    "res = np.percentile(L_Edd2['L_Edd'],(50,16,84))/1e38\n",
    "ledd_plot = plt.hist(L_Edd2['L_Edd'].value,bins=40,density=True)\n",
    "plt.axvline(res[0]*1e38,color='g')\n",
    "plt.axvline(res[1]*1e38,color='g',ls='--')\n",
    "plt.axvline(res[2]*1e38,color='g',ls='--')\n",
    "plt.axvline(L_Edd1.value,color='r')\n",
    "plt.axvline((L_Edd1+L_Edd1_err).value,color='r',ls='--')\n",
    "plt.axvline((L_Edd1-L_Edd1_err).value,color='r',ls='--')\n",
    "\n",
    "print('''Trying to replicate Hauke's latest analysis for the Eddington luminosity for {}\n",
    "  Isotropic L_Edd = ({:.2f} \\pm {:.2f})e38 erg/s\n",
    "  Including inclination constraints L_Edd = ({:.2f}_{:.2f}^{:.2f})e38 erg/s'''.format(src, \n",
    "                                            L_Edd1.value/1e38, L_Edd1_err.value/1e38,\n",
    "                                            res[0],(res[1]-res[0]),res[2]-res[0]))"
   ]
  },
  {
   "cell_type": "code",
   "execution_count": 16,
   "metadata": {
    "collapsed": false
   },
   "outputs": [
    {
     "data": {
      "text/plain": [
       "<matplotlib.lines.Line2D at 0x1180f4b70>"
      ]
     },
     "execution_count": 16,
     "metadata": {},
     "output_type": "execute_result"
    },
    {
     "data": {
      "image/png": "[encoded data removed]",
      "text/plain": [
       "<Figure size 432x288 with 1 Axes>"
      ]
     },
     "metadata": {
      "needs_background": "light"
     },
     "output_type": "display_data"
    }
   ],
   "source": [
    "# Show here the relation between the inclination angle and the distance\n",
    "\n",
    "plt.plot(dist2['i'],dist2['dist'],'.')\n",
    "plt.xlabel('Inclination (deg)')\n",
    "plt.ylabel('Distance (kpc)')\n",
    "plt.axvline(28,color='g')\n",
    "plt.axvline(30,color='g')"
   ]
  },
  {
   "cell_type": "code",
   "execution_count": 18,
   "metadata": {
    "collapsed": false
   },
   "outputs": [
    {
     "name": "stdout",
     "output_type": "stream",
     "text": [
      "Paper ignition column estimate for d=6.5 kpc, He burning (Q_nuc = 1.60 MeV/nucleon):\n",
      "  3.7E8 g/cm^2, compared to my (isotropic) calculation 3.70e+08 \\pm 3.36e+07 g / cm2;\n",
      "  or for H-burning, with Xbar set so that Q_nuc = 4.40 MeV/nucleon; \n",
      "  0.5E8 g/cm^2, compared to 1.34e+08 \\pm 1.22e+07 g / cm2\n"
     ]
    },
    {
     "data": {
      "text/plain": [
       "<matplotlib.lines.Line2D at 0x118498550>"
      ]
     },
     "execution_count": 18,
     "metadata": {},
     "output_type": "execute_result"
    },
    {
     "data": {
      "image/png": "[encoded data removed]",
      "text/plain": [
       "<Figure size 432x288 with 1 Axes>"
      ]
     },
     "metadata": {
      "needs_background": "light"
     },
     "output_type": "display_data"
    }
   ],
   "source": [
    "# Ignition column\n",
    "# to get the same calculation as in the paper, we need to fudge the Xbar value to get\n",
    "# Q_nuc = 4.4\n",
    "\n",
    "Xbar = 0.5191\n",
    "# print (\"{} =? 4.4\".format(1.31+6.95*Xbar-1.92*Xbar**2))\n",
    "Xbar2 = 0.04222\n",
    "# print (\"{} =? 1.6\".format(1.31+6.95*Xbar2-1.92*Xbar2**2))\n",
    "       \n",
    "yhe, yhe_err = cd.yign(E_b, E_b_err, 6.5*u.kpc, Xbar=Xbar2, isotropic=True)\n",
    "yh, yh_err = cd.yign(E_b, E_b_err, 6.5*u.kpc, Xbar=Xbar, isotropic=True)\n",
    "print ('''Paper ignition column estimate for d={} kpc, He burning (Q_nuc = {:.2f} MeV/nucleon):\n",
    "  3.7E8 g/cm^2, compared to my (isotropic) calculation {:.2e} \\pm {:.2e};\n",
    "  or for H-burning, with Xbar set so that Q_nuc = {:.2f} MeV/nucleon; \n",
    "  0.5E8 g/cm^2, compared to {:.2e} \\pm {:.2e}'''.format( \n",
    "    6.5, 1.31+6.95*Xbar2-1.92*Xbar2**2, yhe.value, yhe_err, 1.31+6.95*Xbar-1.92*Xbar**2, yh.value, yh_err ))\n",
    "\n",
    "# For comparison, we here determine an updated version\n",
    "\n",
    "y2 = cd.yign(E_b, E_b_err, dist2['dist'], inclination=dist2['i'], fulldist=True)\n",
    "# print (\"{:.3e}\".format(y1))\n",
    "\n",
    "y2_plot = plt.hist(y2['yign'].value,bins=40)\n",
    "plt.axvline(np.percentile(y2['yign'],50),color='g')\n",
    "plt.axvline(np.percentile(y2['yign'],16),color='g',ls='--')\n",
    "plt.axvline(np.percentile(y2['yign'],84),color='g',ls='--')\n",
    "\n",
    "plt.axvline(yh.value,color='r')\n",
    "plt.axvline((yh-yh_err).value,color='r',ls='--')\n",
    "plt.axvline((yh+yh_err).value,color='r',ls='--')"
   ]
  },
  {
   "cell_type": "code",
   "execution_count": 19,
   "metadata": {
    "collapsed": false
   },
   "outputs": [
    {
     "name": "stdout",
     "output_type": "stream",
     "text": [
      "Recurrence times are 1.92 d and 0.70 d, respectively\n"
     ]
    },
    {
     "data": {
      "text/plain": [
       "<matplotlib.lines.Line2D at 0x1185f29e8>"
      ]
     },
     "execution_count": 19,
     "metadata": {},
     "output_type": "execute_result"
    },
    {
     "data": {
      "image/png": "[encoded data removed]",
      "text/plain": [
       "<Figure size 432x288 with 1 Axes>"
      ]
     },
     "metadata": {
      "needs_background": "light"
     },
     "output_type": "display_data"
    }
   ],
   "source": [
    "# Then can estimate recurrence time; first option follows the \"naive\" calculation\n",
    "\n",
    "dt0_hi, dt0_lo = (yhe/m1*1.31).to('d'), (yh/m1*1.31).to('d')\n",
    "print (\"Recurrence times are {:.2f} and {:.2f}, respectively\".format(\n",
    "    dt0_hi, dt0_lo ))\n",
    "\n",
    "# Now do a more robust one\n",
    "\n",
    "dt1 = y2['yign']/m2['mdot']*1.31\n",
    "\n",
    "plt.hist(dt1.to('d').value,bins=40,density=True)\n",
    "plt.xlabel('Recurrence time (d)')\n",
    "plt.axvline(np.percentile(dt1.to('d'),50),color='g')\n",
    "plt.axvline(np.percentile(dt1.to('d'),16),color='g',ls='--')\n",
    "plt.axvline(np.percentile(dt1.to('d'),84),color='g',ls='--')\n",
    "\n",
    "plt.axvline(dt0_hi.value,color='r')#,ls='--')\n",
    "plt.axvline(dt0_lo.value,color='r')#,ls='--')\n",
    "\n"
   ]
  },
  {
   "cell_type": "code",
   "execution_count": 92,
   "metadata": {
    "collapsed": false
   },
   "outputs": [
    {
     "name": "stdout",
     "output_type": "stream",
     "text": [
      "[0.16500086 0.73060055]\n",
      "[0.00049733 0.01677256]\n"
     ]
    },
    {
     "data": {
      "image/png": "[encoded data removed]",
      "text/plain": [
       "<Figure size 432x288 with 1 Axes>"
      ]
     },
     "metadata": {
      "needs_background": "light"
     },
     "output_type": "display_data"
    }
   ],
   "source": [
    "# plt.plot(x_0,Xbar,'.')\n",
    "plt.hist(Xbar)\n",
    "plt.hist(Xbar[g])\n",
    "\n",
    "x95 = np.percentile(x_0[g],[5,95])\n",
    "print (x95)\n",
    "z95 = np.percentile(Z_CNO[g],[5,95])\n",
    "print (z95)"
   ]
  },
  {
   "cell_type": "markdown",
   "metadata": {},
   "source": [
    "## 2 (or more) bursts\n",
    "\n",
    "See the example for XMMU J181227.8-181234 below. Here 6 bursts were observed over an exposure time of 0.3446 d, with many gaps in between. So we compute a distribution of mean recurrence times consistent with the measurements, and propagate this distribution through to the rest of the calculation"
   ]
  },
  {
   "cell_type": "code",
   "execution_count": 11,
   "metadata": {
    "collapsed": false
   },
   "outputs": [
    {
     "name": "stdout",
     "output_type": "stream",
     "text": [
      "Assumed M_NS = 1.4 solMass, R_NS = 11.2000 km, 1+z = 1.2590, Z_CNO = 0.02\n",
      "6.6739999999999995 4.446 9.470320000000001\n",
      "Synthetic distribution of tdel has 1.378_-0.505^0.482 h\n",
      "alpha = 574.85 (68% range 354.58-987.74)\n"
     ]
    },
    {
     "data": {
      "image/png": "[encoded data removed]",
      "text/plain": [
       "<Figure size 432x288 with 1 Axes>"
      ]
     },
     "metadata": {
      "needs_background": "light"
     },
     "output_type": "display_data"
    }
   ],
   "source": [
    "# Observations\n",
    "\n",
    "exp = (0.3446*u.d).to('hr') # total exposure\n",
    "nburst = 6 # total number of bursts observed (excluding SWT bursts)\n",
    "\n",
    "fluen, fluene = 24.1, 7.3 # 1e-9 erg/cm^2\n",
    "# fluen *= 2. # for testing\n",
    "# fluene *=2.\n",
    "# tdel, tdel_err = 1.38*u.hr, 0.56*u.hr\n",
    "pflux, pfluxe = 1.19, 0.16 # 1e-9 erg/cm^2/s\n",
    "bc = 2.522\n",
    "f_unit = 1e-9*u.erg/u.cm**2\n",
    "\n",
    "# Assumptions here\n",
    "\n",
    "opz_def = cd.opz(1.4*const.M_sun,11.2*u.km)\n",
    "\n",
    "xmax = 0.77\n",
    "zcno_def = 0.02\n",
    "# zcno_def = 0.05 # acceptance fraction up to 13%\n",
    "nbin=10000\n",
    "\n",
    "# some tests here\n",
    "\n",
    "# opz_def*=1.1\n",
    "\n",
    "z_def = opz_def-1.\n",
    "print (\"Assumed M_NS = {}, R_NS = {:.4f}, 1+z = {:.4f}, Z_CNO = {}\".format(\n",
    "#    M_NS,R_NS,1.+z_def,zcno_def))\n",
    "    1.4*u.M_sun,11.2*u.km,1.+z_def,zcno_def))\n",
    "\n",
    "# Estimate tdel and error based on Poisson stats\n",
    "\n",
    "# Generate random iterates matching the cumulative distribution function\n",
    "\n",
    "mu = np.arange(15000)/500. # [0-30]\n",
    "\n",
    "prob = 1-poisson.cdf(nburst,mu)\n",
    "\n",
    "x = np.random.random(nbin)\n",
    "y = [mu[np.argmin(abs(prob-_x))] for _x in x]\n",
    "\n",
    "# plt.hist(y)\n",
    "tdel = exp/nburst\n",
    "\n",
    "lim = np.percentile(y,(16,50,84))\n",
    "print (lim[1],lim[0],lim[2])\n",
    "print ('Synthetic distribution of tdel has {:.3f}_{:.3f}^{:.3f}'.format(\n",
    "    tdel.value,(exp/lim[2]-tdel).value,exp/lim[0]-tdel))\n",
    "\n",
    "# Draw nbin samples from the fluence and pflux distributions, consistent with the \n",
    "# estimated uncertainties\n",
    "\n",
    "fluen = np.random.normal(loc=fluen, scale=fluene, size=nbin)\n",
    "pflux = np.random.normal(loc=pflux, scale=pfluxe, size=nbin)\n",
    "# tdel = exp/3.620\n",
    "tdel = exp/y\n",
    "\n",
    "# plt.hist(pflux,bins=20)\n",
    "\n",
    "# Calculate alpha and plot the histogram\n",
    "\n",
    "alpha = pflux*f_unit/u.s*bc*tdel.to('s')/(fluen*f_unit)\n",
    "# print (np.isscalar(alpha))\n",
    "\n",
    "plt.hist(alpha,bins=6000,density=True)\n",
    "plt.xlabel('alpha')\n",
    "plt.xlim(100,2000)\n",
    "# print (len(alpha))\n",
    "# print (np.isscalar(alpha[3]))\n",
    "\n",
    "# Also show the statistics\n",
    "\n",
    "print (\"alpha = {:.2f} (68% range {:.2f}-{:.2f})\".format(np.percentile(alpha,50),\n",
    "                                                       np.percentile(alpha,16),\n",
    "                                                       np.percentile(alpha,84)))"
   ]
  },
  {
   "cell_type": "code",
   "execution_count": 12,
   "metadata": {
    "collapsed": false
   },
   "outputs": [
    {
     "name": "stdout",
     "output_type": "stream",
     "text": [
      "1.0 0.25881904510252074\n"
     ]
    }
   ],
   "source": [
    "# print (len(alpha))\n",
    "\n",
    "xbar, _x_0, i = cd.hfrac(alpha,tdel,1+z_def,zcno=zcno_def,isotropic=False)#,debug=True)"
   ]
  },
  {
   "cell_type": "code",
   "execution_count": 13,
   "metadata": {
    "collapsed": false
   },
   "outputs": [
    {
     "name": "stdout",
     "output_type": "stream",
     "text": [
      "Accepting 2.09% of samples\n",
      "For assumed 1+z = 1.2590, Z_CNO = 0.020, X_0 = 0.0556_0.0249^0.1044 (< 0.1565 @ 95%)\n",
      "i = 27.2_12.2^41.7\n",
      "10000 10000 10000 10000 10000 10000 10000\n"
     ]
    },
    {
     "data": {
      "image/png": "[encoded data removed]",
      "text/plain": [
       "<Figure size 432x288 with 1 Axes>"
      ]
     },
     "metadata": {
      "needs_background": "light"
     },
     "output_type": "display_data"
    }
   ],
   "source": [
    "plt.hist(_x_0)\n",
    "plt.xlim(-0.1,0.8)\n",
    "plt.ylim(0,200)\n",
    "plt.xlabel('inferred X_0')\n",
    "plt.axvline(x=xmax,linestyle='--',color='k')\n",
    "plt.axvline(x=0,linestyle='--',color='k')\n",
    "\n",
    "good=np.logical_and(_x_0 <= xmax,_x_0 > 0)\n",
    "\n",
    "# Stats on the accepted samples\n",
    "\n",
    "print (\"Accepting {}% of samples\".format(\n",
    "    100.*len(np.where(good)[0])/len(alpha)))\n",
    "\n",
    "# Display results\n",
    "\n",
    "print (\"For assumed 1+z = {:.4f}, Z_CNO = {:.3f}, X_0 = {:.4f}_{:.4f}^{:.4f} (< {:.4f} @ 95%)\".format(\n",
    "    1+z_def,zcno_def,np.percentile(_x_0[good],50),\n",
    "        np.percentile(_x_0[good],16),\n",
    "        np.percentile(_x_0[good],84),\n",
    "        np.percentile(_x_0[good],95)))\n",
    "print (\"i = {:.1f}_{:.1f}^{:.1f}\".format(\n",
    "    np.percentile(i[good],50),np.percentile(i[good],16),\n",
    "       np.percentile(i[good],84)))\n",
    "\n",
    "\n",
    "\n",
    "plt.plot(_x_0,i,'.')\n",
    "plt.plot(_x_0[good],i[good],'.')\n",
    "\n",
    "# Here we write out all the results\n",
    "\n",
    "import pandas as pd\n",
    "\n",
    "print (len(fluen),len(pflux),len(tdel),len(alpha),len(_x_0),len(i),len(xbar))\n",
    "xi_p, xi_b = cd.diskmodel.anisotropy(i)\n",
    "\n",
    "d = {'fluen': fluen, 'pflux': pflux, 'tdel': tdel, 'alpha': alpha,\n",
    "     'xbar': xbar, 'x_0': _x_0, 'theta': i, 'xi_p': xi_p, 'xi_b': xi_b}\n",
    "\n",
    "results = pd.DataFrame(data = d)\n",
    "# plt.hist(results['alpha'],bins=100)\n",
    "results.to_csv('1812-182_sim_results.csv')"
   ]
  },
  {
   "cell_type": "markdown",
   "metadata": {},
   "source": [
    "## 2 or more bursts, individual measurements\n",
    "\n",
    "Here's another example to get the column for bursts from XTE J1814-338. In this case we have multiple measurements of the recurrence time, alpha, and fluence, from MINBAR\n",
    "\n",
    "Distance is unknown but the most energetic burst seen by _RXTE_ has spectral variations suggesting radius expansion; stroh03a used this to estimate the distance.\n",
    "\n",
    "wang17a constrained the inclination to between 35-78 degrees"
   ]
  },
  {
   "cell_type": "code",
   "execution_count": 78,
   "metadata": {
    "collapsed": false
   },
   "outputs": [
    {
     "data": {
      "text/html": [
       "<div>\n",
       "<style scoped>\n",
       "    .dataframe tbody tr th:only-of-type {\n",
       "        vertical-align: middle;\n",
       "    }\n",
       "\n",
       "    .dataframe tbody tr th {\n",
       "        vertical-align: top;\n",
       "    }\n",
       "\n",
       "    .dataframe thead th {\n",
       "        text-align: right;\n",
       "    }\n",
       "</style>\n",
       "<table border=\"1\" class=\"dataframe\">\n",
       "  <thead>\n",
       "    <tr style=\"text-align: right;\">\n",
       "      <th></th>\n",
       "      <th>trec</th>\n",
       "      <th>tdel</th>\n",
       "      <th>alpha</th>\n",
       "      <th>alpha_err</th>\n",
       "      <th>bfluen</th>\n",
       "      <th>bfluene</th>\n",
       "    </tr>\n",
       "  </thead>\n",
       "  <tbody>\n",
       "    <tr>\n",
       "      <th>3095.0</th>\n",
       "      <td>6.728</td>\n",
       "      <td>6.728</td>\n",
       "      <td>89.274</td>\n",
       "      <td>2.088</td>\n",
       "      <td>0.248</td>\n",
       "      <td>0.003</td>\n",
       "    </tr>\n",
       "    <tr>\n",
       "      <th>3103.0</th>\n",
       "      <td>6.878</td>\n",
       "      <td>6.879</td>\n",
       "      <td>81.148</td>\n",
       "      <td>3.884</td>\n",
       "      <td>0.276</td>\n",
       "      <td>0.006</td>\n",
       "    </tr>\n",
       "    <tr>\n",
       "      <th>3107.0</th>\n",
       "      <td>6.961</td>\n",
       "      <td>13.921</td>\n",
       "      <td>90.715</td>\n",
       "      <td>5.015</td>\n",
       "      <td>0.252</td>\n",
       "      <td>0.004</td>\n",
       "    </tr>\n",
       "    <tr>\n",
       "      <th>3109.0</th>\n",
       "      <td>4.553</td>\n",
       "      <td>4.554</td>\n",
       "      <td>52.849</td>\n",
       "      <td>1.454</td>\n",
       "      <td>0.270</td>\n",
       "      <td>0.005</td>\n",
       "    </tr>\n",
       "  </tbody>\n",
       "</table>\n",
       "</div>"
      ],
      "text/plain": [
       "         trec    tdel   alpha  alpha_err  bfluen  bfluene\n",
       "3095.0  6.728   6.728  89.274      2.088   0.248    0.003\n",
       "3103.0  6.878   6.879  81.148      3.884   0.276    0.006\n",
       "3107.0  6.961  13.921  90.715      5.015   0.252    0.004\n",
       "3109.0  4.553   4.554  52.849      1.454   0.270    0.005"
      ]
     },
     "execution_count": 78,
     "metadata": {},
     "output_type": "execute_result"
    }
   ],
   "source": [
    "src = 'XTE J1814-338'\n",
    "\n",
    "# MINBAR data:\n",
    "# 3092 & 3099 are candidate short-recurrence time bursts, substantially weaker than the others\n",
    "# so omit these from the analysis for now\n",
    "data = np.array([# [3092, 2.325, 2.326,56.732, 1.541, 0.129, 0.002], \n",
    "                 [3095, 6.728, 6.728,89.274, 2.088, 0.248, 0.003],\n",
    "                 # [3099, 1.692, 1.692,78.620, 7.198, 0.072, 0.006],\n",
    "                 [3103, 6.878, 6.879,81.148, 3.884, 0.276, 0.006],\n",
    "                 [3107, 6.961,13.921,90.715, 5.015, 0.252, 0.004],\n",
    "                 [3109, 4.553, 4.554,52.849, 1.454, 0.270, 0.005]])\n",
    "\n",
    "minbar = pd.DataFrame(data[0:,1:], index=data[0:,0], \n",
    "                      columns=['trec','tdel','alpha','alpha_err','bfluen','bfluene'])\n",
    "minbar\n"
   ]
  },
  {
   "cell_type": "code",
   "execution_count": 79,
   "metadata": {
    "collapsed": false
   },
   "outputs": [],
   "source": [
    "fluen, fluene = np.mean(minbar['bfluen']), np.std(minbar['bfluen']) # 1e-6 erg/cm^2\n",
    "pflux_pre, pflux_pre_e = 23.09, 1.38 # 1e-9 erg/cm^2/s\n",
    "f_unit = 1e-9*u.erg/u.cm**2/u.s\n"
   ]
  },
  {
   "cell_type": "code",
   "execution_count": 80,
   "metadata": {
    "collapsed": false
   },
   "outputs": [
    {
     "name": "stdout",
     "output_type": "stream",
     "text": [
      "1.0 0.25881904510252074\n",
      "[-0.01877318  0.26101496  0.43776537  0.11973681] [-1.          0.45615283  0.83266495  0.24874162] [74.434091   55.74161885 27.14538996 74.51927755] deg\n",
      "0.8191520442889918 0.20791169081775945\n"
     ]
    }
   ],
   "source": [
    "xbar, _x_0, i = cd.hfrac(minbar['alpha'].values,minbar['tdel'].values*u.hr,isotropic=False)\n",
    "print (xbar, _x_0, i)\n",
    "\n",
    "# Calculate the distance; replicating stroh03a\n",
    "\n",
    "d, d_err = cd.dist(pflux_pre*f_unit, pflux_pre_e*f_unit, empirical=False, X=0.7, isotropic=True)\n",
    "\n",
    "# Perhaps more realistic\n",
    "\n",
    "d = cd.dist(pflux_pre*f_unit, pflux_pre_e*f_unit, empirical=True, imin=35, imax=78, fulldist=True)\n",
    "# print (d,d_err)"
   ]
  },
  {
   "cell_type": "code",
   "execution_count": 81,
   "metadata": {
    "collapsed": false
   },
   "outputs": [
    {
     "name": "stdout",
     "output_type": "stream",
     "text": [
      "14.148_-0.996^+1.093 \\times 10^7 g/cm^2\n"
     ]
    }
   ],
   "source": [
    "yh, yh_err = cd.yign(fluen*1e-6*u.erg/u.cm**2, fluene*1e-6*u.erg/u.cm**2, \n",
    "                     d['dist'], inclination=d['i'], Xbar=0.3)\n",
    "print (\"{:.3f}_{:+.3f}^{:+.3f} \\\\times 10^7 g/cm^2\".format(yh.value/1e7, yh_err[0].value/1e7, yh_err[1].value/1e7))"
   ]
  },
  {
   "cell_type": "code",
   "execution_count": 46,
   "metadata": {
    "collapsed": true
   },
   "outputs": [],
   "source": []
  },
  {
   "cell_type": "markdown",
   "metadata": {},
   "source": [
    "# Xbar runs\n",
    "Zac incorporated Adelle's runs with measured Xbar into his grids (roughly), and the code below (copied from the \"Burst matching\" notebook) sets the paths and reads in an example file.\n",
    "\n",
    "With these files we can create simulated bursts and then check the inferred Xbar with that measured from the Kepler results"
   ]
  },
  {
   "cell_type": "code",
   "execution_count": 3,
   "metadata": {
    "collapsed": false
   },
   "outputs": [
    {
     "name": "stdout",
     "output_type": "stream",
     "text": [
      "<TableColumns names=('batch','qb','x','accrate','mass','num','run','xbar','xbar_std','xign','y','z','tshift','xi','qb_delay','lburn','qnuc')>\n",
      "Mass values:  {1.4}\n"
     ]
    },
    {
     "ename": "NameError",
     "evalue": "name 'plt' is not defined",
     "output_type": "error",
     "traceback": [
      "\u001b[0;31m---------------------------------------------------------------------------\u001b[0m",
      "\u001b[0;31mNameError\u001b[0m                                 Traceback (most recent call last)",
      "\u001b[0;32m<ipython-input-3-4b58e62ffeb4>\u001b[0m in \u001b[0;36m<module>\u001b[0;34m()\u001b[0m\n\u001b[1;32m     26\u001b[0m \u001b[0;31m# Show a different cut through the grid\u001b[0m\u001b[0;34m\u001b[0m\u001b[0;34m\u001b[0m\u001b[0m\n\u001b[1;32m     27\u001b[0m \u001b[0;34m\u001b[0m\u001b[0m\n\u001b[0;32m---> 28\u001b[0;31m \u001b[0mplt\u001b[0m\u001b[0;34m.\u001b[0m\u001b[0mplot\u001b[0m\u001b[0;34m(\u001b[0m\u001b[0mparam\u001b[0m\u001b[0;34m[\u001b[0m\u001b[0;34m'mass'\u001b[0m\u001b[0;34m]\u001b[0m\u001b[0;34m,\u001b[0m\u001b[0mparam\u001b[0m\u001b[0;34m[\u001b[0m\u001b[0;34m'accrate'\u001b[0m\u001b[0;34m]\u001b[0m\u001b[0;34m,\u001b[0m\u001b[0;34m'.'\u001b[0m\u001b[0;34m)\u001b[0m\u001b[0;34m\u001b[0m\u001b[0m\n\u001b[0m\u001b[1;32m     29\u001b[0m \u001b[0;31m# Show histogram of mass values\u001b[0m\u001b[0;34m\u001b[0m\u001b[0;34m\u001b[0m\u001b[0m\n\u001b[1;32m     30\u001b[0m \u001b[0;31m# print (\"Accretion rate values: \",set(param['accrate']*param['xi']))\u001b[0m\u001b[0;34m\u001b[0m\u001b[0;34m\u001b[0m\u001b[0m\n",
      "\u001b[0;31mNameError\u001b[0m: name 'plt' is not defined"
     ]
    }
   ],
   "source": [
    "from astropy.io import ascii\n",
    "\n",
    "# Tried to import the modules, but there were too many unmet dependencies\n",
    "# and other Zac-specific settings\n",
    "\n",
    "# from pygrids.grid_analyser import grid_analyser\n",
    "\n",
    "# Instead just read the summary and parameter files and read directly\n",
    "\n",
    "# path='kepler_grids/sources/gs1826'\n",
    "path = '/Users/Shared/data/kepler_grids/sources/adelle'\n",
    "# data = ascii.read(path+'/summ_gs1826.txt')\n",
    "data = ascii.read(path+'/summ/summ_adelle.txt')\n",
    "# type(data)\n",
    "# print (data.columns)\n",
    "\n",
    "# Show cut through grid\n",
    "\n",
    "# plt.plot(data['h'],data['z'],'.')\n",
    "\n",
    "# param = ascii.read(path+'/params_gs1826.txt')\n",
    "param = ascii.read(path+'/params/params_adelle.txt')\n",
    "print (param.columns)\n",
    "print (\"Mass values: \",set(param['mass']))\n",
    "\n",
    "# Show a different cut through the grid\n",
    "\n",
    "plt.plot(param['mass'],param['accrate'],'.')\n",
    "# Show histogram of mass values\n",
    "# print (\"Accretion rate values: \",set(param['accrate']*param['xi']))\n",
    "print (\"Q_b values: \",set(param['qb']))\n",
    "\n",
    "# plt.hist(param['mass'],bins=[1.35,1.45,1.55,1.65,1.75,1.85,1.95,2.05])\n",
    "# plt.ylim(0,10)"
   ]
  },
  {
   "cell_type": "code",
   "execution_count": 40,
   "metadata": {
    "collapsed": false
   },
   "outputs": [
    {
     "name": "stdout",
     "output_type": "stream",
     "text": [
      "/Users/Shared/data/kepler_grids/sources/adelle mean_lightcurves/adelle_1/adelle_1_run5_mean.data\n",
      "[4]\n",
      "batch run     tDel      uTDel   lAcc  z    h \n",
      "----- --- ----------- --------- ---- ---- ---\n",
      "    1   5 3500.726085 88.085026  0.3 0.02 0.6\n",
      "batch run accrate   xbar   mass  z  \n",
      "----- --- ------- -------- ---- ----\n",
      "    1   5     0.3 0.562868  1.4 0.02\n",
      "** WARNING ** insufficient parameters defined to convert to observed frame\n",
      "1.305717832582133\n"
     ]
    },
    {
     "ename": "AttributeError",
     "evalue": "'KeplerBurst' object has no attribute 'print'",
     "output_type": "error",
     "traceback": [
      "\u001b[0;31m---------------------------------------------------------------------------\u001b[0m",
      "\u001b[0;31mAttributeError\u001b[0m                            Traceback (most recent call last)",
      "\u001b[0;32m<ipython-input-40-cc8072f6ca11>\u001b[0m in \u001b[0;36m<module>\u001b[0;34m()\u001b[0m\n\u001b[1;32m     37\u001b[0m \u001b[0mprint\u001b[0m \u001b[0;34m(\u001b[0m\u001b[0mopz\u001b[0m\u001b[0;34m)\u001b[0m\u001b[0;34m\u001b[0m\u001b[0m\n\u001b[1;32m     38\u001b[0m \u001b[0mxbar5\u001b[0m\u001b[0;34m.\u001b[0m\u001b[0mplot\u001b[0m\u001b[0;34m(\u001b[0m\u001b[0;34m)\u001b[0m\u001b[0;34m\u001b[0m\u001b[0m\n\u001b[0;32m---> 39\u001b[0;31m \u001b[0mxbar5\u001b[0m\u001b[0;34m.\u001b[0m\u001b[0mprint\u001b[0m\u001b[0;34m(\u001b[0m\u001b[0;34m)\u001b[0m\u001b[0;34m\u001b[0m\u001b[0m\n\u001b[0m\u001b[1;32m     40\u001b[0m \u001b[0;31m# plt.plot(lc['time'],lc['luminosity'])\u001b[0m\u001b[0;34m\u001b[0m\u001b[0;34m\u001b[0m\u001b[0m\n",
      "\u001b[0;31mAttributeError\u001b[0m: 'KeplerBurst' object has no attribute 'print'"
     ]
    },
    {
     "data": {
      "image/png": "[encoded data removed]",
      "text/plain": [
       "<matplotlib.figure.Figure at 0x116d7be48>"
      ]
     },
     "metadata": {},
     "output_type": "display_data"
    }
   ],
   "source": [
    "# Specify the model run by the batch and run number\n",
    "\n",
    "batch=1\n",
    "run=5\n",
    "\n",
    "# slightly different filename convention here\n",
    "\n",
    "filename='mean_lightcurves/adelle_{}/adelle_{}_run{}_mean.data'.format(\n",
    "    batch,batch,run)\n",
    "# filename='/mean_lightcurves/adelle_{}/'.format(batch)+filename\n",
    "print (path,filename)\n",
    "\n",
    "# lc = ascii.read(path+'/mean_lightcurves/adelle_{}/'.format(batch)+filename)\n",
    "# print (lc.columns)\n",
    "\n",
    "# Extract the corresponding model values from the table\n",
    "\n",
    "# row=np.where(data['batch'] == 2 & data['run'] == 9)[0]\n",
    "row=np.where(np.logical_and(data['batch'] == batch,data['run'] == run))[0]\n",
    "prow=np.where(np.logical_and(param['batch'] == batch,param['run'] == run))[0]\n",
    "\n",
    "# data[rows]\n",
    "# print (data.columns, param.columns)\n",
    "print (row)\n",
    "print (data[row][['batch','run','tDel','uTDel','lAcc','z','h']])\n",
    "print (param[prow][['batch','run','accrate','xbar','mass','z']])\n",
    "# row=np.flatnonzero(data['batch'] == 2 & data['run'] == 9)[0]\n",
    "# row\n",
    "# data[row]\n",
    "\n",
    "g = cd.g(param[prow]['mass']*const.M_sun,10*u.km)\n",
    "opz = cd.opz(param[prow]['mass']*const.M_sun,10*u.km)\n",
    "xbar5 = cd.KeplerBurst(filename,path=path,lAcc=data[row]['lAcc'],\n",
    "                    Z=data[row]['z'],H=data[row]['h'],\n",
    "                    tdel=data[row]['tDel']/opz,tdel_err=data[row]['uTDel']/opz,\n",
    "                    g=g, opz=opz)\n",
    "print (opz)\n",
    "xbar5.plot()\n",
    "xbar5.print()\n",
    "# plt.plot(lc['time'],lc['luminosity'])"
   ]
  },
  {
   "cell_type": "markdown",
   "metadata": {},
   "source": [
    "# Inferring Xbar\n",
    "As a preliminary test, we use the set of \"xbar\" runs as for the paper, which have a measured Xbar (mean H-fraction at ignition).\n",
    "\n",
    "These data can be found in the local directory concord/kepler\n",
    "\n",
    "Lightcurve files seem to be some binary format, I don't know how to read them. Asked Adelle (8/10/18)"
   ]
  },
  {
   "cell_type": "code",
   "execution_count": 42,
   "metadata": {
    "collapsed": false
   },
   "outputs": [
    {
     "name": "stdout",
     "output_type": "stream",
     "text": [
      "Got 60 runs listed in summary file\n",
      "kepler/xbar-runs/run14/run14.lc\n"
     ]
    }
   ],
   "source": [
    "xbar_path = 'kepler/xbar-runs/'\n",
    "xbar_table = ascii.read(xbar_path+'allruns_attribs.txt')\n",
    "\n",
    "print (\"Got {} runs listed in summary file\".format(len(xbar_table)))\n",
    "\n",
    "xbar_table\n",
    "\n",
    "# Pick a random one and try to read in the file\n",
    "\n",
    "dir='run{}'.format(floor(xbar_table['runid'][13]))\n",
    "lc = xbar_path+dir+'/'+dir+'.lc'\n",
    "print (lc)"
   ]
  },
  {
   "cell_type": "markdown",
   "metadata": {},
   "source": [
    "## Simulated data\n",
    "The simulated data have been created with the \"Burst Matching\" notebook; first we read in the tables corresponding to the observed properties, as well as the \"secret\" table (including the input simulation parameters)\n",
    "\n",
    "Key columns are below:\n",
    "* (tdel, tdel_err) = data['col3'], data['col4']\n",
    "* (fper, fper_err) = data['col5'], data['col6']\n",
    "* bc = data['col7']\n",
    "* Z_CNO = data_secret['col5']\n",
    "* X_0 = data_secret['col7']\n",
    "* i = data_secret['col16']\n",
    "* 1+z = data_secret['col17']"
   ]
  },
  {
   "cell_type": "code",
   "execution_count": 26,
   "metadata": {
    "collapsed": false
   },
   "outputs": [
    {
     "data": {
      "text/html": [
       "<i>Table length=30</i>\n",
       "<table id=\"table4624968168\" class=\"table-striped table-bordered table-condensed\">\n",
       "<thead><tr><th>col1</th><th>col2</th><th>col3</th><th>col4</th><th>col5</th><th>col6</th><th>col7</th></tr></thead>\n",
       "<thead><tr><th>int64</th><th>int64</th><th>float64</th><th>float64</th><th>float64</th><th>float64</th><th>float64</th></tr></thead>\n",
       "<tr><td>0</td><td>0</td><td>2.4473</td><td>0.0504</td><td>1.2633e-09</td><td>6e-12</td><td>1.806</td></tr>\n",
       "<tr><td>0</td><td>1</td><td>2.7985</td><td>0.0591</td><td>1.0983e-09</td><td>6e-12</td><td>1.806</td></tr>\n",
       "<tr><td>0</td><td>2</td><td>3.7056</td><td>0.0729</td><td>8.1417e-10</td><td>6e-12</td><td>1.806</td></tr>\n",
       "<tr><td>1</td><td>0</td><td>2.7538</td><td>0.0831</td><td>3.8215e-10</td><td>6e-12</td><td>1.806</td></tr>\n",
       "<tr><td>1</td><td>1</td><td>3.1466</td><td>0.0841</td><td>3.3222e-10</td><td>6e-12</td><td>1.806</td></tr>\n",
       "<tr><td>1</td><td>2</td><td>4.3953</td><td>0.1557</td><td>2.4629e-10</td><td>6e-12</td><td>1.806</td></tr>\n",
       "<tr><td>2</td><td>0</td><td>2.3926</td><td>0.0383</td><td>5.1541e-09</td><td>6e-12</td><td>1.806</td></tr>\n",
       "<tr><td>2</td><td>1</td><td>2.7309</td><td>0.0504</td><td>4.4807e-09</td><td>6e-12</td><td>1.806</td></tr>\n",
       "<tr><td>2</td><td>2</td><td>3.6777</td><td>0.0857</td><td>3.3217e-09</td><td>6e-12</td><td>1.806</td></tr>\n",
       "<tr><td>3</td><td>0</td><td>2.7775</td><td>0.0696</td><td>1.3822e-09</td><td>6e-12</td><td>1.806</td></tr>\n",
       "<tr><td>...</td><td>...</td><td>...</td><td>...</td><td>...</td><td>...</td><td>...</td></tr>\n",
       "<tr><td>6</td><td>2</td><td>6.6047</td><td>0.1956</td><td>1.4625e-09</td><td>6e-12</td><td>1.806</td></tr>\n",
       "<tr><td>7</td><td>0</td><td>5.6692</td><td>0.2364</td><td>8.5794e-09</td><td>6e-12</td><td>1.806</td></tr>\n",
       "<tr><td>7</td><td>1</td><td>6.8199</td><td>0.2553</td><td>7.4584e-09</td><td>6e-12</td><td>1.806</td></tr>\n",
       "<tr><td>7</td><td>2</td><td>9.5548</td><td>0.4438</td><td>5.5292e-09</td><td>6e-12</td><td>1.806</td></tr>\n",
       "<tr><td>8</td><td>0</td><td>3.0893</td><td>0.0716</td><td>9.7694e-10</td><td>6e-12</td><td>1.806</td></tr>\n",
       "<tr><td>8</td><td>1</td><td>3.5271</td><td>0.1105</td><td>8.493e-10</td><td>6e-12</td><td>1.806</td></tr>\n",
       "<tr><td>8</td><td>2</td><td>4.777</td><td>0.1684</td><td>6.2961e-10</td><td>6e-12</td><td>1.806</td></tr>\n",
       "<tr><td>9</td><td>0</td><td>2.664</td><td>0.0923</td><td>3.5003e-09</td><td>6e-12</td><td>1.806</td></tr>\n",
       "<tr><td>9</td><td>1</td><td>3.0299</td><td>0.1403</td><td>3.043e-09</td><td>6e-12</td><td>1.806</td></tr>\n",
       "<tr><td>9</td><td>2</td><td>4.2092</td><td>0.1913</td><td>2.2558e-09</td><td>6e-12</td><td>1.806</td></tr>\n",
       "</table>"
      ],
      "text/plain": [
       "<Table length=30>\n",
       " col1  col2   col3    col4     col5      col6    col7 \n",
       "int64 int64 float64 float64  float64   float64 float64\n",
       "----- ----- ------- ------- ---------- ------- -------\n",
       "    0     0  2.4473  0.0504 1.2633e-09   6e-12   1.806\n",
       "    0     1  2.7985  0.0591 1.0983e-09   6e-12   1.806\n",
       "    0     2  3.7056  0.0729 8.1417e-10   6e-12   1.806\n",
       "    1     0  2.7538  0.0831 3.8215e-10   6e-12   1.806\n",
       "    1     1  3.1466  0.0841 3.3222e-10   6e-12   1.806\n",
       "    1     2  4.3953  0.1557 2.4629e-10   6e-12   1.806\n",
       "    2     0  2.3926  0.0383 5.1541e-09   6e-12   1.806\n",
       "    2     1  2.7309  0.0504 4.4807e-09   6e-12   1.806\n",
       "    2     2  3.6777  0.0857 3.3217e-09   6e-12   1.806\n",
       "    3     0  2.7775  0.0696 1.3822e-09   6e-12   1.806\n",
       "  ...   ...     ...     ...        ...     ...     ...\n",
       "    6     2  6.6047  0.1956 1.4625e-09   6e-12   1.806\n",
       "    7     0  5.6692  0.2364 8.5794e-09   6e-12   1.806\n",
       "    7     1  6.8199  0.2553 7.4584e-09   6e-12   1.806\n",
       "    7     2  9.5548  0.4438 5.5292e-09   6e-12   1.806\n",
       "    8     0  3.0893  0.0716 9.7694e-10   6e-12   1.806\n",
       "    8     1  3.5271  0.1105  8.493e-10   6e-12   1.806\n",
       "    8     2   4.777  0.1684 6.2961e-10   6e-12   1.806\n",
       "    9     0   2.664  0.0923 3.5003e-09   6e-12   1.806\n",
       "    9     1  3.0299  0.1403  3.043e-09   6e-12   1.806\n",
       "    9     2  4.2092  0.1913 2.2558e-09   6e-12   1.806"
      ]
     },
     "execution_count": 26,
     "metadata": {},
     "output_type": "execute_result"
    }
   ],
   "source": [
    "path='sim10'\n",
    "data = ascii.read(path+'/sim_info.csv')\n",
    "data_secret = ascii.read(path+'_secret.csv')\n",
    "\n",
    "# data_secret\n",
    "data"
   ]
  },
  {
   "cell_type": "markdown",
   "metadata": {},
   "source": [
    "Here's a test of the new routine, for one row"
   ]
  },
  {
   "cell_type": "code",
   "execution_count": 14,
   "metadata": {
    "collapsed": false
   },
   "outputs": [
    {
     "name": "stdout",
     "output_type": "stream",
     "text": [
      "Assumed M_NS = 1.4 solMass, R_NS = 11.2000 km, 1+z = 1.2590, Z_CNO = 0.02\n"
     ]
    }
   ],
   "source": [
    "# Assumptions here\n",
    "\n",
    "opz_def = cd.opz(1.4*const.M_sun,11.2*u.km)\n",
    "z_def = opz_def-1.\n",
    "zcno_def = 0.02\n",
    "\n",
    "print (\"Assumed M_NS = {}, R_NS = {:.4f}, 1+z = {:.4f}, Z_CNO = {}\".format(\n",
    "#    M_NS,R_NS,1.+z_def,zcno_def))\n",
    "    1.4*u.M_sun,11.2*u.km,1.+z_def,zcno_def))"
   ]
  },
  {
   "cell_type": "code",
   "execution_count": 3,
   "metadata": {
    "collapsed": false
   },
   "outputs": [
    {
     "name": "stdout",
     "output_type": "stream",
     "text": [
      "<linfit.linfit.<locals>.Bunch object at 0x11393cf28>\n",
      "** WARNING ** extrapolated fluence > stat_error, replacing\n",
      "Fluence: 1.302e-06 erg / cm2, tdel: 2.77750 h, alpha: 19.1646, c_bol: 1.8060\n",
      "Assumed M_NS = 1.4 solMass, R_NS = 11.2000 km, 1+z = 1.2590, Z_CNO = 0.02\n",
      "Inferred x_0: 1.7770, actual: 0.6800\n",
      "1000\n",
      "Actual M_NS = 1.4 solMass, R_NS = 25.4474 km, 1+z = 1.0927, Z_CNO = 0.0075\n",
      "Check x_0: 0.5900\n"
     ]
    },
    {
     "data": {
      "image/png": "[encoded data removed]",
      "text/plain": [
       "<Figure size 432x288 with 1 Axes>"
      ]
     },
     "metadata": {},
     "output_type": "display_data"
    }
   ],
   "source": [
    "i=9\n",
    "\n",
    "data['col1'][i]\n",
    "b1 = ObservedBurst('sim{}_{}.csv'.format(data['col1'][i],data['col2'][i]),path=path)\n",
    "\n",
    "# Extract all the observeables\n",
    "\n",
    "fluen, fluene = b1.fluence(plot=True)\n",
    "tdel = data['col3'][i]*u.hr\n",
    "tdel_err = data['col4'][i]*u.hr\n",
    "fper = data['col5'][i]*u.erg/u.cm**2/u.s\n",
    "fper_err = data['col6'][i]*fper.unit\n",
    "# Some question about whether the bolometric correction was correctly applied for the \n",
    "# persistent flux below\n",
    "# Now resolved\n",
    "c_bol = data['col7'][i]\n",
    "# c_bol = 1.0\n",
    "# Calculate derived quantities\n",
    "\n",
    "alpha = tdel.to('s')*fper*c_bol/fluen\n",
    "alpha_err = alpha*sqrt((tdel_err/tdel)**2+(fper_err/fper)**2\n",
    "                       +(fluene/fluen)**2)\n",
    "\n",
    "print (\"Fluence: {:.4g}, tdel: {:.5f}, alpha: {:.4f}, c_bol: {:.4f}\".format(\n",
    "    fluen,tdel,alpha,c_bol))\n",
    "\n",
    "# Need to calculate actual NS parameters from redshift (col17), mass\n",
    "# (col13) and inclination (col16)\n",
    "\n",
    "M_NS = data_secret['col13'][i]*u.M_sun\n",
    "z_actual = data_secret['col17'][i]-1.\n",
    "R_NS = (2*const.G*M_NS/const.c**2/(1.-1/(1.+z_actual)**2)).to('km')\n",
    "# print (1.+z_actual,\" =? \",opz(M_NS,R_NS))\n",
    "zcno_actual = data_secret['col5'][i]\n",
    "inclination_actual = data_secret['col16'][i]*u.deg\n",
    "# print (xi_b,xi_p,inclination_actual)\n",
    "\n",
    "# Calculate the inferred value given the assumed redshift, and neglecting \n",
    "# anisotropy\n",
    "\n",
    "xbar, x_0, i_True = hfrac(alpha,tdel,1+z_def,isotropic=True)\n",
    "\n",
    "print (\"Inferred x_0: {:.4f}, actual: {:.4f}\".format(x_0,data_secret['col7'][i]))\n",
    "\n",
    "# Try the statistical version\n",
    "\n",
    "xbar, x_0, i_False = hfrac(alpha,tdel,1+z_def,isotropic=False)\n",
    "print (len(xbar))\n",
    "# plt.hist(x_0,bins=20)\n",
    "\n",
    "# Calculate the actual value taking into account all the effects\n",
    "\n",
    "print (\"Actual M_NS = {}, R_NS = {:.4f}, 1+z = {:.4f}, Z_CNO = {}\".format(\n",
    "    M_NS,R_NS,1.+z_actual,zcno_actual))\n",
    "\n",
    "# xbar_check = min([0.77,z_actual*alpha_0/alpha*(xi_b/xi_p)-0.96/6.6])\n",
    "# print (xbar_check,xi_b,xi_p)\n",
    "# x_0_check = min([0.77,xbar_check+0.35*(tdel/((1.+z_actual)*9.8*u.hr))*(zcno_actual/0.02)])\n",
    "xbar_check, x_0_check, dummy = hfrac(alpha,tdel,opz=1+z_actual,zcno=zcno_actual,inclination=inclination_actual)\n",
    "print (\"Check x_0: {:.4f}\".format(x_0_check))"
   ]
  },
  {
   "cell_type": "markdown",
   "metadata": {},
   "source": [
    "Now loop over all the available simulated bursts and determine the h-fraction for each"
   ]
  },
  {
   "cell_type": "code",
   "execution_count": 4,
   "metadata": {
    "collapsed": false
   },
   "outputs": [
    {
     "name": "stdout",
     "output_type": "stream",
     "text": [
      "<linfit.linfit.<locals>.Bunch object at 0x11393cf98>\n",
      "** WARNING ** extrapolated fluence > stat_error, replacing\n",
      "hfrac: adopting 1000 samples to match size of alpha array\n",
      "** WARNING ** assuming inclination in degrees\n",
      "<linfit.linfit.<locals>.Bunch object at 0x113acbeb8>\n",
      "** WARNING ** extrapolated fluence > stat_error, replacing\n",
      "hfrac: adopting 1000 samples to match size of alpha array\n",
      "** WARNING ** assuming inclination in degrees\n",
      "<linfit.linfit.<locals>.Bunch object at 0x113abf3c8>\n",
      "** WARNING ** extrapolated fluence > stat_error, replacing\n",
      "hfrac: adopting 1000 samples to match size of alpha array\n",
      "** WARNING ** assuming inclination in degrees\n",
      "<linfit.linfit.<locals>.Bunch object at 0x1140509e8>\n",
      "** WARNING ** extrapolated fluence > stat_error, replacing\n",
      "hfrac: adopting 1000 samples to match size of alpha array\n",
      "** WARNING ** assuming inclination in degrees\n",
      "<linfit.linfit.<locals>.Bunch object at 0x113a14358>\n",
      "** WARNING ** extrapolated fluence > stat_error, replacing\n",
      "hfrac: adopting 1000 samples to match size of alpha array\n",
      "** WARNING ** assuming inclination in degrees\n",
      "<linfit.linfit.<locals>.Bunch object at 0x1140509b0>\n",
      "hfrac: adopting 1000 samples to match size of alpha array\n",
      "** WARNING ** assuming inclination in degrees\n",
      "<linfit.linfit.<locals>.Bunch object at 0x114050cc0>\n",
      "** WARNING ** extrapolated fluence > stat_error, replacing\n",
      "hfrac: adopting 1000 samples to match size of alpha array\n",
      "** WARNING ** assuming inclination in degrees\n",
      "<linfit.linfit.<locals>.Bunch object at 0x113a12d30>\n",
      "** WARNING ** extrapolated fluence > stat_error, replacing\n",
      "hfrac: adopting 1000 samples to match size of alpha array\n",
      "** WARNING ** assuming inclination in degrees\n",
      "<linfit.linfit.<locals>.Bunch object at 0x113abf828>\n",
      "** WARNING ** extrapolated fluence > stat_error, replacing\n",
      "hfrac: adopting 1000 samples to match size of alpha array\n",
      "** WARNING ** assuming inclination in degrees\n",
      "<linfit.linfit.<locals>.Bunch object at 0x113914940>\n",
      "** WARNING ** extrapolated fluence > stat_error, replacing\n",
      "hfrac: adopting 1000 samples to match size of alpha array\n",
      "** WARNING ** assuming inclination in degrees\n",
      "<linfit.linfit.<locals>.Bunch object at 0x11404fcf8>\n",
      "** WARNING ** extrapolated fluence > stat_error, replacing\n",
      "hfrac: adopting 1000 samples to match size of alpha array\n",
      "** WARNING ** assuming inclination in degrees\n",
      "<linfit.linfit.<locals>.Bunch object at 0x113a14358>\n",
      "hfrac: adopting 1000 samples to match size of alpha array\n",
      "** WARNING ** assuming inclination in degrees\n",
      "<linfit.linfit.<locals>.Bunch object at 0x113a12198>\n",
      "** WARNING ** extrapolated fluence > stat_error, replacing\n",
      "hfrac: adopting 1000 samples to match size of alpha array\n",
      "** WARNING ** assuming inclination in degrees\n",
      "<linfit.linfit.<locals>.Bunch object at 0x113acbf28>\n",
      "** WARNING ** extrapolated fluence > stat_error, replacing\n",
      "hfrac: adopting 1000 samples to match size of alpha array\n",
      "** WARNING ** assuming inclination in degrees\n",
      "<linfit.linfit.<locals>.Bunch object at 0x114050080>\n",
      "** WARNING ** extrapolated fluence > stat_error, replacing\n",
      "hfrac: adopting 1000 samples to match size of alpha array\n",
      "** WARNING ** assuming inclination in degrees\n",
      "<linfit.linfit.<locals>.Bunch object at 0x11407dbe0>\n",
      "** WARNING ** extrapolated fluence > stat_error, replacing\n",
      "hfrac: adopting 1000 samples to match size of alpha array\n",
      "** WARNING ** assuming inclination in degrees\n",
      "<linfit.linfit.<locals>.Bunch object at 0x1140a9390>\n",
      "** WARNING ** extrapolated fluence > stat_error, replacing\n",
      "hfrac: adopting 1000 samples to match size of alpha array\n",
      "** WARNING ** assuming inclination in degrees\n",
      "<linfit.linfit.<locals>.Bunch object at 0x11407dba8>\n",
      "** WARNING ** extrapolated fluence > stat_error, replacing\n",
      "hfrac: adopting 1000 samples to match size of alpha array\n",
      "** WARNING ** assuming inclination in degrees\n",
      "<linfit.linfit.<locals>.Bunch object at 0x113a12a58>\n",
      "** WARNING ** extrapolated fluence > stat_error, replacing\n",
      "hfrac: adopting 1000 samples to match size of alpha array\n",
      "** WARNING ** assuming inclination in degrees\n",
      "<linfit.linfit.<locals>.Bunch object at 0x113a14358>\n",
      "** WARNING ** extrapolated fluence > stat_error, replacing\n",
      "hfrac: adopting 1000 samples to match size of alpha array\n",
      "** WARNING ** assuming inclination in degrees\n",
      "<linfit.linfit.<locals>.Bunch object at 0x114050048>\n",
      "** WARNING ** extrapolated fluence > stat_error, replacing\n",
      "hfrac: adopting 1000 samples to match size of alpha array\n",
      "** WARNING ** assuming inclination in degrees\n",
      "<linfit.linfit.<locals>.Bunch object at 0x1140a94a8>\n",
      "** WARNING ** extrapolated fluence > stat_error, replacing\n",
      "hfrac: adopting 1000 samples to match size of alpha array\n",
      "** WARNING ** assuming inclination in degrees\n",
      "<linfit.linfit.<locals>.Bunch object at 0x113914940>\n",
      "** WARNING ** extrapolated fluence > stat_error, replacing\n",
      "hfrac: adopting 1000 samples to match size of alpha array\n",
      "** WARNING ** assuming inclination in degrees\n",
      "<linfit.linfit.<locals>.Bunch object at 0x114050f60>\n",
      "** WARNING ** extrapolated fluence > stat_error, replacing\n",
      "hfrac: adopting 1000 samples to match size of alpha array\n",
      "** WARNING ** assuming inclination in degrees\n",
      "<linfit.linfit.<locals>.Bunch object at 0x1140eb550>\n",
      "** WARNING ** extrapolated fluence > stat_error, replacing\n",
      "hfrac: adopting 1000 samples to match size of alpha array\n",
      "** WARNING ** assuming inclination in degrees\n",
      "<linfit.linfit.<locals>.Bunch object at 0x11404f710>\n",
      "** WARNING ** extrapolated fluence > stat_error, replacing\n",
      "hfrac: adopting 1000 samples to match size of alpha array\n",
      "** WARNING ** assuming inclination in degrees\n",
      "<linfit.linfit.<locals>.Bunch object at 0x113914940>\n",
      "hfrac: adopting 1000 samples to match size of alpha array\n",
      "** WARNING ** assuming inclination in degrees\n",
      "<linfit.linfit.<locals>.Bunch object at 0x11407df98>\n",
      "** WARNING ** extrapolated fluence > stat_error, replacing\n",
      "hfrac: adopting 1000 samples to match size of alpha array\n",
      "** WARNING ** assuming inclination in degrees\n",
      "<linfit.linfit.<locals>.Bunch object at 0x113a12c50>\n",
      "** WARNING ** extrapolated fluence > stat_error, replacing\n",
      "hfrac: adopting 1000 samples to match size of alpha array\n",
      "** WARNING ** assuming inclination in degrees\n",
      "<linfit.linfit.<locals>.Bunch object at 0x11404fba8>\n",
      "** WARNING ** extrapolated fluence > stat_error, replacing\n",
      "hfrac: adopting 1000 samples to match size of alpha array\n",
      "** WARNING ** assuming inclination in degrees\n"
     ]
    }
   ],
   "source": [
    "xmax = 0.77\n",
    "\n",
    "# specify how we want to treat the alpha values\n",
    "\n",
    "alpha_dist = True\n",
    "nsamp = 1000\n",
    "\n",
    "# Set up the output lists\n",
    "\n",
    "x_0_isotropic = []\n",
    "x_0_best = []\n",
    "x_0_actual = []\n",
    "x_0 = []\n",
    "x_0_err = []\n",
    "\n",
    "# Now run the loop\n",
    "\n",
    "for i in range(len(data)):\n",
    "\n",
    "    data['col1'][i]\n",
    "    b1 = ObservedBurst('sim{}_{}.csv'.format(data['col1'][i],data['col2'][i]),path=path)\n",
    "\n",
    "# Extract all the observeables\n",
    "\n",
    "    c_bol = data['col7'][i]\n",
    "    fluen, fluene = b1.fluence()\n",
    "    tdel = data['col3'][i]*u.hr\n",
    "    tdel_err = data['col4'][i]*u.hr\n",
    "    fper = data['col5'][i]*u.erg/u.cm**2/u.s\n",
    "    fper_err = data['col6'][i]*fper.unit\n",
    "\n",
    "# Calculate derived quantities\n",
    "\n",
    "    if alpha_dist:\n",
    "        alpha = ( np.random.normal(loc=tdel.to('s').value, scale=tdel_err.to('s').value, size=nsamp)\n",
    "                  * np.random.normal(loc=fper.value, scale=fper_err.value, size=nsamp) * c_bol \n",
    "                  / np.random.normal(loc=fluen.value, scale=fluene.value, size=nsamp) )\n",
    "    else:\n",
    "        alpha = tdel.to('s')*fper*c_bol/fluen\n",
    "        alpha_err = alpha*sqrt((tdel_err/tdel)**2+(fper_err/fper)**2\n",
    "                       +(fluene/fluen)**2)\n",
    "\n",
    "        print (\"row {}: fluence: {:.4g}, tdel: {:.5f}, alpha: {:.4f}, c_bol: {:.4f}\".format(\n",
    "            i,fluen,tdel,alpha,c_bol))\n",
    "\n",
    "# Generate values typical from earlier efforts to do this\n",
    "\n",
    "    xbar, _x_0, dummy = hfrac(alpha,tdel,1+z_def,isotropic=True,old_relation=True)\n",
    "\n",
    "    if alpha_dist:\n",
    "        x_0_isotropic.append(min([xmax,np.percentile(_x_0,50)]))\n",
    "    else:\n",
    "        x_0_isotropic.append(min([xmax,_x_0]))\n",
    "    x_0_actual.append(data_secret['col7'][i])\n",
    "\n",
    "# Generate the best possible estimate\n",
    "\n",
    "    xbar, _x_0, dummy = hfrac(alpha,tdel,data_secret['col17'][i],\n",
    "                              zcno=data_secret['col5'][i],\n",
    "                              isotropic=False,inclination=data_secret['col16'][i],\n",
    "                              debug=True)\n",
    "#    x_0_best.append(min([xmax,_x_0]))\n",
    "    \n",
    "    if alpha_dist:\n",
    "        x_0_best.append(np.percentile(_x_0,50))\n",
    "    else:\n",
    "        x_0_best.append(_x_0)\n",
    "\n",
    "# Generate more up-to-date (and hopefully more precise) estimates\n",
    "\n",
    "    xbar, _x_0, dummy = hfrac(alpha,tdel,1+z_def,isotropic=False)\n",
    "    good = np.where(_x_0 <= xmax)[0]\n",
    "    if len(good) > 0:\n",
    "        x_0.append(np.mean(_x_0[good]))\n",
    "        x_0_err.append(0.5*(np.percentile(_x_0[good],84)\n",
    "                            -np.percentile(_x_0[good],16)))\n",
    "    else:\n",
    "        x_0.append(xmax)\n",
    "        x_0_err.append(0.0)"
   ]
  },
  {
   "cell_type": "markdown",
   "metadata": {},
   "source": [
    "What we find here typically is that the \"best\" value (using input 1+z, Z_CNO) overestimates the true value, while the isotropic value underestimates it.\n",
    "\n",
    "The version incorporating a distribution of inclinations comes somewhere in the middle"
   ]
  },
  {
   "cell_type": "code",
   "execution_count": 5,
   "metadata": {
    "collapsed": false
   },
   "outputs": [
    {
     "data": {
      "text/plain": [
       "<matplotlib.legend.Legend at 0x114245eb8>"
      ]
     },
     "execution_count": 5,
     "metadata": {},
     "output_type": "execute_result"
    },
    {
     "data": {
      "image/png": "[encoded data removed]",
      "text/plain": [
       "<Figure size 432x288 with 1 Axes>"
      ]
     },
     "metadata": {},
     "output_type": "display_data"
    }
   ],
   "source": [
    "# poster size\n",
    "\n",
    "# plt.figure(figsize=(10,8))\n",
    "\n",
    "plt.plot(np.array(x_0_actual)-0.001,x_0_isotropic,\"o\",label='isotropic')\n",
    "plt.plot(np.array(x_0_actual)-0.002,x_0_best,\"o\",label='best')\n",
    "plt.errorbar(np.array(x_0_actual)+0.001,x_0,x_0_err,fmt=\"o\",label='he16')\n",
    "\n",
    "plt.plot([0.6,0.77],[0.6,0.77],'--')\n",
    "plt.xlabel(\"$X_0$\")\n",
    "plt.ylabel(\"$X_0$ inferred\")\n",
    "plt.legend()\n",
    "\n",
    "# plt.savefig('sim10_comparison.pdf')"
   ]
  },
  {
   "cell_type": "code",
   "execution_count": 143,
   "metadata": {
    "collapsed": false
   },
   "outputs": [
    {
     "data": {
      "text/plain": [
       "[<matplotlib.lines.Line2D at 0x118592e80>]"
      ]
     },
     "execution_count": 143,
     "metadata": {},
     "output_type": "execute_result"
    },
    {
     "data": {
      "image/png": "[encoded data removed]",
      "text/plain": [
       "<Figure size 432x288 with 1 Axes>"
      ]
     },
     "metadata": {},
     "output_type": "display_data"
    }
   ],
   "source": [
    "# Trying here to understand what gives the error we observe\n",
    "\n",
    "# plt.hist(x_0_best-np.array(x_0_actual))\n",
    "# plt.plot(data['col3']/data_secret['col17'],x_0_best-np.array(x_0_actual),'.')\n",
    "plt.plot(data_secret['col7']/data_secret['col5'],x_0_best-np.array(x_0_actual),'.')"
   ]
  },
  {
   "cell_type": "markdown",
   "metadata": {},
   "source": [
    "# XMMU J181227.8-181234 (= XTE J1812-182)\n",
    "\n",
    "Here are some analysis results provided by Adelle on 14.6.18, approximate only; these were subsequently adopted in the submitted version of the paper (checked 22.2.19)"
   ]
  },
  {
   "cell_type": "code",
   "execution_count": 85,
   "metadata": {
    "collapsed": false
   },
   "outputs": [
    {
     "name": "stdout",
     "output_type": "stream",
     "text": [
      "Best estimate of recurrence time is 1.38_-0.52^0.91 h\n"
     ]
    }
   ],
   "source": [
    "import astropy.stats as s\n",
    "\n",
    "# Estimate tdel and error based on Poisson stats\n",
    "\n",
    "exp = (0.3446*u.d).to('hr') # total exposure\n",
    "nburst = 6 # total number of bursts observed (excluding SWT bursts)\n",
    "\n",
    "# Use the function in astropy.stats\n",
    "\n",
    "lim2 = s.poisson_conf_interval(nburst,interval='frequentist-confidence').T\n",
    "\n",
    "print ('Best estimate of recurrence time is {:.2f}_{:.2f}^{:.2f}'.format(\n",
    "    tdel.value,(exp/lim2[1]-tdel).value,exp/lim2[0]-tdel))"
   ]
  },
  {
   "cell_type": "markdown",
   "metadata": {},
   "source": [
    "We run into a problem when we try to generate a synthetic distribution of recurrence times consistent with these limits, because the quoted limits given by both Gehrels et al. and the astropy.stats function poisson_conf_interval give the `n-1` value for the _lower_ limit (not sure why). I illustrate this below"
   ]
  },
  {
   "cell_type": "code",
   "execution_count": 101,
   "metadata": {
    "collapsed": false
   },
   "outputs": [
    {
     "name": "stdout",
     "output_type": "stream",
     "text": [
      "0.9999998824909364\n"
     ]
    },
    {
     "data": {
      "image/png": "[encoded data removed]",
      "text/plain": [
       "<Figure size 432x288 with 1 Axes>"
      ]
     },
     "metadata": {
      "needs_background": "light"
     },
     "output_type": "display_data"
    }
   ],
   "source": [
    "# See https://docs.scipy.org/doc/scipy/reference/generated/scipy.stats.poisson.html\n",
    "\n",
    "mean = np.arange(15000)/500. # [0-30]\n",
    "\n",
    "# This is the cumulative PDF for the mean rate, given the detection of nburst events\n",
    "\n",
    "c = 1-poisson.cdf(nburst,mean)\n",
    "\n",
    "# Now plot, for illustrative purposes\n",
    "\n",
    "plt.plot(mean,c)\n",
    "print (max(c))"
   ]
  },
  {
   "cell_type": "code",
   "execution_count": 102,
   "metadata": {
    "collapsed": false
   },
   "outputs": [
    {
     "name": "stdout",
     "output_type": "stream",
     "text": [
      "Adopting 1-sided confidence value of 0.8413\n",
      "2209 4792 0.15869999999999995 0.8413 4.418 9.584\n",
      "Compare with range in gehrels86 of (3.620,9.584)\n"
     ]
    }
   ],
   "source": [
    "# Now finding the 1-sigma confidence levels\n",
    "\n",
    "conf = 0.8413*2.-1. # 1-sigma = 0.6826\n",
    "# \"double-sided intervals... can be obtained by substituting (1+cl)/2 for cl...\" (gehrels86)\n",
    "conf = (1+conf)/2.\n",
    "print ('Adopting 1-sided confidence value of {:.4f}'.format(conf))\n",
    "\n",
    "iup = np.argmin(abs(c-(1-conf)))\n",
    "ilo = np.argmin(abs(c-conf))\n",
    "\n",
    "print (iup,ilo,(1-conf),conf,mean[iup],mean[ilo])\n",
    "print ('Compare with range in gehrels86 of (3.620,9.584)')"
   ]
  },
  {
   "cell_type": "markdown",
   "metadata": {},
   "source": [
    "So the cumulative distribution limits don't match what's returned by the `poisson_conf_interval` function (nor what's in Gehrels et al. 1986). We can go ahead anyway and generate a distribution matching our function, and then propagate it through to our xbar calculation"
   ]
  },
  {
   "cell_type": "markdown",
   "metadata": {},
   "source": [
    "# SAX J1810.8-2609\n",
    "\n",
    "Here we use some analysis of three bursts observed by RXTE, and calculate the inferred X_0"
   ]
  },
  {
   "cell_type": "code",
   "execution_count": 8,
   "metadata": {
    "collapsed": false
   },
   "outputs": [
    {
     "name": "stdout",
     "output_type": "stream",
     "text": [
      "For assumed 1+z = 1.2590, X_0 = 0.5527_0.3580^0.7017\n",
      "i = 53.7_41.4^66.4\n"
     ]
    },
    {
     "data": {
      "image/png": "[encoded data removed]",
      "text/plain": [
       "<Figure size 432x288 with 1 Axes>"
      ]
     },
     "metadata": {},
     "output_type": "display_data"
    }
   ],
   "source": [
    "xbar, _x_0, i = hfrac(63.5,6.375*u.hr,1+z_def,isotropic=False)\n",
    "\n",
    "plt.hist(_x_0)\n",
    "plt.axvline(x=xmax,linestyle='--',color='k')\n",
    "\n",
    "good=np.where(_x_0 <= xmax)[0]\n",
    "print (\"For assumed 1+z = {:.4f}, X_0 = {:.4f}_{:.4f}^{:.4f}\".format(\n",
    "    1+z_def,np.percentile(_x_0[good],50),np.percentile(_x_0[good],16),\n",
    "       np.percentile(_x_0[good],84)))\n",
    "print (\"i = {:.1f}_{:.1f}^{:.1f}\".format(\n",
    "    np.percentile(i[good],50),np.percentile(i[good],16),\n",
    "       np.percentile(i[good],84)))\n",
    "\n"
   ]
  },
  {
   "cell_type": "code",
   "execution_count": null,
   "metadata": {
    "collapsed": true
   },
   "outputs": [],
   "source": []
  },
  {
   "cell_type": "code",
   "execution_count": null,
   "metadata": {
    "collapsed": true
   },
   "outputs": [],
   "source": []
  }
 ],
 "metadata": {
  "kernelspec": {
   "display_name": "Python 3",
   "language": "python",
   "name": "python3"
  },
  "language_info": {
   "codemirror_mode": {
    "name": "ipython",
    "version": 3
   },
   "file_extension": ".py",
   "mimetype": "text/x-python",
   "name": "python",
   "nbconvert_exporter": "python",
   "pygments_lexer": "ipython3",
   "version": "3.8.5"
  }
 },
 "nbformat": 4,
 "nbformat_minor": 2
}
